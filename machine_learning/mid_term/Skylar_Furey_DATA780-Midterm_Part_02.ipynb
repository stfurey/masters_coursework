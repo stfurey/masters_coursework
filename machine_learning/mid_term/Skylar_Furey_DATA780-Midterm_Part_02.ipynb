{
 "cells": [
  {
   "cell_type": "markdown",
   "id": "42e8c652-56b9-4f30-a923-5e2cc9e2b93c",
   "metadata": {},
   "source": [
    "# DATA-780: Midterm (Applied Problems)\n",
    "\n",
    "## Skylar Furey `stfurey@unc.edu`\n",
    "\n",
    "In this part of the midterm, you will be proposing solutions to applied problems to demonstrate your understanding of topics covered so far in the course. Please make sure to upload **both** the `.ipynb` file  and `.html` generated export to the Canvas page. \n",
    "\n",
    "- You are allowed to use any of the techniques and frameworks discussed in class.\n",
    "- Please include comments in your code, and a brief discussion of the results you obtained.\n",
    "- Use markdown as you see fit to properly document your code and typeset your solutions.\n",
    "- Make sure that code and output is included and properly formatted, and that no error messages are included (or left unexplained)\n",
    "- **DO NOT** use any artificial intelligence (AI) tools to complete this assignment.  "
   ]
  },
  {
   "cell_type": "markdown",
   "id": "b6d4834a-b354-4ad6-8a3e-ec14f9f087c7",
   "metadata": {},
   "source": [
    "## Problem 1 (7 points)\n",
    "\n",
    "In this problem you will be exploring (a subset) of survey data collected by the US National Center for Health Statistics (NCHS) which has conducted a series of health and nutrition surveys since the early 1960's.\n",
    "\n",
    "You can download the dataset from <https://raw.githubusercontent.com/reisanar/datasets/master/nhanes.csv>\n",
    "\n",
    "Variable      | Description\n",
    "--------------|------------------------------------------------\n",
    "`has_diabetes`| Participant has diabetes. `1` = Yes, `0` = No\n",
    "`Gender`      | Gender of study participant\tcoded as `male` or `female`\n",
    "`Age`         | Age in years at screening of study participant\n",
    "`BMI`         | Body mass index (weight/height2 in kg/m2)\n",
    "`Weight`      | Weight in kg\n",
    "`Height`      | Standing height in cm\n",
    "\n",
    "(a) (4 points) Use a logistic regression model to estimate the probability of diabetes as a function of `Age` and `BMI`.\n",
    "\n",
    "\n",
    "(b) (1 points) Which variable is more important: `Age` or `BMI`? Comment on your results.\n",
    "\n",
    "\n",
    "(c) (2 points) Predict the probability that a new participant has diabetes based on hypothetical values for `Age` and `BMI` (choose 3 different cases)\n",
    "\n"
   ]
  },
  {
   "cell_type": "markdown",
   "id": "26226887-8377-4069-8b54-bb7fa07a8fe9",
   "metadata": {},
   "source": [
    "## Solutions to Problem\n",
    "\n",
    "_Include comments as you see fit_"
   ]
  },
  {
   "cell_type": "code",
   "execution_count": 1,
   "id": "a9803cb4",
   "metadata": {},
   "outputs": [],
   "source": [
    "# Hides warnings\n",
    "import warnings\n",
    "warnings.filterwarnings(\"ignore\")"
   ]
  },
  {
   "cell_type": "code",
   "execution_count": 2,
   "id": "3f61e389-a0f7-4096-9b71-974a0c69ce8f",
   "metadata": {},
   "outputs": [
    {
     "name": "stdout",
     "output_type": "stream",
     "text": [
      "Age Variable Importance:  0.056\n",
      "BMI Variable Importance:  0.098\n",
      "Probabilities for Hypothetical Values:  [0.01932525 0.08337916 0.56886634]\n"
     ]
    }
   ],
   "source": [
    "# code goes here\n",
    "import pandas as pd\n",
    "from sklearn.linear_model import LogisticRegression\n",
    "from sklearn.model_selection import train_test_split\n",
    "\n",
    "# Pull data from internet and clean to remove NA data\n",
    "data = pd.read_csv('https://raw.githubusercontent.com/reisanar/datasets/master/nhanes.csv')\n",
    "data= data.dropna()\n",
    "\n",
    "# Set feature and target datasets\n",
    "X = data[['Age', 'BMI']]\n",
    "y = data['has_diabetes']\n",
    "\n",
    "# Split data into train and test sets\n",
    "X_train, X_test, y_train, y_test = train_test_split(X, y, test_size=0.2, random_state=42)\n",
    "\n",
    "# Initialize and fit model\n",
    "model = LogisticRegression()\n",
    "model.fit(X_train, y_train)\n",
    "\n",
    "# Use model coefficients to determine variable importance \n",
    "print('Age Variable Importance: ', round(model.coef_[0][0], 3))\n",
    "print('BMI Variable Importance: ', round(model.coef_[0][1], 3))\n",
    "\n",
    "# Create hypothetical data\n",
    "hypo_data = pd.DataFrame({\n",
    "    'Age': [26, 52, 84],\n",
    "    'BMI': [27.9, 28.7, 37.8]\n",
    "})\n",
    "\n",
    "# Predict probabilities of diabetes for each hypothetical test subject\n",
    "hypo_probs = model.predict_proba(hypo_data)\n",
    "print('Probabilities for Hypothetical Values: ', hypo_probs[:,1])"
   ]
  },
  {
   "cell_type": "markdown",
   "id": "4553254f",
   "metadata": {},
   "source": [
    "The BMI variable is almost double as important as the Age variable when predicting whether or not a person has diabetes. I am also glad that I am part of the 98% of people my age with my BMI without diabetes! This model predicts Type 2 diabetes well but Type 1 Diabetes is much more based on hereditary which is not part of the input features."
   ]
  },
  {
   "cell_type": "markdown",
   "id": "5eed6b59-b543-49e1-84ce-a56a2481c068",
   "metadata": {
    "jp-MarkdownHeadingCollapsed": true
   },
   "source": [
    "## Problem 2 (8 points)\n",
    "\n",
    "In this problem you will use the dataset available at <https://github.com/reisanar/datasets/raw/master/email.csv> to build multiple classification models and compare results.\n",
    "\n",
    "(a) (3 points) Build a logistic regression model using the variables listed below:\n",
    "\n",
    "  Variable      | Description\n",
    "----------------|-----------------------------------------------\n",
    "`spam`          | Specifies whether the message was spam\n",
    "`to_multiple`   | An indicator variable for if more than one person was listed in the _To_ field of the email\n",
    "`cc`            | An indicator for if someone was CCed on the email\n",
    "`attach`        | An indicator for if there was an attachment, such as a document or image\n",
    "`dollar`        | An indicator for if the word _dollar_ or dollar symbol (`$`) appeared in the email\n",
    "`winner`        | An indicator for if the word _winner_ appeared in the email message\n",
    "`inherit`       | An indicator for if the word _inherit_ (or a variation, like _inheritance_) appeared in the email\n",
    "`password`      | An indicator for if the word _password_ was present in the email\n",
    "`format`        | Indicates if the email contained special formatting, such as bolding, tables, or links\n",
    "`re_subj`       | Indicates whether `Re:` was included at the start of the email subject\n",
    "`exclaim_subj`  | Indicates whether any exclamation point was included in the email subject\n",
    "\n",
    "\n",
    "(b) (3 points) Build a Naive-Bayes classifier and comment on your results.\n",
    "\n",
    "\n",
    "(c) (2 points) Can you build a support vector classifier for the same task? Comment on your results.\n",
    "\n",
    "\n",
    "**Note:** you should use the same training and testing sets in the model building and evaluation stages. "
   ]
  },
  {
   "cell_type": "markdown",
   "id": "b36a52f1-d103-412a-a600-6bfb20662ec1",
   "metadata": {},
   "source": [
    "## Solutions to Problem\n",
    "\n",
    "_Include comments as you see fit_"
   ]
  },
  {
   "cell_type": "code",
   "execution_count": 3,
   "id": "836c570c-e50b-4e20-b704-bd2213bfb9df",
   "metadata": {},
   "outputs": [
    {
     "name": "stdout",
     "output_type": "stream",
     "text": [
      "Logistic Regression Accuracy: 0.908\n",
      "Naive-Bayes Accuracy: 0.892\n",
      "Support Vector Machine Accuracy: 0.911\n"
     ]
    }
   ],
   "source": [
    "# code goes here\n",
    "import pandas as pd\n",
    "from sklearn.linear_model import LogisticRegression\n",
    "from sklearn.naive_bayes import MultinomialNB\n",
    "from sklearn.svm import SVC\n",
    "from sklearn.model_selection import train_test_split\n",
    "from sklearn.metrics import accuracy_score\n",
    "\n",
    "# Pull data from internet and make winner feature a boolean\n",
    "data = pd.read_csv('https://github.com/reisanar/datasets/raw/master/email.csv')\n",
    "data['winner'] = data['winner'].replace({'no': 0, 'yes': 1})\n",
    "\n",
    "X = data[['to_multiple', 'cc', 'attach', 'dollar', 'winner', 'inherit', 'password', 'format', 're_subj', 'exclaim_subj']]\n",
    "y = data['spam']\n",
    "\n",
    "# Split data into train and test sets\n",
    "X_train, X_test, y_train, y_test = train_test_split(X, y, test_size=0.2, random_state=42)\n",
    "\n",
    "# Initialize, fit and test Logistic Regression model\n",
    "modelLR = LogisticRegression()\n",
    "modelLR.fit(X_train, y_train)\n",
    "y_predLR = modelLR.predict(X_test)\n",
    "accuracyLR = accuracy_score(y_test, y_predLR)\n",
    "\n",
    "# Initialize, fit and test Naive-Bayes model\n",
    "modelNB = MultinomialNB(alpha=0.1)\n",
    "modelNB.fit(X_train, y_train)\n",
    "y_predNB = modelNB.predict(X_test)\n",
    "accuracyNB = accuracy_score(y_test, y_predNB)\n",
    "\n",
    "# Initialize, fit and test Support Vector Machine model\n",
    "modelSVM = SVC(kernel='rbf')\n",
    "modelSVM.fit(X_train, y_train)\n",
    "y_predSVM = modelSVM.predict(X_test)\n",
    "accuracySVM = accuracy_score(y_test, y_predSVM)\n",
    "\n",
    "print(f\"Logistic Regression Accuracy: {accuracyLR:.3f}\")\n",
    "print(f\"Naive-Bayes Accuracy: {accuracyNB:.3f}\")\n",
    "print(f\"Support Vector Machine Accuracy: {accuracySVM:.3f}\")"
   ]
  },
  {
   "cell_type": "markdown",
   "id": "2b14b0c1",
   "metadata": {},
   "source": [
    "The SVM model is the most accurate, but all of the models are around the sweet spot of 90-95% accuracy on unforeseen data."
   ]
  },
  {
   "cell_type": "markdown",
   "id": "c2d780e8-0f20-4d37-a68e-48b14023f2d2",
   "metadata": {},
   "source": [
    "## Problem 3 (4 points)\n",
    "\n",
    "In this question, we are using the included Wine dataset in sklearn to apply a simple logistic regression. Most of the code is already completed below. Your task is to fill in the initialize model and model fit. The purpose of this question is to check your knowledge of applying a logistic regression and coding up an ML approach. Please, fill in the code to use a Logistic Regression classifier and report the accuracy of the model."
   ]
  },
  {
   "cell_type": "code",
   "execution_count": 4,
   "id": "e4fec9b1-f96e-4aa9-abe5-62ccee6b8084",
   "metadata": {},
   "outputs": [
    {
     "name": "stdout",
     "output_type": "stream",
     "text": [
      "Accuracy: 0.972\n"
     ]
    }
   ],
   "source": [
    "from sklearn.model_selection import train_test_split\n",
    "from sklearn.linear_model import LogisticRegression\n",
    "from sklearn.metrics import accuracy_score\n",
    "from sklearn.datasets import load_wine\n",
    "\n",
    "# Load the Wine dataset\n",
    "data = load_wine()\n",
    "X = data.data  # Features\n",
    "y = data.target  # Target\n",
    "\n",
    "# Split the data with stratification to maintain class balance in train/test sets\n",
    "X_train, X_test, y_train, y_test = train_test_split(X, y, test_size=0.2, random_state=42)\n",
    "\n",
    "# Initialize the model\n",
    "model = LogisticRegression() #TODO\n",
    "\n",
    "# Fit the model\n",
    "model.fit(X_train, y_train) #TODO\n",
    "\n",
    "# Predict the test set\n",
    "y_pred = model.predict(X_test)\n",
    "\n",
    "# Calculate accuracy\n",
    "accuracy = accuracy_score(y_test, y_pred)\n",
    "\n",
    "# Print accuracy with higher precision\n",
    "print(f\"Accuracy: {accuracy:.3f}\")"
   ]
  },
  {
   "cell_type": "markdown",
   "id": "7fac9155",
   "metadata": {},
   "source": [
    "This simple model provides a great baseline for other models accuracy."
   ]
  },
  {
   "cell_type": "markdown",
   "id": "b2f94de2-a84e-4444-a49a-ad968b0d40db",
   "metadata": {},
   "source": [
    "## Problem 4 (4 points)\n",
    "\n",
    "Update the previous code to include a `StandardScaler` and apply it to the `X_train` and `X_test` datasets. \n",
    "Return the updated accuracy with 3 decimal points and comment on your results."
   ]
  },
  {
   "cell_type": "code",
   "execution_count": 5,
   "id": "b2c7f70d-e395-49b7-a5f2-76d4ca1e5944",
   "metadata": {},
   "outputs": [
    {
     "name": "stdout",
     "output_type": "stream",
     "text": [
      "Accuracy: 0.972\n"
     ]
    }
   ],
   "source": [
    "from sklearn.preprocessing import StandardScaler\n",
    "from sklearn.model_selection import train_test_split\n",
    "from sklearn.linear_model import LogisticRegression\n",
    "from sklearn.metrics import accuracy_score\n",
    "from sklearn.datasets import load_wine\n",
    "\n",
    "# Load the Wine dataset\n",
    "data = load_wine()\n",
    "X = data.data  # Features\n",
    "y = data.target  # Target\n",
    "\n",
    "# Split the data with stratification\n",
    "X_train, X_test, y_train, y_test = train_test_split(X, y, test_size=0.2, random_state=42, stratify=y)\n",
    "\n",
    "# Scale the data\n",
    "scaler = StandardScaler() #TODO\n",
    "X_train = scaler.fit_transform(X_train) #TODO\n",
    "X_test = scaler.transform(X_test) #TODO\n",
    "\n",
    "# Initialize the model\n",
    "model = LogisticRegression()\n",
    "\n",
    "# Fit the model\n",
    "model.fit(X_train, y_train)\n",
    "\n",
    "# Predict\n",
    "y_pred = model.predict(X_test)\n",
    "\n",
    "# Calculate accuracy\n",
    "accuracy = accuracy_score(y_test, y_pred)\n",
    "\n",
    "# Print accuracy with higher precision\n",
    "print(f\"Accuracy: {accuracy:.3f}\")"
   ]
  },
  {
   "cell_type": "raw",
   "id": "e14ab744",
   "metadata": {},
   "source": [
    "For this dataset, adding a scaler to the feature data did not improve the accuracy of the model. Logistic Regression models do not improve with scaling as much as other models because it is a linear model."
   ]
  },
  {
   "cell_type": "markdown",
   "id": "ef3605a8-963c-47c1-a844-ea0a3561368a",
   "metadata": {},
   "source": [
    "## Problem 5 (4 points)\n",
    "\n",
    "Complete the code below to implement a Support Vector Machine model. Your support vector machine model should use a radial basis function (RBF) kernel. The purpose of this question is to check your knowledge of SVM code. "
   ]
  },
  {
   "cell_type": "code",
   "execution_count": 6,
   "id": "97128cc6-1315-49a4-98d4-793a19a7c014",
   "metadata": {},
   "outputs": [
    {
     "name": "stdout",
     "output_type": "stream",
     "text": [
      "SVM Model Accuracy: 0.711\n"
     ]
    }
   ],
   "source": [
    "from sklearn.model_selection import train_test_split\n",
    "from sklearn.svm import SVC\n",
    "from sklearn.metrics import accuracy_score\n",
    "from sklearn.datasets import load_wine\n",
    "from sklearn.preprocessing import StandardScaler\n",
    "\n",
    "# Load the Wine dataset\n",
    "data = load_wine()\n",
    "X = data.data  # Features\n",
    "y = data.target  # Target\n",
    "\n",
    "# Split the data\n",
    "X_train, X_test, y_train, y_test = train_test_split(X, y, test_size=0.25, random_state=42, stratify=y)\n",
    "\n",
    "# Initialize model with a radial basis function (RBF) kernel\n",
    "svm_model = SVC(kernel='rbf') #TODO\n",
    "\n",
    "# Fit the model\n",
    "svm_model.fit(X_train, y_train)\n",
    "\n",
    "# Predict\n",
    "y_pred = svm_model.predict(X_test)\n",
    "\n",
    "# Calculate accuracy\n",
    "accuracy = accuracy_score(y_test, y_pred)\n",
    "print(f\"SVM Model Accuracy: {accuracy:.3f}\")"
   ]
  },
  {
   "cell_type": "markdown",
   "id": "95b783eb",
   "metadata": {},
   "source": [
    "The SVM model was much less accurate than the Logistic Regression model without using a scalar."
   ]
  },
  {
   "cell_type": "markdown",
   "id": "80e566f2-f31a-422a-844d-c44385d7e90a",
   "metadata": {},
   "source": [
    "## Problem 6 (4 points)\n",
    "\n",
    "Update the SVM code from the previous problem to include the standard scaler. Report the updated model accuracy and comment on your results. In paritcular, please comment on how a Standard Scaler impacts an SVM compared to a Logistic Regression. "
   ]
  },
  {
   "cell_type": "code",
   "execution_count": 7,
   "id": "389397bf-dcf6-46ae-a0df-2877c281ab6c",
   "metadata": {},
   "outputs": [
    {
     "name": "stdout",
     "output_type": "stream",
     "text": [
      "SVM Model Accuracy: 0.978\n"
     ]
    }
   ],
   "source": [
    "from sklearn.model_selection import train_test_split\n",
    "from sklearn.svm import SVC\n",
    "from sklearn.metrics import accuracy_score\n",
    "from sklearn.datasets import load_wine\n",
    "from sklearn.preprocessing import StandardScaler\n",
    "\n",
    "# Load the Wine dataset\n",
    "data = load_wine()\n",
    "X = data.data  # Features\n",
    "y = data.target  # Target\n",
    "\n",
    "# Split the data\n",
    "X_train, X_test, y_train, y_test = train_test_split(X, y, test_size=0.25, random_state=42, stratify=y)\n",
    "\n",
    "# Scale the data (important for SVM performance)\n",
    "scaler = StandardScaler()\n",
    "X_train = scaler.fit_transform(X_train)\n",
    "X_test = scaler.transform(X_test)\n",
    "\n",
    "# Initialize model with a radial basis function (RBF) kernel\n",
    "svm_model = SVC(kernel='rbf')\n",
    "\n",
    "# Fit the model\n",
    "svm_model.fit(X_train, y_train)\n",
    "\n",
    "# Predict\n",
    "y_pred = svm_model.predict(X_test)\n",
    "\n",
    "# Calculate accuracy\n",
    "accuracy = accuracy_score(y_test, y_pred)\n",
    "print(f\"SVM Model Accuracy: {accuracy:.3f}\")"
   ]
  },
  {
   "cell_type": "markdown",
   "id": "64271fed",
   "metadata": {},
   "source": [
    "Using a scalar dramatically improved the SVM Model and even made it more accurate than the Logistic Regression model. The scalar has much more impact on SVM models because it tries to find a decision boundary; features with larger value ranges have greater impacts on the decision boundary and therefore scaling the features equalizes their impacts."
   ]
  },
  {
   "cell_type": "markdown",
   "id": "cdcc71b2-3b45-4e3c-beac-00c6ca07de41",
   "metadata": {},
   "source": [
    "## Problem 7 (4 points)\n",
    "\n",
    "There are a number of ways to evaluate models. For this question, work to include precision and recall into your code. You can do this directly and by generating a classification report. Comments on your results."
   ]
  },
  {
   "cell_type": "code",
   "execution_count": 8,
   "id": "76d18bc4-cdc0-4c9a-9d39-8e54005b3095",
   "metadata": {},
   "outputs": [
    {
     "name": "stdout",
     "output_type": "stream",
     "text": [
      "SVM Model Accuracy: 0.978\n",
      "Precision: 0.979\n",
      "Recall: 0.978\n",
      "F1 Score: 0.978\n",
      "              precision    recall  f1-score   support\n",
      "\n",
      "           0       1.00      1.00      1.00        15\n",
      "           1       0.95      1.00      0.97        18\n",
      "           2       1.00      0.92      0.96        12\n",
      "\n",
      "    accuracy                           0.98        45\n",
      "   macro avg       0.98      0.97      0.98        45\n",
      "weighted avg       0.98      0.98      0.98        45\n",
      "\n"
     ]
    }
   ],
   "source": [
    "from sklearn.model_selection import train_test_split\n",
    "from sklearn.svm import SVC\n",
    "from sklearn.metrics import accuracy_score\n",
    "from sklearn.metrics import precision_score, recall_score, f1_score\n",
    "from sklearn.metrics import classification_report\n",
    "from sklearn.datasets import load_wine\n",
    "from sklearn.preprocessing import StandardScaler\n",
    "\n",
    "# Load the Wine dataset\n",
    "data = load_wine()\n",
    "X = data.data  # Features\n",
    "y = data.target  # Target\n",
    "\n",
    "# Split the data\n",
    "X_train, X_test, y_train, y_test = train_test_split(X, y, test_size=0.25, random_state=42, stratify=y)\n",
    "\n",
    "# Scale the data (important for SVM performance)\n",
    "scaler = StandardScaler()\n",
    "X_train = scaler.fit_transform(X_train)\n",
    "X_test = scaler.transform(X_test)\n",
    "\n",
    "# Initialize model with a radial basis function (RBF) kernel\n",
    "svm_model = SVC(kernel='rbf')\n",
    "\n",
    "# Fit the model\n",
    "svm_model.fit(X_train, y_train)\n",
    "\n",
    "# Predict\n",
    "y_pred = svm_model.predict(X_test)\n",
    "\n",
    "# Calculate accuracy\n",
    "accuracy = accuracy_score(y_test, y_pred)\n",
    "print(f\"SVM Model Accuracy: {accuracy:.3f}\")\n",
    "\n",
    "# Caluclate precision\n",
    "precision = precision_score(y_test, y_pred, average='weighted')  #TODO: Complete code and include average='weighted' in your code. \n",
    "print(f'Precision: {precision:.3f}')\n",
    "\n",
    "# Calculate recall\n",
    "recall = recall_score(y_test, y_pred, average='weighted')  #TODO: Complete code and include average='weighted' in your code. \n",
    "print(f'Recall: {recall:.3f}')\n",
    "\n",
    "# Calculate F1\n",
    "f1 = f1_score(y_test, y_pred, average='weighted')  #TODO: Complete code include average='weighted' in your code. \n",
    "print(f'F1 Score: {f1:.3f}')\n",
    "\n",
    "# Calculate classification report\n",
    "classification_rep = classification_report(y_test, y_pred) #TODO: Complete code.\n",
    "print(classification_rep)"
   ]
  },
  {
   "cell_type": "markdown",
   "id": "c8bafeb8",
   "metadata": {},
   "source": [
    "The precision for all 3 cultivators was high with the second cultivator being the only one with a false positive, it had 2.\n",
    "\n",
    "The recall was also high for all 3 cultivators with the third being the only one with a false negative, it had 1.\n",
    "\n",
    "The f1-score combines the previous metrics and since the first cultivator had no false positives or negatives, it had a perfect f1-score. The other two cultivators had high f1-scores as well.\n",
    "\n",
    "The second cultivator was the most common in the test set.\n",
    "\n",
    "The overall accuracy of the model was great at 98%, this accuracy is borderline too high which make me wonder if it was overfitted."
   ]
  },
  {
   "cell_type": "markdown",
   "id": "f2f4017c-9b82-44db-b7e9-ff3030bd21cd",
   "metadata": {},
   "source": [
    "## Problem 8 (5 points)\n",
    "\n",
    "Complete the code below to implement a Convolutional Neural Network (CNN) on the MNIST dataset. Comment on your results"
   ]
  },
  {
   "cell_type": "code",
   "execution_count": 9,
   "id": "c98daeb5-d147-46da-b7d7-fb2ecacc34cc",
   "metadata": {},
   "outputs": [
    {
     "name": "stdout",
     "output_type": "stream",
     "text": [
      "Epoch 1/2\n",
      "\u001b[1m750/750\u001b[0m \u001b[32m━━━━━━━━━━━━━━━━━━━━\u001b[0m\u001b[37m\u001b[0m \u001b[1m6s\u001b[0m 7ms/step - accuracy: 0.8572 - loss: 0.4634 - val_accuracy: 0.9788 - val_loss: 0.0707\n",
      "Epoch 2/2\n",
      "\u001b[1m750/750\u001b[0m \u001b[32m━━━━━━━━━━━━━━━━━━━━\u001b[0m\u001b[37m\u001b[0m \u001b[1m5s\u001b[0m 7ms/step - accuracy: 0.9792 - loss: 0.0665 - val_accuracy: 0.9852 - val_loss: 0.0526\n",
      "\u001b[1m313/313\u001b[0m \u001b[32m━━━━━━━━━━━━━━━━━━━━\u001b[0m\u001b[37m\u001b[0m \u001b[1m1s\u001b[0m 2ms/step - accuracy: 0.9844 - loss: 0.0490\n",
      "Test accuracy: 0.986300\n"
     ]
    }
   ],
   "source": [
    "import tensorflow as tf\n",
    "from tensorflow.keras import layers, models\n",
    "from tensorflow.keras.datasets import mnist\n",
    "from tensorflow.keras.utils import to_categorical\n",
    "from sklearn.metrics import accuracy_score\n",
    "\n",
    "# Load the MNIST dataset\n",
    "(X_train, y_train), (X_test, y_test) = mnist.load_data()\n",
    "\n",
    "# Preprocess the data\n",
    "X_train = X_train.reshape((X_train.shape[0], 28, 28, 1))  # Reshape to (28, 28, 1) for grayscale images\n",
    "X_test = X_test.reshape((X_test.shape[0], 28, 28, 1))\n",
    "X_train = X_train.astype('float32') / 255  # Normalize pixel values to [0, 1]\n",
    "X_test = X_test.astype('float32') / 255\n",
    "\n",
    "# One-hot encode the target labels\n",
    "y_train = to_categorical(y_train)\n",
    "y_test = to_categorical(y_test)\n",
    "\n",
    "# Initialize a simple CNN model\n",
    "model = models.Sequential() #TODO\n",
    "\n",
    "# Define the CNN architecture -- Add in the Convolutional, Max Pooling, and Fully-Connected Layers\n",
    "model.add(layers.Conv2D(32, (3, 3), activation='relu', input_shape=(28, 28, 1))) # Add convolutional layer\n",
    "model.add(layers.MaxPooling2D((2, 2)))  # Add max-pooling layer\n",
    "model.add(layers.Conv2D(64, (3, 3), activation='relu'))  # Add another convolutional layer\n",
    "model.add(layers.MaxPooling2D((2, 2)))  # Add another max-pooling layer\n",
    "model.add(layers.Flatten())  # Flatten the feature maps into a vector\n",
    "model.add(layers.Dense(64, activation='relu'))  # Fully connected layer\n",
    "model.add(layers.Dense(10, activation='softmax'))  # Fully connected output layer\n",
    "\n",
    "# Compile the model\n",
    "model.compile(optimizer='adam', loss='categorical_crossentropy', metrics=['accuracy'])\n",
    "\n",
    "# Train the model\n",
    "model.fit(X_train, y_train, epochs=2, batch_size=64, validation_split=0.2)\n",
    "\n",
    "# Evaluate the model on the test data\n",
    "test_loss, test_acc = model.evaluate(X_test, y_test)\n",
    "\n",
    "# Print the test accuracy\n",
    "print(f\"Test accuracy: {test_acc:.6f}\")"
   ]
  },
  {
   "cell_type": "markdown",
   "id": "b3dab38e",
   "metadata": {},
   "source": [
    "With just 2 epochs we were able to get a CNN model to perform as well as the Logistic Regression model and SVM model with scaled data. For this dataset, the SVM model suggests clear separations in the features between the cultivators, indicating distinct groupings in the data. As a result, the resources required to train a CNN are unnecessary. I would suggest using one of the simpler models, SVM or Logistic Regression."
   ]
  }
 ],
 "metadata": {
  "kernelspec": {
   "display_name": "Python 3 (ipykernel)",
   "language": "python",
   "name": "python3"
  },
  "language_info": {
   "codemirror_mode": {
    "name": "ipython",
    "version": 3
   },
   "file_extension": ".py",
   "mimetype": "text/x-python",
   "name": "python",
   "nbconvert_exporter": "python",
   "pygments_lexer": "ipython3",
   "version": "3.11.5"
  }
 },
 "nbformat": 4,
 "nbformat_minor": 5
}
