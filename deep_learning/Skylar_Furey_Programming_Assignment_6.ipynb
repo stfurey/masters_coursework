{
  "cells": [
    {
      "cell_type": "markdown",
      "metadata": {
        "id": "DQdNBt9BWt3F"
      },
      "source": [
        "# Homework 6 - Convolutional Neural Networks\n",
        "\n",
        "In this assignment, you will learn how to implement a convolutional neural network (CNN) from scratch using numpy. You will derive the derivatives yourself, implement forward and backward propagation for convolutional layers, pooling layers, and fully connected layers, and visualize the learned filters. (However, instead of using a fixed learning rate, we will call TensorFlow's implementation of Adam optimization to speed up training)\n",
        "\n",
        "## Task 1: Load and Visualize the MNIST Data\n",
        "\n",
        "First, let's load a subset of the MNIST dataset and visualize it. We will use this dataset to train our CNN."
      ]
    },
    {
      "cell_type": "code",
      "execution_count": 1,
      "metadata": {
        "id": "YBQ0F5b_Wt3H",
        "colab": {
          "base_uri": "https://localhost:8080/",
          "height": 154
        },
        "outputId": "7fac1a20-a3bb-4b6c-9834-211e8dced039"
      },
      "outputs": [
        {
          "output_type": "stream",
          "name": "stdout",
          "text": [
            "Downloading data from https://storage.googleapis.com/tensorflow/tf-keras-datasets/mnist.npz\n",
            "\u001b[1m11490434/11490434\u001b[0m \u001b[32m━━━━━━━━━━━━━━━━━━━━\u001b[0m\u001b[37m\u001b[0m \u001b[1m0s\u001b[0m 0us/step\n"
          ]
        },
        {
          "output_type": "display_data",
          "data": {
            "text/plain": [
              "<Figure size 1500x1500 with 10 Axes>"
            ],
            "image/png": "[encoded data removed]"
          },
          "metadata": {}
        }
      ],
      "source": [
        "import numpy as np\n",
        "import matplotlib.pyplot as plt\n",
        "from keras.datasets import mnist\n",
        "from keras.utils import to_categorical\n",
        "import tensorflow as tf\n",
        "\n",
        "\n",
        "# Load MNIST data\n",
        "(x_train, y_train), (x_test, y_test) = mnist.load_data()\n",
        "\n",
        "# Reshape data to include channel dimension\n",
        "x_train = x_train.reshape(x_train.shape[0], 28, 28, 1)\n",
        "x_test = x_test.reshape(x_test.shape[0], 28, 28, 1)\n",
        "\n",
        "# Normalize data\n",
        "x_train = x_train.astype('float32') / 255.0\n",
        "x_test = x_test.astype('float32') / 255.0\n",
        "\n",
        "# Convert labels to one-hot encoding\n",
        "y_train = to_categorical(y_train, 10)\n",
        "y_test = to_categorical(y_test, 10)\n",
        "\n",
        "# Use a smaller subset of the data for faster training\n",
        "x_train, y_train = x_train[:100], y_train[:100]\n",
        "x_test, y_test = x_test[:200], y_test[:200]\n",
        "\n",
        "# Visualize some samples from the dataset\n",
        "def visualize_mnist_samples(X, y):\n",
        "    fig, axes = plt.subplots(1, 10, figsize=(15, 15))\n",
        "    for i, ax in enumerate(axes):\n",
        "        ax.imshow(X[i].reshape(28, 28), cmap='gray')\n",
        "        ax.set_title(np.argmax(y[i]))\n",
        "        ax.axis('off')\n",
        "    plt.show()\n",
        "\n",
        "visualize_mnist_samples(x_train, y_train)"
      ]
    },
    {
      "cell_type": "markdown",
      "metadata": {
        "id": "ZNMmQf-CWt3I"
      },
      "source": [
        "## Task 2: Implement Convolutional Layers\n",
        "\n",
        "### Step 1: Implement the Convolution Operation\n",
        "\n",
        "Implement the function to perform the convolution operation."
      ]
    },
    {
      "cell_type": "code",
      "execution_count": 2,
      "metadata": {
        "id": "01n3x-pwWt3I"
      },
      "outputs": [],
      "source": [
        "def conv_forward(X, W, b, stride=1, padding=1):\n",
        "    (n_H_prev, n_W_prev, n_C_prev) = X.shape\n",
        "    (f, f, n_C_prev, n_C) = W.shape\n",
        "    n_H = int((n_H_prev - f + 2 * padding) / stride) + 1\n",
        "    n_W = int((n_W_prev - f + 2 * padding) / stride) + 1\n",
        "    Z = np.zeros((n_H, n_W, n_C))\n",
        "\n",
        "    X_pad = np.pad(X, ((padding, padding), (padding, padding), (0, 0)), 'constant')\n",
        "\n",
        "    for h in range(n_H):\n",
        "        for w in range(n_W):\n",
        "            for c in range(n_C):\n",
        "                vert_start = h * stride\n",
        "                vert_end = vert_start + f\n",
        "                horiz_start = w * stride\n",
        "                horiz_end = horiz_start + f\n",
        "                X_slice = X_pad[vert_start:vert_end, horiz_start:horiz_end, :]\n",
        "                Z[h, w, c] = np.sum(X_slice * W[:, :, :, c]) + b[:, :, :, c]\n",
        "\n",
        "    return Z\n"
      ]
    },
    {
      "cell_type": "markdown",
      "metadata": {
        "id": "Jlg6C8j9Wt3I"
      },
      "source": [
        "### Step 2: Implement the ReLU Activation Function\n",
        "\n",
        "Implement the ReLU activation function."
      ]
    },
    {
      "cell_type": "code",
      "execution_count": 3,
      "metadata": {
        "id": "Swig-FgqWt3I"
      },
      "outputs": [],
      "source": [
        "def relu(Z):\n",
        "    return np.maximum(0, Z)"
      ]
    },
    {
      "cell_type": "markdown",
      "metadata": {
        "id": "UKYSwN1fWt3J"
      },
      "source": [
        "### Step 3: Implement the Max Pooling Layer (1 pt)\n",
        "\n",
        "Implement the function to perform max pooling."
      ]
    },
    {
      "cell_type": "code",
      "execution_count": 5,
      "metadata": {
        "id": "46H9NqwqWt3J"
      },
      "outputs": [],
      "source": [
        "def pool_forward(A_prev, f=2, stride=2):\n",
        "    (n_H_prev, n_W_prev, n_C_prev) = A_prev.shape\n",
        "    n_H = int((n_H_prev - f) / stride) + 1\n",
        "    n_W = int((n_W_prev - f) / stride) + 1\n",
        "    A = np.zeros((n_H, n_W, n_C_prev))\n",
        "\n",
        "    for h in range(n_H):\n",
        "        for w in range(n_W):\n",
        "            for c in range(n_C_prev):\n",
        "                vert_start = h * stride\n",
        "                vert_end = vert_start + f\n",
        "                horiz_start = w * stride\n",
        "                horiz_end = horiz_start + f\n",
        "                A[h, w, c] = np.max(A_prev[vert_start:vert_end, horiz_start:horiz_end, c])\n",
        "\n",
        "    return A\n"
      ]
    },
    {
      "cell_type": "markdown",
      "metadata": {
        "id": "U9TRfnA-Wt3J"
      },
      "source": [
        "## Task 3: Implement Fully Connected Layers\n",
        "\n",
        "### Step 1: Implement the Flatten Layer\n",
        "\n",
        "Implement the function to flatten the input."
      ]
    },
    {
      "cell_type": "code",
      "execution_count": 6,
      "metadata": {
        "id": "LL5txmJKWt3J"
      },
      "outputs": [],
      "source": [
        "def flatten(X):\n",
        "    return X.flatten().reshape(1, -1)"
      ]
    },
    {
      "cell_type": "markdown",
      "metadata": {
        "id": "Dm2w10vHWt3J"
      },
      "source": [
        "### Step 2: Implement the Fully Connected Layer\n",
        "\n",
        "Implement the function for the fully connected layer."
      ]
    },
    {
      "cell_type": "code",
      "execution_count": 7,
      "metadata": {
        "id": "Nsf9OYlFWt3J"
      },
      "outputs": [],
      "source": [
        "def fc_forward(X, W, b):\n",
        "    return np.dot(X, W) + b"
      ]
    },
    {
      "cell_type": "markdown",
      "metadata": {
        "id": "qbQRIG2YWt3J"
      },
      "source": [
        "### Step 3: Implement the Softmax Activation Function\n",
        "\n",
        "Implement the softmax function."
      ]
    },
    {
      "cell_type": "code",
      "execution_count": 8,
      "metadata": {
        "id": "ATrGahJXWt3J"
      },
      "outputs": [],
      "source": [
        "def softmax(Z):\n",
        "    exp_Z = np.exp(Z - np.max(Z))\n",
        "    return exp_Z / np.sum(exp_Z)"
      ]
    },
    {
      "cell_type": "markdown",
      "metadata": {
        "id": "3liIlOoDWt3K"
      },
      "source": [
        "## Task 4: Implement the Forward Propagation\n",
        "\n",
        "Implement the forward propagation step."
      ]
    },
    {
      "cell_type": "code",
      "execution_count": 9,
      "metadata": {
        "id": "wG7Qvi04Wt3K"
      },
      "outputs": [],
      "source": [
        "def forward_propagation(X, params):\n",
        "    (W1, b1, W2, b2, W3, b3) = params\n",
        "\n",
        "    #Describe the computation structure of the CNN model\n",
        "    Z1 = conv_forward(X, W1, b1)\n",
        "    A1 = relu(Z1)\n",
        "    P1 = pool_forward(A1)\n",
        "    F1 = flatten(P1)\n",
        "    Z2 = fc_forward(F1, W2, b2)\n",
        "    A2 = relu(Z2)\n",
        "    Z3 = fc_forward(A2, W3, b3)\n",
        "    A3 = softmax(Z3)\n",
        "\n",
        "    return Z1, A1, P1, F1, Z2, A2, Z3, A3"
      ]
    },
    {
      "cell_type": "markdown",
      "metadata": {
        "id": "0EHwTVKUWt3K"
      },
      "source": [
        "## Task 5: Compute the Loss\n",
        "\n",
        "Implement the function to compute the cross-entropy loss."
      ]
    },
    {
      "cell_type": "code",
      "execution_count": 10,
      "metadata": {
        "id": "U0nV--ViWt3K"
      },
      "outputs": [],
      "source": [
        "def compute_loss(y, y_pred):\n",
        "    return -np.log(y_pred[0, y])"
      ]
    },
    {
      "cell_type": "markdown",
      "metadata": {
        "id": "NsTkXmyoWt3K"
      },
      "source": [
        "## Task 6: Implement the Backward Propagation\n",
        "\n",
        "Compute the gradients using backward propagation."
      ]
    },
    {
      "cell_type": "code",
      "execution_count": 11,
      "metadata": {
        "id": "tWaVDrIgWt3K"
      },
      "outputs": [],
      "source": [
        "def backward_propagation(X, y, params, cache):\n",
        "    (W1, b1, W2, b2, W3, b3) = params\n",
        "    (Z1, A1, P1, F1, Z2, A2, Z3, A3) = cache\n",
        "\n",
        "    dZ3 = A3\n",
        "    dZ3[0, y] -= 1\n",
        "    dW3 = np.dot(A2.T, dZ3)\n",
        "    db3 = np.sum(dZ3, axis=0, keepdims=True)\n",
        "    dA2 = np.dot(dZ3, W3.T)\n",
        "\n",
        "    dZ2 = dA2 * (Z2 > 0)\n",
        "    dW2 = np.dot(F1.T, dZ2)\n",
        "    db2 = np.sum(dZ2, axis=0, keepdims=True)\n",
        "    dF1 = np.dot(dZ2, W2.T)\n",
        "\n",
        "    dP1 = dF1.reshape(P1.shape)\n",
        "    dA1 = np.zeros_like(A1)\n",
        "    for h in range(P1.shape[0]):\n",
        "        for w in range(P1.shape[1]):\n",
        "            for c in range(P1.shape[2]):\n",
        "                vert_start = h * 2\n",
        "                vert_end = vert_start + 2\n",
        "                horiz_start = w * 2\n",
        "                horiz_end = horiz_start + 2\n",
        "                mask = (A1[vert_start:vert_end, horiz_start:horiz_end, c] == np.max(A1[vert_start:vert_end, horiz_start:horiz_end, c]))\n",
        "                dA1[vert_start:vert_end, horiz_start:horiz_end, c] += mask * dP1[h, w, c]\n",
        "\n",
        "    dZ1 = dA1 * (Z1 > 0)\n",
        "    dW1 = np.zeros_like(W1)\n",
        "    db1 = np.zeros_like(b1)\n",
        "    X_pad = np.pad(X, ((1, 1), (1, 1), (0, 0)), 'constant')\n",
        "    for h in range(dZ1.shape[0]):\n",
        "        for w in range(dZ1.shape[1]):\n",
        "            for c in range(dZ1.shape[2]):\n",
        "                vert_start = h * 1\n",
        "                vert_end = vert_start + W1.shape[0]\n",
        "                horiz_start = w * 1\n",
        "                horiz_end = horiz_start + W1.shape[1]\n",
        "                dW1[:, :, :, c] += dZ1[h, w, c] * X_pad[vert_start:vert_end, horiz_start:horiz_end, :]\n",
        "                db1[:, :, :, c] += dZ1[h, w, c]\n",
        "\n",
        "    return dW1, db1, dW2, db2, dW3, db3"
      ]
    },
    {
      "cell_type": "markdown",
      "metadata": {
        "id": "PEEihGEjWt3K"
      },
      "source": [
        "## Task 7: Update Parameters Using Gradient Descent\n",
        "\n",
        "Update the parameters using gradient descent."
      ]
    },
    {
      "cell_type": "code",
      "execution_count": 12,
      "metadata": {
        "id": "GY-V_iBVWt3K"
      },
      "outputs": [],
      "source": [
        "def update_parameters(params, grads, learning_rate):\n",
        "    (W1, b1, W2, b2, W3, b3) = params\n",
        "    (dW1, db1, dW2, db2, dW3, db3) = grads\n",
        "\n",
        "    # Convert NumPy arrays to TensorFlow variables\n",
        "    W1 = tf.Variable(W1)\n",
        "    b1 = tf.Variable(b1)\n",
        "    W2 = tf.Variable(W2)\n",
        "    b2 = tf.Variable(b2)\n",
        "    W3 = tf.Variable(W3)\n",
        "    b3 = tf.Variable(b3)\n",
        "\n",
        "    optimizer.apply_gradients(zip([dW1, db1, dW2, db2, dW3, db3], [W1, b1, W2, b2, W3, b3]))\n",
        "\n",
        "    # Convert TensorFlow variables back to NumPy arrays for consistency\n",
        "    W1 = W1.numpy()\n",
        "    b1 = b1.numpy()\n",
        "    W2 = W2.numpy()\n",
        "    b2 = b2.numpy()\n",
        "    W3 = W3.numpy()\n",
        "    b3 = b3.numpy()\n",
        "\n",
        "    #W1 -= learning_rate * dW1\n",
        "    #b1 -= learning_rate * db1\n",
        "    #W2 -= learning_rate * dW2\n",
        "    #b2 -= learning_rate * db2\n",
        "    #W3 -= learning_rate * dW3\n",
        "    #b3 -= learning_rate * db3\n",
        "\n",
        "    return W1, b1, W2, b2, W3, b3"
      ]
    },
    {
      "cell_type": "markdown",
      "metadata": {
        "id": "KslnW7LfWt3K"
      },
      "source": [
        "## Task 8: Train the Model\n",
        "\n",
        "Train the model using gradient descent (with Adam optimization) and plot the loss over iterations."
      ]
    },
    {
      "cell_type": "code",
      "execution_count": 18,
      "metadata": {
        "id": "KekEGsByWt3K",
        "colab": {
          "base_uri": "https://localhost:8080/",
          "height": 1000
        },
        "outputId": "ee35bc24-694a-43a2-b8b0-8acbec871ebf"
      },
      "outputs": [
        {
          "output_type": "stream",
          "name": "stderr",
          "text": [
            "<ipython-input-2-89709a2af507>:18: DeprecationWarning: Conversion of an array with ndim > 0 to a scalar is deprecated, and will error in future. Ensure you extract a single element from your array before performing this operation. (Deprecated NumPy 1.25.)\n",
            "  Z[h, w, c] = np.sum(X_slice * W[:, :, :, c]) + b[:, :, :, c]\n"
          ]
        },
        {
          "output_type": "stream",
          "name": "stdout",
          "text": [
            "Iteration 0: Loss = 230.2617107752144\n",
            "Iteration 1: Loss = 229.5248364596287\n",
            "Iteration 2: Loss = 222.95291962999062\n",
            "Iteration 3: Loss = 207.208246067131\n",
            "Iteration 4: Loss = 182.37067347743118\n",
            "Iteration 5: Loss = 148.9461666135724\n",
            "Iteration 6: Loss = 145.99463211437805\n",
            "Iteration 7: Loss = 135.27252052242235\n",
            "Iteration 8: Loss = 119.53513185562568\n",
            "Iteration 9: Loss = 111.44066421297269\n",
            "Iteration 10: Loss = 98.98291075581086\n",
            "Iteration 11: Loss = 99.21221376660549\n",
            "Iteration 12: Loss = 87.66154187482398\n",
            "Iteration 13: Loss = 88.59188937328139\n",
            "Iteration 14: Loss = 73.06703366433213\n",
            "Iteration 15: Loss = 81.8091446712278\n",
            "Iteration 16: Loss = 66.89382075490425\n",
            "Iteration 17: Loss = 83.09952330792639\n",
            "Iteration 18: Loss = 60.25588725363192\n",
            "Iteration 19: Loss = 82.79499092872382\n",
            "Iteration 20: Loss = 52.35144130583416\n",
            "Iteration 21: Loss = 74.77150662027081\n",
            "Iteration 22: Loss = 49.512990017628624\n",
            "Iteration 23: Loss = 68.21102359017489\n",
            "Iteration 24: Loss = 41.57148912476719\n",
            "Iteration 25: Loss = 57.5919217009696\n",
            "Iteration 26: Loss = 35.261159311704866\n",
            "Iteration 27: Loss = 49.469785310501834\n",
            "Iteration 28: Loss = 30.94068266395037\n",
            "Iteration 29: Loss = 45.74459624023772\n",
            "Iteration 30: Loss = 29.077113700044205\n",
            "Iteration 31: Loss = 45.559050778240255\n",
            "Iteration 32: Loss = 26.887049753851283\n",
            "Iteration 33: Loss = 38.725517206751725\n",
            "Iteration 34: Loss = 23.83562798071274\n",
            "Iteration 35: Loss = 31.44796266690198\n",
            "Iteration 36: Loss = 20.252678594449385\n",
            "Iteration 37: Loss = 34.2159944067301\n",
            "Iteration 38: Loss = 20.04980042787262\n",
            "Iteration 39: Loss = 26.959537637175373\n",
            "Iteration 40: Loss = 18.067003005901118\n",
            "Iteration 41: Loss = 24.880366600354368\n",
            "Iteration 42: Loss = 17.31248898881672\n",
            "Iteration 43: Loss = 20.305227883025115\n",
            "Iteration 44: Loss = 15.472796024947641\n",
            "Iteration 45: Loss = 17.692684442898205\n",
            "Iteration 46: Loss = 13.660007063378066\n",
            "Iteration 47: Loss = 14.414953729045305\n",
            "Iteration 48: Loss = 12.489689893185469\n",
            "Iteration 49: Loss = 11.699063992492695\n"
          ]
        },
        {
          "output_type": "display_data",
          "data": {
            "text/plain": [
              "<Figure size 640x480 with 1 Axes>"
            ],
            "image/png": "[encoded data removed]"
          },
          "metadata": {}
        }
      ],
      "source": [
        "def initialize_parameters_conv(filter_shape):\n",
        "    W = np.random.randn(*filter_shape) * 0.01\n",
        "    b = np.zeros((1, 1, 1, filter_shape[3]))\n",
        "    return W, b\n",
        "\n",
        "def initialize_parameters_fc(shape):\n",
        "    W = np.random.randn(shape[0], shape[1]) * 0.01\n",
        "    b = np.zeros((1, shape[1]))\n",
        "    return W, b\n",
        "\n",
        "input_dim = (28, 28, 1)\n",
        "conv_dim = (3, 3, 1, 8)\n",
        "fc1_dim = (8 * 14 * 14, 100)\n",
        "fc2_dim = (100, 10)\n",
        "W1, b1 = initialize_parameters_conv(conv_dim)\n",
        "W2, b2 = initialize_parameters_fc(fc1_dim)\n",
        "W3, b3 = initialize_parameters_fc(fc2_dim)\n",
        "\n",
        "# Train the model\n",
        "num_iterations = 50\n",
        "learning_rate = 0.01\n",
        "optimizer = tf.keras.optimizers.Adam(learning_rate=learning_rate)\n",
        "loss_history = []\n",
        "\n",
        "for i in range(num_iterations):\n",
        "    loss = 0\n",
        "\n",
        "    grad_dW1 = np.zeros_like(W1)\n",
        "    grad_db1 = np.zeros_like(b1)\n",
        "    grad_dW2 = np.zeros_like(W2)\n",
        "    grad_db2 = np.zeros_like(b2)\n",
        "    grad_dW3 = np.zeros_like(W3)\n",
        "    grad_db3 = np.zeros_like(b3)\n",
        "\n",
        "    params = (W1, b1, W2, b2, W3, b3)\n",
        "\n",
        "    for j in range(len(x_train)):\n",
        "        X = x_train[j]\n",
        "        y = np.argmax(y_train[j])\n",
        "\n",
        "        # Forward propagation\n",
        "        Z1, A1, P1, F1, Z2, A2, Z3, A3 = forward_propagation(X, params)\n",
        "        cache = (Z1, A1, P1, F1, Z2, A2, Z3, A3)\n",
        "\n",
        "        # Compute loss\n",
        "        loss += compute_loss(y, A3)\n",
        "\n",
        "        # Backward propagation\n",
        "        dW1, db1, dW2, db2, dW3, db3 = backward_propagation(X, y, params, cache)\n",
        "\n",
        "        # Accumulate gradients across training examples\n",
        "        grad_dW1 += dW1\n",
        "        grad_db1 += db1\n",
        "        grad_dW2 += dW2\n",
        "        grad_db2 += db2\n",
        "        grad_dW3 += dW3\n",
        "        grad_db3 += db3\n",
        "\n",
        "    # Reinitialize the optimizer for the new set of variables\n",
        "    optimizer = tf.keras.optimizers.Adam(learning_rate=learning_rate)\n",
        "\n",
        "    # Update parameters\n",
        "    grads = (grad_dW1, grad_db1, grad_dW2, grad_db2, grad_dW3, grad_db3)\n",
        "    W1, b1, W2, b2, W3, b3 = update_parameters(params, grads, learning_rate)\n",
        "    params = (W1, b1, W2, b2, W3, b3)\n",
        "    print(f'Iteration {i}: Loss = {loss}')\n",
        "    loss_history.append(loss)\n",
        "\n",
        "# Plot the loss over iterations\n",
        "plt.plot(loss_history)\n",
        "plt.xlabel('Iteration')\n",
        "plt.ylabel('Loss')\n",
        "plt.title('Loss over Iterations')\n",
        "plt.show()"
      ]
    },
    {
      "cell_type": "markdown",
      "metadata": {
        "id": "5zrMPsD0Wt3K"
      },
      "source": [
        "## Task 9: Visualize the Learned Filters\n",
        "\n",
        "Visualize the filters learned by the first convolutional layer."
      ]
    },
    {
      "cell_type": "code",
      "execution_count": 19,
      "metadata": {
        "id": "KJ5esgckWt3K",
        "colab": {
          "base_uri": "https://localhost:8080/",
          "height": 116
        },
        "outputId": "10bb7b38-3447-4a2a-b7e5-a5752a2e0556"
      },
      "outputs": [
        {
          "output_type": "display_data",
          "data": {
            "text/plain": [
              "<Figure size 2000x2000 with 8 Axes>"
            ],
            "image/png": "[encoded data removed]"
          },
          "metadata": {}
        }
      ],
      "source": [
        "def visualize_filters(W1):\n",
        "    num_filters = W1.shape[-1]\n",
        "    fig, axes = plt.subplots(1, num_filters, figsize=(20, 20))\n",
        "    for i in range(num_filters):\n",
        "        axes[i].imshow(W1[:, :, :, i], cmap='gray')\n",
        "        axes[i].axis('off')\n",
        "    plt.show()\n",
        "\n",
        "visualize_filters(W1)"
      ]
    },
    {
      "cell_type": "markdown",
      "metadata": {
        "id": "hsOqj90qWt3K"
      },
      "source": [
        "## Task 10: Evaluate the Model on Test Data\n",
        "\n",
        "Evaluate the model on the test data and compute the accuracy."
      ]
    },
    {
      "cell_type": "code",
      "execution_count": 20,
      "metadata": {
        "id": "U5C-VjpUWt3L",
        "colab": {
          "base_uri": "https://localhost:8080/"
        },
        "outputId": "a4bf0575-457d-4b76-98d7-8d63af68a76f"
      },
      "outputs": [
        {
          "output_type": "stream",
          "name": "stderr",
          "text": [
            "<ipython-input-2-89709a2af507>:18: DeprecationWarning: Conversion of an array with ndim > 0 to a scalar is deprecated, and will error in future. Ensure you extract a single element from your array before performing this operation. (Deprecated NumPy 1.25.)\n",
            "  Z[h, w, c] = np.sum(X_slice * W[:, :, :, c]) + b[:, :, :, c]\n"
          ]
        },
        {
          "output_type": "stream",
          "name": "stdout",
          "text": [
            "Test Accuracy: 62.50%\n"
          ]
        }
      ],
      "source": [
        "def evaluate_model(x_test, y_test, params):\n",
        "    num_correct = 0\n",
        "    for i in range(len(x_test)):\n",
        "        X = x_test[i]\n",
        "        y = np.argmax(y_test[i])\n",
        "        _, _, _, _, _, _, _, A3 = forward_propagation(X, params)\n",
        "        if np.argmax(A3) == y:\n",
        "            num_correct += 1\n",
        "    accuracy = num_correct / len(x_test)\n",
        "    return accuracy\n",
        "\n",
        "accuracy = evaluate_model(x_test, y_test, params)\n",
        "print(f'Test Accuracy: {accuracy * 100:.2f}%')"
      ]
    }
  ],
  "metadata": {
    "kernelspec": {
      "display_name": "Python 3",
      "language": "python",
      "name": "python3"
    },
    "language_info": {
      "codemirror_mode": {
        "name": "ipython",
        "version": 3
      },
      "file_extension": ".py",
      "mimetype": "text/x-python",
      "name": "python",
      "nbconvert_exporter": "python",
      "pygments_lexer": "ipython3",
      "version": "3.8.5"
    },
    "colab": {
      "provenance": []
    }
  },
  "nbformat": 4,
  "nbformat_minor": 0
}