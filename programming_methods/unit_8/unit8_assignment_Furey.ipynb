{
 "cells": [
  {
   "cell_type": "markdown",
   "id": "8d80d567",
   "metadata": {},
   "source": [
    "# Assignment 8: Building multidriectional linked lists"
   ]
  },
  {
   "cell_type": "markdown",
   "id": "4e4a70b6",
   "metadata": {},
   "source": [
    "## Define a node\n",
    "Create a class `Node` that contains:\n",
    "1. A `coefficient` value\n",
    "2. An `exponent` value\n",
    "3. A `next` pointer, pointing to the next node (`None` if at end)\n",
    "4. A `previous` pointer, pointing to the previous node (`None` if at start)"
   ]
  },
  {
   "cell_type": "code",
   "execution_count": 1,
   "id": "e1d425ce",
   "metadata": {},
   "outputs": [],
   "source": [
    "class Node:\n",
    "    def __init__(self, coefficient, exponent):\n",
    "        self.coefficient = coefficient\n",
    "        self.exponent = exponent\n",
    "        self.nextNode = None\n",
    "        self.prevNode = None"
   ]
  },
  {
   "cell_type": "markdown",
   "id": "c65de103",
   "metadata": {},
   "source": [
    "## Create a bidirectional linked list representation of a polynomial\n",
    "Create a class `Polynomial` with the following characteristics:\n",
    "1. A pointer `head` that points to the first node\n",
    "2. A pointer `tail` that points to the last node\n",
    "3. An `append` function for adding nodes to the list\n",
    "4. A `pop` function that removes and returns the last node, updating pointers as necessary\n",
    "5. A `popleft` function that removes and returns the first node, updating pointers as necessary\n",
    "6. A `display` function that displays the polynomial, for example `3x^2 + 2x + 4`"
   ]
  },
  {
   "cell_type": "code",
   "execution_count": 2,
   "id": "0ffcdc1c",
   "metadata": {},
   "outputs": [
    {
     "name": "stdout",
     "output_type": "stream",
     "text": [
      "3x^2 + 2x + 4\n"
     ]
    }
   ],
   "source": [
    "class Polynomial:\n",
    "    def __init__(self):\n",
    "        self.head = None\n",
    "        self.tail = None\n",
    "\n",
    "    def append(self, coefficient, exponent):\n",
    "        newNode = Node(coefficient, exponent)\n",
    "        if self.head is None:\n",
    "            self.head = newNode\n",
    "            self.tail = newNode\n",
    "        else:\n",
    "            newNode.prevNode = self.tail\n",
    "            self.tail.nextNode = newNode\n",
    "            self.tail = newNode\n",
    "\n",
    "    def pop(self):\n",
    "        if self.head is None:\n",
    "            return None\n",
    "        poppedNode = self.tail\n",
    "        if self.head == self.tail:\n",
    "            self.head = None\n",
    "            self.tail = None\n",
    "        else:\n",
    "            self.tail = poppedNode.prevNode\n",
    "            self.tail.nextNode = None\n",
    "        return poppedNode\n",
    "\n",
    "    def popleft(self):\n",
    "        if self.head is None:\n",
    "            return None\n",
    "        poppedNode = self.head\n",
    "        if self.head == self.tail:\n",
    "            self.head = None\n",
    "            self.tail = None\n",
    "        else:\n",
    "            self.head = poppedNode.nextNode\n",
    "            self.head.prevNode = None\n",
    "        return poppedNode\n",
    "\n",
    "    def display(self):\n",
    "        current = self.head\n",
    "        polynomial_str = \"\"\n",
    "        while current:\n",
    "            if current.coefficient != 0:\n",
    "                if current.exponent == 0:\n",
    "                    polynomial_str += f\"{current.coefficient}\"\n",
    "                elif current.exponent == 1:\n",
    "                    polynomial_str += f\"{current.coefficient}x\"\n",
    "                else:\n",
    "                    polynomial_str += f\"{current.coefficient}x^{current.exponent}\"\n",
    "                if current.nextNode:\n",
    "                    polynomial_str += \" + \"\n",
    "            current = current.nextNode\n",
    "        print(polynomial_str)\n",
    "\n",
    "# Example usage:\n",
    "poly = Polynomial()\n",
    "poly.append(3, 2)\n",
    "poly.append(2, 1)\n",
    "poly.append(4, 0)\n",
    "\n",
    "poly.display()  # Output: 3x^2 + 2x + 4\n"
   ]
  },
  {
   "cell_type": "markdown",
   "id": "82246648",
   "metadata": {},
   "source": [
    "# Finding derivatives/antiderivatives\n",
    "To find the derivative of the polynomial function, for each term in the polynomial, the power of the variable is reduced by 1 and the coefficient is the existing coefficient multiplied by the prior exponent. In the case of a constant term, the value would become 0 and can be removed. For example:\n",
    "```\n",
    "f(x) = 3x^2 + 2x + 4\n",
    "f'(x) = 6x + 2\n",
    "```\n",
    "The antiderivative is simply the function (plus some constant) whose derivative is the original function. The formula for determining each term is to increase the exponent by 1 and divide the term by the new exponent. Finally, a constant C is added to the end.\n",
    "```\n",
    "f(x) = 6x + 2\n",
    "F(x) = 3x^2 + 2x + C\n",
    "```\n",
    "1. Create a function that takes a Polynomial and returns a new Polynomial for the derivative\n",
    "2. Create a function that takes a Polynomial and a constant `C` and returns a new Polynomial for the antiderivative"
   ]
  },
  {
   "cell_type": "code",
   "execution_count": 3,
   "id": "99a858ec",
   "metadata": {},
   "outputs": [
    {
     "name": "stdout",
     "output_type": "stream",
     "text": [
      "6x + 2\n",
      "3x^2 + 1x + C\n"
     ]
    }
   ],
   "source": [
    "def derivative(polynomial):\n",
    "    derivative = Polynomial()\n",
    "    current = polynomial.head\n",
    "\n",
    "    while current:\n",
    "        if current.exponent > 0:\n",
    "            newExponent = current.exponent - 1\n",
    "            newCoefficient = current.coefficient * current.exponent\n",
    "            \n",
    "            derivative.append(newCoefficient, newExponent)\n",
    "        current = current.nextNode\n",
    "\n",
    "    return derivative\n",
    "\n",
    "def antiderivative(polynomial, constant):\n",
    "    antiderivative = Polynomial()\n",
    "    current = polynomial.head\n",
    "\n",
    "    while current:\n",
    "        newCoefficient = int(current.coefficient / (current.exponent + 1))\n",
    "        newExponent = current.exponent + 1\n",
    "        antiderivative.append(newCoefficient, newExponent)\n",
    "        current = current.nextNode\n",
    "\n",
    "    antiderivative.append(constant, 0)\n",
    "    return antiderivative\n",
    "\n",
    "derivativeResult = derivative(poly)\n",
    "derivativeResult.display() \n",
    "\n",
    "poly2 = Polynomial()\n",
    "poly2.append(6, 1)\n",
    "poly2.append(1, 0)\n",
    "\n",
    "antiderivativeResult = antiderivative(poly2, \"C\")\n",
    "antiderivativeResult.display()"
   ]
  }
 ],
 "metadata": {
  "kernelspec": {
   "display_name": "Python 3 (ipykernel)",
   "language": "python",
   "name": "python3"
  },
  "language_info": {
   "codemirror_mode": {
    "name": "ipython",
    "version": 3
   },
   "file_extension": ".py",
   "mimetype": "text/x-python",
   "name": "python",
   "nbconvert_exporter": "python",
   "pygments_lexer": "ipython3",
   "version": "3.11.5"
  }
 },
 "nbformat": 4,
 "nbformat_minor": 5
}
