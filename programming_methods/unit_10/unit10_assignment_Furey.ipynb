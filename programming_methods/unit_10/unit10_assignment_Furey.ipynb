{
 "cells": [
  {
   "cell_type": "markdown",
   "id": "874ae301",
   "metadata": {},
   "source": [
    "# Assignment 10: A* pathfinding\n",
    "A* pathfinding is a commonly used algorithm for find the shortest traversable distance in applications like route finding in maps to AI pathfinding in video games. It is similar to Dijkstra's algorithm, but rather than traversing all nodes, it uses a cost calculation that allows the untraversed nodes to be sorted in a heap structure. For example, let's say we have a binary array of size (5, 5), where each value is a map tile:\n",
    "```\n",
    "[0  0  0  0  0\n",
    " 0  0  1  0* 0\n",
    " 0  0  1  0  0\n",
    " 0  0  0  1  0\n",
    " 0  0  0  0  0]\n",
    "```\n",
    "Your goal is to traverse the map from the bottom left point to the tile denoted by the asterisk. Any space on the map occupied by 0 is considered walkable, whereas 1 represents an impassable barrier. In this exercise we will create an algorithm that efficiently calculates the shortest walkable path to the goal."
   ]
  },
  {
   "cell_type": "markdown",
   "id": "abff1f9c",
   "metadata": {},
   "source": [
    "## Define nodes\n",
    "Create a class `Node` for each tile in the map. These will contain:\n",
    "1. A value `g`, the distance from the start node to this node\n",
    "2. A value `h`, the heuristic, or estimated distance to the end node\n",
    "3. A value `f`, the total cost of the node as defined by `f + g`\n",
    "4. The map coordinate `coord`\n",
    "5. A boolean designation `walkable`\n",
    "6. A list of the the neighboring nodes `neighbors`\n",
    "7. A function for getting the `neighbors`"
   ]
  },
  {
   "cell_type": "code",
   "execution_count": 1,
   "id": "40d5c3f9",
   "metadata": {},
   "outputs": [],
   "source": [
    "import math\n",
    "\n",
    "class Node:\n",
    "    def __init__(self, coord, walkable=True):\n",
    "        self.coord = coord\n",
    "        self.g = 0\n",
    "        self.h = 0\n",
    "        self.f = 0\n",
    "        self.walkable = walkable\n",
    "        self.neighbors = []\n",
    "        self.parent = None\n",
    "        \n",
    "    def calculate_h(self, end_node):\n",
    "        self.h = math.sqrt((self.coord[0] - end_node.coord[0])**2 + (self.coord[1] - end_node.coord[1])**2)\n",
    "\n",
    "    def calculate_f(self):\n",
    "        self.f = self.g + self.h\n",
    "\n",
    "    def add_neighbor(self, neighbor):\n",
    "        self.neighbors.append(neighbor)\n",
    "        \n",
    "    def get_neighbors(self):\n",
    "        return self.neighbors        "
   ]
  },
  {
   "cell_type": "markdown",
   "id": "c1918532",
   "metadata": {},
   "source": [
    "## The algorithm\n",
    "The main function will need to accept three arguments: the map array, the starting position, and the end position. Generally, you will have two lists of nodes: one for nearby candidate nodes that have yet to be traversed (`open_list`), and one of nodes you've already visited (`closed_list`). Here are the steps:\n",
    "1. Add the starting node to the open list.\n",
    "2. Repeat the following:\n",
    "    A) Look for the lowest F cost square on the open list. We refer to this as the current square.\n",
    "    B). Switch it to the closed list.\n",
    "    C) For each of the 8 squares adjacent to this current square …\n",
    "        - If it is not walkable or if it is on the closed list, ignore it. Otherwise do the following.\n",
    "        - If it isn’t on the open list, add it to the open list.\n",
    "        - Make the current square the parent of this square.\n",
    "        - Record the F, G, and H costs of the square.\n",
    "        -If it is on the open list already, check to see if this path to that square is better, using G cost as the measure. A lower G cost means that this is a better path. If so, change the parent of the square to the current square, and recalculate the G and F scores of the square. If you are keeping your open list sorted by F score, you may need to resort the list to account for the change.\n",
    "    D) Stop when you:\n",
    "        - Add the target square to the closed list, in which case the path has been found, or\n",
    "        - Fail to find the target square, and the open list is empty. In this case, there is no path.\n",
    "3. Save the path. Working backwards from the target square, go from each square to its parent square until you reach the starting square. That is your path.\n",
    "\n",
    "In this case, the `open_list` will be a minimum heap. Create a class `Heap` the has:\n",
    "1. `heap`: a list of nodes\n",
    "2. A function `append` for adding nodes to the heap.\n",
    "3. A function `sift_up` for sifting a node to the top of the heap\n",
    "4. A function `sort` for sorting the heap such that the minimum is on top."
   ]
  },
  {
   "cell_type": "code",
   "execution_count": 2,
   "id": "af5f0ce1",
   "metadata": {},
   "outputs": [],
   "source": [
    "class Heap:\n",
    "    def __init__(self):\n",
    "        self.heap = []\n",
    "\n",
    "    def append(self, node):\n",
    "        self.heap.append(node)\n",
    "        self.sift_up(len(self.heap) - 1)\n",
    "\n",
    "    def sift_up(self, index):\n",
    "        parent_index = (index - 1) // 2\n",
    "        while index > 0 and self.heap[index].f > self.heap[parent_index].f:\n",
    "            self.heap[index], self.heap[parent_index] = self.heap[parent_index], self.heap[index]\n",
    "            index = parent_index\n",
    "\n",
    "    def sort(self):\n",
    "        self.heap.sort(key=lambda x: x.f)\n",
    "        \n",
    "    def _swap(self,i,j):\n",
    "        self.heap[i], self.heap[j] = self.heap[j], self.heap[i]\n",
    "\n",
    "    def pop(self):\n",
    "        if self.is_empty():\n",
    "            raise IndexError(\"Heap is empty.\")\n",
    "        min_node = self.heap[0]\n",
    "        self.heap[0] = self.heap[-1]\n",
    "        del self.heap[-1]\n",
    "        self.sift_down(0)\n",
    "        return min_node\n",
    "            \n",
    "\n",
    "    def sift_down(self, index):\n",
    "        while index * 2 + 1 < len(self.heap):\n",
    "            left_child_index = index * 2 + 1\n",
    "            right_child_index = index * 2 + 2\n",
    "            min_index = left_child_index\n",
    "            if right_child_index < len(self.heap) and self.heap[right_child_index].f < self.heap[min_index].f:\n",
    "                min_index = right_child_index\n",
    "            if self.heap[min_index].f < self.heap[index].f:\n",
    "                self._swap(index, min_index)\n",
    "                index = min_index\n",
    "            else:\n",
    "                break\n",
    "                \n",
    "    def is_empty(self):\n",
    "        return len(self.heap) == 0"
   ]
  },
  {
   "cell_type": "markdown",
   "id": "5bde1177",
   "metadata": {},
   "source": [
    "Now implement a main function that performs the tasks of the algorithm"
   ]
  },
  {
   "cell_type": "code",
   "execution_count": 3,
   "id": "c6a8b80f",
   "metadata": {},
   "outputs": [],
   "source": [
    "def main(map_array, start_pos, end_pos):\n",
    "    open_list = Heap()\n",
    "    closed_list = []\n",
    "\n",
    "    start_node = Node(start_pos)\n",
    "    end_node = Node(end_pos)\n",
    "    open_list.append(start_node)\n",
    "\n",
    "    while open_list.heap:\n",
    "        current_node = open_list.heap[0]\n",
    "        closed_list.append(current_node)\n",
    "        del open_list.heap[0]\n",
    "\n",
    "        if current_node.coord == end_pos:\n",
    "            path = []\n",
    "            while current_node:\n",
    "                path.append(current_node.coord)\n",
    "                current_node = current_node.parent\n",
    "            return path[::-1]\n",
    "\n",
    "        for neighbor_coord in get_neighbors(map_array, current_node.coord):\n",
    "            if neighbor_coord in [node.coord for node in closed_list]:\n",
    "                continue\n",
    "\n",
    "            neighbor_node = Node(neighbor_coord)\n",
    "            neighbor_node.parent = current_node\n",
    "\n",
    "            if neighbor_coord not in [node.coord for node in open_list.heap]:\n",
    "                neighbor_node.g = current_node.g + 1\n",
    "                neighbor_node.calculate_h(end_node)\n",
    "                neighbor_node.calculate_f()\n",
    "                open_list.append(neighbor_node)\n",
    "                open_list.sort()\n",
    "            else:\n",
    "                for node in open_list.heap:\n",
    "                    if node.coord == neighbor_coord:\n",
    "                        temp_g = current_node.g + 1\n",
    "                        if temp_g < node.g:\n",
    "                            node.g = temp_g\n",
    "                            node.parent = current_node\n",
    "                            node.calculate_f()\n",
    "                            open_list.sort()\n",
    "\n",
    "    return None\n",
    "\n",
    "def get_neighbors(map_array, coord):\n",
    "    neighbors = []\n",
    "    rows = len(map_array)\n",
    "    cols = len(map_array[0])\n",
    "    for dr in [-1, 0, 1]:\n",
    "        for dc in [-1, 0, 1]:\n",
    "            if dr == 0 and dc == 0:\n",
    "                continue\n",
    "            new_row = coord[0] + dr\n",
    "            new_col = coord[1] + dc\n",
    "            if 0 <= new_row < rows and 0 <= new_col < cols and map_array[new_row][new_col]:\n",
    "                neighbors.append((new_row, new_col))\n",
    "    return neighbors"
   ]
  },
  {
   "cell_type": "code",
   "execution_count": 4,
   "id": "d9dcd8c8",
   "metadata": {},
   "outputs": [],
   "source": [
    "def findPath(map_array, start_pos, end_pos):\n",
    "    path = main(map_array, start_pos, end_pos)\n",
    "    if path:\n",
    "        print(\"Path found:\", path)\n",
    "    else:\n",
    "        print(\"No path found.\")\n",
    "    "
   ]
  },
  {
   "cell_type": "code",
   "execution_count": 5,
   "id": "1a611798",
   "metadata": {},
   "outputs": [
    {
     "name": "stdout",
     "output_type": "stream",
     "text": [
      "Path found: [(0, 0), (0, 1), (1, 2), (2, 3), (3, 4), (4, 4)]\n"
     ]
    }
   ],
   "source": [
    "map_array5 = [\n",
    "    [1, 1, 1, 1, 1],\n",
    "    [1, 0, 1, 0, 1],\n",
    "    [1, 1, 1, 1, 1],\n",
    "    [1, 0, 1, 0, 1],\n",
    "    [1, 1, 1, 1, 1]\n",
    "]\n",
    "\n",
    "start_pos5 = (0, 0)\n",
    "end_pos5 = (4, 4)\n",
    "\n",
    "\n",
    "findPath(map_array5, start_pos5, end_pos5)"
   ]
  },
  {
   "cell_type": "code",
   "execution_count": 6,
   "id": "1d042469",
   "metadata": {},
   "outputs": [
    {
     "name": "stdout",
     "output_type": "stream",
     "text": [
      "Path found: [(0, 0), (1, 0), (2, 1), (3, 2), (4, 3), (5, 4), (6, 5), (5, 6), (6, 7), (7, 8), (8, 9), (9, 9)]\n"
     ]
    }
   ],
   "source": [
    "map_array10 = [\n",
    "    [1, 1, 1, 1, 1, 1, 1, 1, 1, 1],\n",
    "    [1, 0, 0, 0, 1, 1, 1, 0, 0, 1],\n",
    "    [1, 1, 1, 0, 1, 1, 0, 0, 1, 1],\n",
    "    [1, 1, 1, 0, 0, 0, 0, 0, 1, 1],\n",
    "    [1, 1, 1, 1, 1, 1, 1, 1, 1, 1],\n",
    "    [1, 0, 0, 1, 1, 1, 1, 0, 0, 1],\n",
    "    [1, 1, 0, 1, 1, 1, 0, 1, 1, 1],\n",
    "    [1, 1, 0, 0, 0, 0, 0, 1, 1, 1],\n",
    "    [1, 1, 1, 1, 1, 1, 1, 1, 1, 1],\n",
    "    [1, 1, 1, 1, 1, 1, 1, 1, 1, 1]\n",
    "]\n",
    "\n",
    "start_pos10 = (0, 0)\n",
    "end_pos10 = (9, 9)\n",
    "findPath(map_array10, start_pos10, end_pos10)"
   ]
  },
  {
   "cell_type": "code",
   "execution_count": 7,
   "id": "9bcf0de7",
   "metadata": {},
   "outputs": [
    {
     "name": "stdout",
     "output_type": "stream",
     "text": [
      "Path found: [(0, 0), (0, 1), (0, 2), (0, 3), (1, 4), (2, 4), (3, 4), (4, 5), (4, 6), (4, 7), (4, 8), (4, 9), (4, 10), (4, 11), (5, 12), (6, 13), (7, 13), (8, 13), (9, 13), (10, 13), (11, 13), (12, 13), (13, 13), (14, 13), (15, 13), (16, 13), (17, 13), (18, 13), (19, 14), (19, 15), (19, 16), (19, 17), (19, 18), (19, 19)]\n"
     ]
    }
   ],
   "source": [
    "map_array20 = [\n",
    "    [1, 1, 1, 1, 1, 0, 0, 0, 0, 0, 0, 0, 0, 0, 0, 0, 0, 0, 0, 1],\n",
    "    [0, 0, 0, 0, 1, 0, 0, 0, 0, 0, 0, 0, 0, 0, 0, 1, 1, 0, 0, 1],\n",
    "    [0, 0, 1, 0, 1, 0, 1, 1, 1, 1, 1, 1, 1, 1, 0, 0, 0, 0, 0, 1],\n",
    "    [0, 0, 1, 0, 1, 0, 0, 0, 0, 0, 0, 0, 0, 1, 0, 1, 1, 1, 0, 1],\n",
    "    [0, 0, 1, 0, 1, 1, 1, 1, 1, 1, 1, 1, 0, 1, 0, 0, 0, 1, 0, 1],\n",
    "    [0, 0, 1, 0, 0, 0, 0, 0, 0, 0, 0, 0, 1, 1, 0, 1, 0, 1, 0, 1],\n",
    "    [0, 0, 1, 0, 1, 1, 1, 1, 1, 1, 1, 1, 0, 1, 0, 1, 0, 1, 0, 1],\n",
    "    [0, 0, 1, 0, 1, 0, 0, 0, 0, 0, 0, 0, 0, 1, 0, 1, 0, 1, 0, 1],\n",
    "    [0, 0, 1, 0, 1, 0, 1, 1, 1, 1, 1, 1, 0, 1, 0, 1, 0, 1, 0, 1],\n",
    "    [0, 0, 1, 0, 1, 0, 1, 0, 0, 0, 0, 0, 0, 1, 0, 1, 0, 1, 0, 1],\n",
    "    [0, 0, 1, 0, 1, 0, 1, 1, 1, 1, 1, 1, 0, 1, 0, 1, 0, 1, 0, 1],\n",
    "    [0, 0, 1, 0, 1, 0, 0, 0, 0, 0, 0, 0, 0, 1, 0, 1, 0, 1, 0, 1],\n",
    "    [0, 0, 1, 0, 1, 1, 1, 1, 1, 1, 1, 1, 0, 1, 0, 1, 0, 1, 0, 1],\n",
    "    [0, 0, 1, 0, 0, 0, 0, 0, 0, 0, 0, 0, 0, 1, 0, 1, 0, 1, 0, 1],\n",
    "    [0, 0, 1, 0, 1, 1, 1, 1, 1, 1, 1, 1, 0, 1, 0, 1, 0, 1, 0, 1],\n",
    "    [0, 0, 1, 0, 1, 0, 0, 0, 0, 0, 0, 0, 0, 1, 0, 1, 0, 1, 0, 1],\n",
    "    [0, 0, 1, 0, 1, 0, 1, 1, 1, 1, 1, 1, 0, 1, 0, 1, 0, 1, 0, 1],\n",
    "    [0, 0, 1, 0, 1, 0, 0, 0, 0, 0, 0, 0, 0, 1, 0, 1, 0, 1, 0, 1],\n",
    "    [0, 0, 1, 1, 1, 1, 1, 1, 1, 1, 1, 1, 1, 1, 0, 0, 0, 0, 0, 1],\n",
    "    [0, 0, 0, 0, 0, 0, 0, 0, 0, 0, 0, 1, 1, 1, 1, 1, 1, 1, 1, 1]\n",
    "]\n",
    "\n",
    "start_pos20 = (0, 0)\n",
    "end_pos20 = (19, 19)\n",
    "findPath(map_array20, start_pos20, end_pos20)"
   ]
  }
 ],
 "metadata": {
  "kernelspec": {
   "display_name": "Python 3 (ipykernel)",
   "language": "python",
   "name": "python3"
  },
  "language_info": {
   "codemirror_mode": {
    "name": "ipython",
    "version": 3
   },
   "file_extension": ".py",
   "mimetype": "text/x-python",
   "name": "python",
   "nbconvert_exporter": "python",
   "pygments_lexer": "ipython3",
   "version": "3.11.5"
  }
 },
 "nbformat": 4,
 "nbformat_minor": 5
}
