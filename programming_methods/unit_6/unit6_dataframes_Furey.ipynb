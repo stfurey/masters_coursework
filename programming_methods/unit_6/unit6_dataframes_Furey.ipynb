{
 "cells": [
  {
   "cell_type": "code",
   "execution_count": 1,
   "id": "60274504",
   "metadata": {},
   "outputs": [],
   "source": [
    "import pandas as pd"
   ]
  },
  {
   "cell_type": "markdown",
   "id": "26a1597b",
   "metadata": {},
   "source": [
    "Read the `world_pop_incomes.csv` file in as a Pandas DataFrame called `df`"
   ]
  },
  {
   "cell_type": "code",
   "execution_count": 2,
   "id": "4d3f652c",
   "metadata": {},
   "outputs": [],
   "source": [
    "df = pd.read_csv(\"world_pop_incomes.csv\")"
   ]
  },
  {
   "cell_type": "markdown",
   "id": "fc473b57",
   "metadata": {},
   "source": [
    "Display the whole `df` DataFrame"
   ]
  },
  {
   "cell_type": "code",
   "execution_count": 3,
   "id": "7e4af056",
   "metadata": {},
   "outputs": [
    {
     "data": {
      "text/html": [
       "<div>\n",
       "<style scoped>\n",
       "    .dataframe tbody tr th:only-of-type {\n",
       "        vertical-align: middle;\n",
       "    }\n",
       "\n",
       "    .dataframe tbody tr th {\n",
       "        vertical-align: top;\n",
       "    }\n",
       "\n",
       "    .dataframe thead th {\n",
       "        text-align: right;\n",
       "    }\n",
       "</style>\n",
       "<table border=\"1\" class=\"dataframe\">\n",
       "  <thead>\n",
       "    <tr style=\"text-align: right;\">\n",
       "      <th></th>\n",
       "      <th>Income</th>\n",
       "      <th>1960</th>\n",
       "      <th>1970</th>\n",
       "      <th>1980</th>\n",
       "      <th>1990</th>\n",
       "      <th>2000</th>\n",
       "      <th>2010</th>\n",
       "      <th>2020</th>\n",
       "    </tr>\n",
       "  </thead>\n",
       "  <tbody>\n",
       "    <tr>\n",
       "      <th>0</th>\n",
       "      <td>High income</td>\n",
       "      <td>7.801386e+08</td>\n",
       "      <td>8.732819e+08</td>\n",
       "      <td>9.576090e+08</td>\n",
       "      <td>1.027501e+09</td>\n",
       "      <td>1.102140e+09</td>\n",
       "      <td>1.180459e+09</td>\n",
       "      <td>1.241726e+09</td>\n",
       "    </tr>\n",
       "    <tr>\n",
       "      <th>1</th>\n",
       "      <td>Low income</td>\n",
       "      <td>1.357626e+08</td>\n",
       "      <td>1.741316e+08</td>\n",
       "      <td>2.250977e+08</td>\n",
       "      <td>2.887596e+08</td>\n",
       "      <td>3.825935e+08</td>\n",
       "      <td>5.108973e+08</td>\n",
       "      <td>6.670537e+08</td>\n",
       "    </tr>\n",
       "    <tr>\n",
       "      <th>2</th>\n",
       "      <td>Lower middle income</td>\n",
       "      <td>9.058328e+08</td>\n",
       "      <td>1.144755e+09</td>\n",
       "      <td>1.446430e+09</td>\n",
       "      <td>1.844476e+09</td>\n",
       "      <td>2.259880e+09</td>\n",
       "      <td>2.681991e+09</td>\n",
       "      <td>3.117226e+09</td>\n",
       "    </tr>\n",
       "    <tr>\n",
       "      <th>3</th>\n",
       "      <td>Middle income</td>\n",
       "      <td>2.107416e+09</td>\n",
       "      <td>2.631441e+09</td>\n",
       "      <td>3.244431e+09</td>\n",
       "      <td>3.957385e+09</td>\n",
       "      <td>4.635161e+09</td>\n",
       "      <td>5.249967e+09</td>\n",
       "      <td>5.883693e+09</td>\n",
       "    </tr>\n",
       "    <tr>\n",
       "      <th>4</th>\n",
       "      <td>Upper middle income</td>\n",
       "      <td>1.201583e+09</td>\n",
       "      <td>1.486686e+09</td>\n",
       "      <td>1.798002e+09</td>\n",
       "      <td>2.112909e+09</td>\n",
       "      <td>2.375281e+09</td>\n",
       "      <td>2.567976e+09</td>\n",
       "      <td>2.766468e+09</td>\n",
       "    </tr>\n",
       "  </tbody>\n",
       "</table>\n",
       "</div>"
      ],
      "text/plain": [
       "                Income          1960          1970          1980  \\\n",
       "0          High income  7.801386e+08  8.732819e+08  9.576090e+08   \n",
       "1           Low income  1.357626e+08  1.741316e+08  2.250977e+08   \n",
       "2  Lower middle income  9.058328e+08  1.144755e+09  1.446430e+09   \n",
       "3        Middle income  2.107416e+09  2.631441e+09  3.244431e+09   \n",
       "4  Upper middle income  1.201583e+09  1.486686e+09  1.798002e+09   \n",
       "\n",
       "           1990          2000          2010          2020  \n",
       "0  1.027501e+09  1.102140e+09  1.180459e+09  1.241726e+09  \n",
       "1  2.887596e+08  3.825935e+08  5.108973e+08  6.670537e+08  \n",
       "2  1.844476e+09  2.259880e+09  2.681991e+09  3.117226e+09  \n",
       "3  3.957385e+09  4.635161e+09  5.249967e+09  5.883693e+09  \n",
       "4  2.112909e+09  2.375281e+09  2.567976e+09  2.766468e+09  "
      ]
     },
     "execution_count": 3,
     "metadata": {},
     "output_type": "execute_result"
    }
   ],
   "source": [
    "df"
   ]
  },
  {
   "cell_type": "markdown",
   "id": "69199a94",
   "metadata": {},
   "source": [
    "Print the column names"
   ]
  },
  {
   "cell_type": "code",
   "execution_count": 4,
   "id": "8f3b1b5b",
   "metadata": {},
   "outputs": [
    {
     "name": "stdout",
     "output_type": "stream",
     "text": [
      "Index(['Income', '1960', '1970', '1980', '1990', '2000', '2010', '2020'], dtype='object')\n"
     ]
    }
   ],
   "source": [
    "print(df.columns)"
   ]
  },
  {
   "cell_type": "markdown",
   "id": "594af418",
   "metadata": {},
   "source": [
    "Display the data from the `2000` column"
   ]
  },
  {
   "cell_type": "code",
   "execution_count": 5,
   "id": "e0481568",
   "metadata": {},
   "outputs": [
    {
     "data": {
      "text/plain": [
       "0    1.102140e+09\n",
       "1    3.825935e+08\n",
       "2    2.259880e+09\n",
       "3    4.635161e+09\n",
       "4    2.375281e+09\n",
       "Name: 2000, dtype: float64"
      ]
     },
     "execution_count": 5,
     "metadata": {},
     "output_type": "execute_result"
    }
   ],
   "source": [
    "df[\"2000\"]"
   ]
  },
  {
   "cell_type": "markdown",
   "id": "3e3a6f70",
   "metadata": {},
   "source": [
    "Display the data from the row where `Income` is `Middle income`"
   ]
  },
  {
   "cell_type": "code",
   "execution_count": 8,
   "id": "e12990e1",
   "metadata": {},
   "outputs": [
    {
     "data": {
      "text/html": [
       "<div>\n",
       "<style scoped>\n",
       "    .dataframe tbody tr th:only-of-type {\n",
       "        vertical-align: middle;\n",
       "    }\n",
       "\n",
       "    .dataframe tbody tr th {\n",
       "        vertical-align: top;\n",
       "    }\n",
       "\n",
       "    .dataframe thead th {\n",
       "        text-align: right;\n",
       "    }\n",
       "</style>\n",
       "<table border=\"1\" class=\"dataframe\">\n",
       "  <thead>\n",
       "    <tr style=\"text-align: right;\">\n",
       "      <th></th>\n",
       "      <th>Income</th>\n",
       "      <th>1960</th>\n",
       "      <th>1970</th>\n",
       "      <th>1980</th>\n",
       "      <th>1990</th>\n",
       "      <th>2000</th>\n",
       "      <th>2010</th>\n",
       "      <th>2020</th>\n",
       "    </tr>\n",
       "  </thead>\n",
       "  <tbody>\n",
       "    <tr>\n",
       "      <th>3</th>\n",
       "      <td>Middle income</td>\n",
       "      <td>2.107416e+09</td>\n",
       "      <td>2.631441e+09</td>\n",
       "      <td>3.244431e+09</td>\n",
       "      <td>3.957385e+09</td>\n",
       "      <td>4.635161e+09</td>\n",
       "      <td>5.249967e+09</td>\n",
       "      <td>5.883693e+09</td>\n",
       "    </tr>\n",
       "  </tbody>\n",
       "</table>\n",
       "</div>"
      ],
      "text/plain": [
       "          Income          1960          1970          1980          1990  \\\n",
       "3  Middle income  2.107416e+09  2.631441e+09  3.244431e+09  3.957385e+09   \n",
       "\n",
       "           2000          2010          2020  \n",
       "3  4.635161e+09  5.249967e+09  5.883693e+09  "
      ]
     },
     "execution_count": 8,
     "metadata": {},
     "output_type": "execute_result"
    }
   ],
   "source": [
    "df.loc[df['Income'] == \"Middle income\"]"
   ]
  },
  {
   "cell_type": "markdown",
   "id": "c6284922",
   "metadata": {},
   "source": [
    "Set the index to the `Income` column"
   ]
  },
  {
   "cell_type": "code",
   "execution_count": 7,
   "id": "35abbb86",
   "metadata": {},
   "outputs": [
    {
     "data": {
      "text/html": [
       "<div>\n",
       "<style scoped>\n",
       "    .dataframe tbody tr th:only-of-type {\n",
       "        vertical-align: middle;\n",
       "    }\n",
       "\n",
       "    .dataframe tbody tr th {\n",
       "        vertical-align: top;\n",
       "    }\n",
       "\n",
       "    .dataframe thead th {\n",
       "        text-align: right;\n",
       "    }\n",
       "</style>\n",
       "<table border=\"1\" class=\"dataframe\">\n",
       "  <thead>\n",
       "    <tr style=\"text-align: right;\">\n",
       "      <th></th>\n",
       "      <th>1960</th>\n",
       "      <th>1970</th>\n",
       "      <th>1980</th>\n",
       "      <th>1990</th>\n",
       "      <th>2000</th>\n",
       "      <th>2010</th>\n",
       "      <th>2020</th>\n",
       "    </tr>\n",
       "    <tr>\n",
       "      <th>Income</th>\n",
       "      <th></th>\n",
       "      <th></th>\n",
       "      <th></th>\n",
       "      <th></th>\n",
       "      <th></th>\n",
       "      <th></th>\n",
       "      <th></th>\n",
       "    </tr>\n",
       "  </thead>\n",
       "  <tbody>\n",
       "    <tr>\n",
       "      <th>High income</th>\n",
       "      <td>7.801386e+08</td>\n",
       "      <td>8.732819e+08</td>\n",
       "      <td>9.576090e+08</td>\n",
       "      <td>1.027501e+09</td>\n",
       "      <td>1.102140e+09</td>\n",
       "      <td>1.180459e+09</td>\n",
       "      <td>1.241726e+09</td>\n",
       "    </tr>\n",
       "    <tr>\n",
       "      <th>Low income</th>\n",
       "      <td>1.357626e+08</td>\n",
       "      <td>1.741316e+08</td>\n",
       "      <td>2.250977e+08</td>\n",
       "      <td>2.887596e+08</td>\n",
       "      <td>3.825935e+08</td>\n",
       "      <td>5.108973e+08</td>\n",
       "      <td>6.670537e+08</td>\n",
       "    </tr>\n",
       "    <tr>\n",
       "      <th>Lower middle income</th>\n",
       "      <td>9.058328e+08</td>\n",
       "      <td>1.144755e+09</td>\n",
       "      <td>1.446430e+09</td>\n",
       "      <td>1.844476e+09</td>\n",
       "      <td>2.259880e+09</td>\n",
       "      <td>2.681991e+09</td>\n",
       "      <td>3.117226e+09</td>\n",
       "    </tr>\n",
       "    <tr>\n",
       "      <th>Middle income</th>\n",
       "      <td>2.107416e+09</td>\n",
       "      <td>2.631441e+09</td>\n",
       "      <td>3.244431e+09</td>\n",
       "      <td>3.957385e+09</td>\n",
       "      <td>4.635161e+09</td>\n",
       "      <td>5.249967e+09</td>\n",
       "      <td>5.883693e+09</td>\n",
       "    </tr>\n",
       "    <tr>\n",
       "      <th>Upper middle income</th>\n",
       "      <td>1.201583e+09</td>\n",
       "      <td>1.486686e+09</td>\n",
       "      <td>1.798002e+09</td>\n",
       "      <td>2.112909e+09</td>\n",
       "      <td>2.375281e+09</td>\n",
       "      <td>2.567976e+09</td>\n",
       "      <td>2.766468e+09</td>\n",
       "    </tr>\n",
       "  </tbody>\n",
       "</table>\n",
       "</div>"
      ],
      "text/plain": [
       "                             1960          1970          1980          1990  \\\n",
       "Income                                                                        \n",
       "High income          7.801386e+08  8.732819e+08  9.576090e+08  1.027501e+09   \n",
       "Low income           1.357626e+08  1.741316e+08  2.250977e+08  2.887596e+08   \n",
       "Lower middle income  9.058328e+08  1.144755e+09  1.446430e+09  1.844476e+09   \n",
       "Middle income        2.107416e+09  2.631441e+09  3.244431e+09  3.957385e+09   \n",
       "Upper middle income  1.201583e+09  1.486686e+09  1.798002e+09  2.112909e+09   \n",
       "\n",
       "                             2000          2010          2020  \n",
       "Income                                                         \n",
       "High income          1.102140e+09  1.180459e+09  1.241726e+09  \n",
       "Low income           3.825935e+08  5.108973e+08  6.670537e+08  \n",
       "Lower middle income  2.259880e+09  2.681991e+09  3.117226e+09  \n",
       "Middle income        4.635161e+09  5.249967e+09  5.883693e+09  \n",
       "Upper middle income  2.375281e+09  2.567976e+09  2.766468e+09  "
      ]
     },
     "execution_count": 7,
     "metadata": {},
     "output_type": "execute_result"
    }
   ],
   "source": [
    "df.set_index(\"Income\")"
   ]
  }
 ],
 "metadata": {
  "kernelspec": {
   "display_name": "Python 3 (ipykernel)",
   "language": "python",
   "name": "python3"
  },
  "language_info": {
   "codemirror_mode": {
    "name": "ipython",
    "version": 3
   },
   "file_extension": ".py",
   "mimetype": "text/x-python",
   "name": "python",
   "nbconvert_exporter": "python",
   "pygments_lexer": "ipython3",
   "version": "3.11.5"
  }
 },
 "nbformat": 4,
 "nbformat_minor": 5
}
