{
 "cells": [
  {
   "cell_type": "markdown",
   "id": "dc9b5e2a",
   "metadata": {},
   "source": [
    "## Unit 12 Count the number of components in an undirected graph\n",
    "* The objective of this programming assignment is for you to write code that creates a graph from a text file, and computes the number of connected components.\n",
    "* You will use two graphs as examples for your code. Each graph is stored in a text file as described below.\n",
    "* You can assume that the graphs are undirected and unweighted, and that there are no isolated vertices.\n",
    "* The two graph files are `one_graph.txt` and `two_graph.txt`.\n",
    "<br>\n",
    "* Each line in the graph text file will have two values which are alphanumeric and separated by at least one whitespace character.\n",
    "    * Each alphanumeric value in the line represents a node.\n",
    "    * Each line in the file represents an edge between the two nodes in that line.\n",
    "    * So for example, a text file such as:\n",
    "        * A1 A2\n",
    "        * A3 A4\n",
    "        * A4 A1\n",
    "    * is a graph with 4 nodes, A1, A2, A3, A4, and with edges connecting A1 and A2, A3 and A4 and A4 and A1\n",
    "<br>   \n",
    "* An algorithm for computing the number of connected components in a graph is as follows:\n",
    "    * Set `no_connected_components` to 0\n",
    "    * Create an empty set `visited` to track nodes that have been visited\n",
    "    * For each vertex, `v`,  in the graph:\n",
    "        * if `v` is not in `visited`:\n",
    "            * increment `no_connected_components` by 1\n",
    "            * do a depth first search from `v`, adding each node you visit to the `visited` set\n",
    "    * At the end of the for loop, `no_connected_components` will have the number of connected components in the graph.\n",
    "    * Print out `no_connected_components`\n",
    "<br>    \n",
    "* You should organize your code appropriately to show a clean and thoughtful design.\n",
    "    * Use functions as needed.\n",
    "    * Break up into cells so smaller pieces can be easily tested.\n",
    "    * Add the appropriate documentation to make your code comprehensible."
   ]
  },
  {
   "cell_type": "code",
   "execution_count": 12,
   "id": "8d3a3c94",
   "metadata": {},
   "outputs": [],
   "source": [
    "from collections import defaultdict"
   ]
  },
  {
   "cell_type": "code",
   "execution_count": 51,
   "id": "d95be652-0a5c-4d45-a9d9-e695002ebd33",
   "metadata": {},
   "outputs": [
    {
     "data": {
      "text/plain": [
       "defaultdict(list,\n",
       "            {'B': ['A', 'C', 'D'],\n",
       "             'A': ['B', 'C'],\n",
       "             'C': ['A', 'B', 'D'],\n",
       "             'D': ['B', 'C'],\n",
       "             'F': ['E', 'G'],\n",
       "             'E': ['F', 'G'],\n",
       "             'G': ['E', 'F']})"
      ]
     },
     "execution_count": 51,
     "metadata": {},
     "output_type": "execute_result"
    }
   ],
   "source": [
    "# Enter your code below\n",
    "# filename = \"one_graph.txt\"\n",
    "filename = \"two_graph.txt\"\n",
    "\n",
    "graph_dict = defaultdict(list)\n",
    "with open(filename) as f:\n",
    "    for line in f:\n",
    "        node1, node2 = line.strip().split()\n",
    "        if node1 not in graph_dict[node2]:\n",
    "            graph_dict[node2].append(node1)   \n",
    "            \n",
    "        if node2 not in graph_dict[node1]:\n",
    "            graph_dict[node1].append(node2)   \n",
    "            \n",
    "graph_dict"
   ]
  },
  {
   "cell_type": "code",
   "execution_count": 48,
   "id": "e0880399",
   "metadata": {},
   "outputs": [],
   "source": [
    "class Graph:\n",
    "    def __init__(self, filename=None):\n",
    "        self._graph_dict = defaultdict(list)\n",
    "        if filename is not None:\n",
    "            self.make_graph(filename)\n",
    "            \n",
    "    def make_graph(self, filename):\n",
    "        with open(filename) as f:\n",
    "            for line in f:\n",
    "                node1, node2 = line.strip().split()\n",
    "                if node1 not in self._graph_dict[node2]:\n",
    "                    self._graph_dict[node2].append(node1)   \n",
    "            \n",
    "                if node2 not in self._graph_dict[node1]:\n",
    "                    self._graph_dict[node1].append(node2)\n",
    "                    \n",
    "    def __str__(self):\n",
    "        result = \"\"\n",
    "        for parent, children in self._graph_dict.items():\n",
    "            result += f'Vertex: {parent}, Edges: {children}\\n'\n",
    "        return result\n",
    "    \n",
    "    def vertices(self):\n",
    "        return list(self._graph_dict)\n",
    "    \n",
    "    def edges(self, vertex):\n",
    "        return self._graph_dict[vertex]\n",
    "    \n",
    "    def dfs(self, vertex, visited):\n",
    "        print(vertex)\n",
    "        visited.add(vertex)\n",
    "        for child in self.edges(vertex):\n",
    "            if child not in visited:\n",
    "                self.dfs(child, visited)\n",
    "    \n",
    "    def connected_components(self):\n",
    "        visited = set()\n",
    "        no_connected_components = 0\n",
    "        for v in self.vertices():\n",
    "            if v not in visited:\n",
    "                no_connected_components += 1\n",
    "                self.dfs(v, visited)\n",
    "        \n",
    "        print(f'Num of Connected Components: {no_connected_components}')"
   ]
  },
  {
   "cell_type": "code",
   "execution_count": 49,
   "id": "e37ca97b",
   "metadata": {},
   "outputs": [
    {
     "name": "stdout",
     "output_type": "stream",
     "text": [
      "['B', 'C']\n"
     ]
    }
   ],
   "source": [
    "g= Graph(filename)\n",
    "print(g.edges(g.vertices()[1]))"
   ]
  },
  {
   "cell_type": "code",
   "execution_count": 43,
   "id": "d4936875",
   "metadata": {},
   "outputs": [
    {
     "name": "stdout",
     "output_type": "stream",
     "text": [
      "A\n",
      "B\n",
      "C\n",
      "D\n"
     ]
    }
   ],
   "source": [
    "g.dfs(\"A\", visited = set())"
   ]
  },
  {
   "cell_type": "code",
   "execution_count": 50,
   "id": "e943d3f0",
   "metadata": {},
   "outputs": [
    {
     "name": "stdout",
     "output_type": "stream",
     "text": [
      "B\n",
      "A\n",
      "C\n",
      "D\n",
      "F\n",
      "E\n",
      "G\n",
      "Num of Connected Components: 2\n"
     ]
    }
   ],
   "source": [
    "g.connected_components()"
   ]
  }
 ],
 "metadata": {
  "kernelspec": {
   "display_name": "Python 3 (ipykernel)",
   "language": "python",
   "name": "python3"
  },
  "language_info": {
   "codemirror_mode": {
    "name": "ipython",
    "version": 3
   },
   "file_extension": ".py",
   "mimetype": "text/x-python",
   "name": "python",
   "nbconvert_exporter": "python",
   "pygments_lexer": "ipython3",
   "version": "3.11.5"
  }
 },
 "nbformat": 4,
 "nbformat_minor": 5
}
