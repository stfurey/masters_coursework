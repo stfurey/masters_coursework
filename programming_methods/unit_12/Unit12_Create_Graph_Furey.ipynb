{
 "cells": [
  {
   "cell_type": "markdown",
   "id": "dc9b5e2a",
   "metadata": {},
   "source": [
    "## Unit 12 Create a graph from a text file\n",
    "* The objective of this quiz is for you to write code that creates a graph as a Python dictionary and uses the Graph class discussed in class.\n",
    "* The graph should be created by reading the data for the graph from a text file.\n",
    "    * You should use the text file `simple_graph.txt` for this purpose\n",
    "* You can assume that the graph is undirected and unweighted, and that there are no isolated vertices.\n",
    "* Each line in the text file will have two values which are alphanumeric and separated by at least one whitespace character.\n",
    "    * Each alphanumeric value in the line represents a node.\n",
    "    * Each line in the file represents an edge between the two nodes in that line.\n",
    "    * So for example, a text file such as:\n",
    "        * A1 A2\n",
    "        * A3 A4\n",
    "        * A4 A1\n",
    "    * is a graph with 4 nodes, A1, A2, A3, A4, and with edges connecting A1 and A2, A3 and A4 and A4 and A1\n",
    "* After you have read in the text file and created the dictionary representing the graph, you should then instatiate a graph object using the `Graph` class discussed in the class.\n",
    "* Finally, print out the graph using the print method in the `Graph` class. Your output should be as seen below for the simple graph.\n",
    "    * vertex: A1 \n",
    "    * edges: ['A2', 'A4']\n",
    "\n",
    "    * vertex: A2 \n",
    "    * edges: ['A1']\n",
    "\n",
    "    * vertex: A3 \n",
    "    * edges: ['A4']\n",
    "\n",
    "    * vertex: A4 \n",
    "    * edges: ['A3', 'A1']\n",
    "    \n",
    "* You should organize your code appropriately to show a clean and thoughtful design.\n",
    "    * Use functions as needed.\n",
    "    * Break up into cells so smaller pieces can be easily tested.\n",
    "    * Add the appropriate documentation to make your code comprehensible."
   ]
  },
  {
   "cell_type": "code",
   "execution_count": 4,
   "id": "6f42d9f5",
   "metadata": {},
   "outputs": [],
   "source": [
    "from collections import defaultdict"
   ]
  },
  {
   "cell_type": "markdown",
   "id": "7fdb701f-5f1e-4fe7-9e30-a2a59d1c167f",
   "metadata": {},
   "source": [
    "### Graph class copied below"
   ]
  },
  {
   "cell_type": "code",
   "execution_count": 5,
   "id": "4a5221ce-d733-4154-b9fb-38a7d9b9d35e",
   "metadata": {},
   "outputs": [],
   "source": [
    "# Graph class from the lectures\n",
    "class Graph(object):\n",
    "\n",
    "    def __init__(self, graph_dict=None):\n",
    "        \"\"\" Creates a graph object \"\"\"\n",
    "        if graph_dict == None:\n",
    "            graph_dict = {}\n",
    "        self._graph_dict = graph_dict\n",
    "        \n",
    "    def __str__(self):\n",
    "        res = \"\"\n",
    "        for k, val in self._graph_dict.items():\n",
    "            res += \"vertex: \"\n",
    "            res += str(k) + \" \"\n",
    "            res += \"\\nedges: \"\n",
    "            res += str(val)\n",
    "            res += \"\\n\\n\"\n",
    "        return res\n",
    "    \n",
    "    def vertices(self):\n",
    "        return list(self._graph_dict)\n",
    "    \n",
    "    def edges(self, vertex):\n",
    "        return self._graph_dict[vertex]"
   ]
  },
  {
   "cell_type": "markdown",
   "id": "9dadfc09-4a0e-468d-a464-3251073daad2",
   "metadata": {},
   "source": [
    "### In the cell below, read the text file and create the dictionary representing the graph as you read the file"
   ]
  },
  {
   "cell_type": "code",
   "execution_count": 6,
   "id": "fe239421-3910-410a-bc62-7f13ff234a5e",
   "metadata": {
    "tags": []
   },
   "outputs": [
    {
     "data": {
      "text/plain": [
       "defaultdict(list,\n",
       "            {'A2': ['A1'],\n",
       "             'A1': ['A2', 'A4'],\n",
       "             'A4': ['A3', 'A1'],\n",
       "             'A3': ['A4']})"
      ]
     },
     "execution_count": 6,
     "metadata": {},
     "output_type": "execute_result"
    }
   ],
   "source": [
    "# Enter your code below\n",
    "filename = \"simple_graph.txt\"\n",
    "\n",
    "graph_dict = defaultdict(list)\n",
    "with open(filename) as f:\n",
    "    for line in f:\n",
    "        node1, node2 = line.strip().split()\n",
    "        if node1 not in graph_dict[node2]:\n",
    "            graph_dict[node2].append(node1)   \n",
    "            \n",
    "        if node2 not in graph_dict[node1]:\n",
    "            graph_dict[node1].append(node2)   \n",
    "            \n",
    "graph_dict\n",
    "\n",
    "\n",
    "# graphDict = {}\n",
    "# with open(\"simple_graph.txt\", 'r') as file:\n",
    "#     for line in file:\n",
    "#         node1, node2 = line.strip().split()\n",
    "#         graphDict[node1]=[node2]"
   ]
  },
  {
   "cell_type": "markdown",
   "id": "747a5c45-f226-4207-aec5-4231b263a53f",
   "metadata": {},
   "source": [
    "### Now instatiate the graph you just read in as a dictionary as a  Graph class"
   ]
  },
  {
   "cell_type": "code",
   "execution_count": 8,
   "id": "31598e74-4673-43c8-b421-cd2697b83b76",
   "metadata": {
    "tags": []
   },
   "outputs": [],
   "source": [
    "## Enter your code below\n",
    "graph = Graph(graph_dict)"
   ]
  },
  {
   "cell_type": "markdown",
   "id": "89599dd1-772e-439d-b810-b8408fc63be2",
   "metadata": {},
   "source": [
    "### Print the graph you just instantiated using the print method for a Graph object."
   ]
  },
  {
   "cell_type": "code",
   "execution_count": null,
   "id": "68c66ae2-5109-4492-9e26-6cb06628ae73",
   "metadata": {
    "tags": []
   },
   "outputs": [],
   "source": [
    "# Enter your code here"
   ]
  },
  {
   "cell_type": "code",
   "execution_count": 9,
   "id": "f5b8aa22-e658-49e9-95ea-915501c085e1",
   "metadata": {},
   "outputs": [
    {
     "name": "stdout",
     "output_type": "stream",
     "text": [
      "vertex: A2 \n",
      "edges: ['A1']\n",
      "\n",
      "vertex: A1 \n",
      "edges: ['A2', 'A4']\n",
      "\n",
      "vertex: A4 \n",
      "edges: ['A3', 'A1']\n",
      "\n",
      "vertex: A3 \n",
      "edges: ['A4']\n",
      "\n",
      "\n"
     ]
    }
   ],
   "source": [
    "print(graph)"
   ]
  }
 ],
 "metadata": {
  "kernelspec": {
   "display_name": "Python 3 (ipykernel)",
   "language": "python",
   "name": "python3"
  },
  "language_info": {
   "codemirror_mode": {
    "name": "ipython",
    "version": 3
   },
   "file_extension": ".py",
   "mimetype": "text/x-python",
   "name": "python",
   "nbconvert_exporter": "python",
   "pygments_lexer": "ipython3",
   "version": "3.11.5"
  }
 },
 "nbformat": 4,
 "nbformat_minor": 5
}
