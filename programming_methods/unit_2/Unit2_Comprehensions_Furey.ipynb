{
 "cells": [
  {
   "cell_type": "markdown",
   "id": "79b9b181-ebe4-49aa-ae71-0bd72176b056",
   "metadata": {},
   "source": [
    "## Unit 2 Comprehensions Quiz\n",
    "* The objective of this quiz is for you to write code that uses list comprehension.\n",
    "* Please write a `function` called `even_odd_powers` that should do the following:\n",
    "    * Accept as input an integer > 0. Let us call it `N`.\n",
    "    * Use list comprehension to generate two lists:\n",
    "        * The first list should contain the squares of all integers between 1 and `N` that are even.\n",
    "        * The second list should contain the cubes of all integers between 1 and `N` that are odd.\n",
    "        * You function should return both lists.\n",
    "* Test you code for different values of `N`."
   ]
  },
  {
   "cell_type": "code",
   "execution_count": 1,
   "id": "79112d3d-c6af-405b-b8f4-cc54aeedfa84",
   "metadata": {},
   "outputs": [],
   "source": [
    "# Write the code for your program below.\n",
    "def even_odd_powers(N):\n",
    "    evenSquares = list(filter(lambda x: x % 2 == 0, map(lambda x: x **2, range(1,N))))\n",
    "    oddCubes = list(filter(lambda x: x % 2 != 0, map(lambda x: x **3, range(1,N))))\n",
    "    return evenSquares, oddCubes"
   ]
  },
  {
   "cell_type": "code",
   "execution_count": 2,
   "id": "70ae2f45",
   "metadata": {},
   "outputs": [
    {
     "name": "stdout",
     "output_type": "stream",
     "text": [
      "[4, 16, 36, 64, 100, 144, 196]\n",
      "[1, 27, 125, 343, 729, 1331, 2197]\n"
     ]
    }
   ],
   "source": [
    "evenSquares, oddCubes = even_odd_powers(15)\n",
    "print(evenSquares)\n",
    "print(oddCubes)"
   ]
  }
 ],
 "metadata": {
  "kernelspec": {
   "display_name": "Python 3 (ipykernel)",
   "language": "python",
   "name": "python3"
  },
  "language_info": {
   "codemirror_mode": {
    "name": "ipython",
    "version": 3
   },
   "file_extension": ".py",
   "mimetype": "text/x-python",
   "name": "python",
   "nbconvert_exporter": "python",
   "pygments_lexer": "ipython3",
   "version": "3.11.5"
  }
 },
 "nbformat": 4,
 "nbformat_minor": 5
}
