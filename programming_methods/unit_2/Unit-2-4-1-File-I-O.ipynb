{
 "cells": [
  {
   "cell_type": "markdown",
   "metadata": {},
   "source": [
    "##### <img src=\"../SDSS-Logo.png\" style=\"display:inline; width:500px\" />\n",
    "\n",
    "\n",
    "## Learning Objectives\n",
    "\n",
    "- Understand how to read from and write to files in python\n",
    "- Look at the special case of reading and writing from CSV files\n"
   ]
  },
  {
   "cell_type": "markdown",
   "metadata": {},
   "source": [
    "### We will look t a number of packages that are useful in Python File I/O"
   ]
  },
  {
   "cell_type": "markdown",
   "metadata": {},
   "source": [
    "### It is helpful to see what version of Python you are running\n",
    "* The `sys` package is helpful, see the command below"
   ]
  },
  {
   "cell_type": "code",
   "execution_count": 1,
   "metadata": {
    "tags": []
   },
   "outputs": [
    {
     "name": "stdout",
     "output_type": "stream",
     "text": [
      "3.11.5 | packaged by conda-forge | (main, Aug 27 2023, 03:34:09) [GCC 12.3.0]\n"
     ]
    }
   ],
   "source": [
    "import sys\n",
    "print(sys.version)"
   ]
  },
  {
   "cell_type": "markdown",
   "metadata": {},
   "source": [
    "### Reading and writing from files will usually involve dealing with file names and directories.\n",
    "* In Python, file name and directory names are usually treated as strings.\n",
    "* The [`os`](https://docs.python.org/3/library/os.html) module and [`os.path`](https://docs.python.org/3/library/os.path.html#module-os.path) in particular provides operating system independent ways of dealing with files and directories."
   ]
  },
  {
   "cell_type": "markdown",
   "metadata": {},
   "source": [
    "#### For example, you may want to see if a given file exists\n",
    "* `os.path.isfile()` can be used to do that."
   ]
  },
  {
   "cell_type": "code",
   "execution_count": 2,
   "metadata": {
    "tags": []
   },
   "outputs": [
    {
     "name": "stdout",
     "output_type": "stream",
     "text": [
      "File exists? True\n"
     ]
    }
   ],
   "source": [
    "# Check if `Unit2-4-1-test.txt` is a file in the current directory\n",
    "import os\n",
    "print(\"File exists?\", os.path.isfile('Unit-2-4-1-test.txt'))"
   ]
  },
  {
   "cell_type": "code",
   "execution_count": 4,
   "metadata": {
    "tags": []
   },
   "outputs": [
    {
     "name": "stdout",
     "output_type": "stream",
     "text": [
      "File exists? False\n"
     ]
    }
   ],
   "source": [
    "# Now for a file that does not exist\n",
    "print(\"File exists?\", os.path.isfile('Not-there.txt'))"
   ]
  },
  {
   "cell_type": "markdown",
   "metadata": {},
   "source": [
    "### Reading and writing files\n",
    "* Typically, when dealing with file I/O:\n",
    "    * You open a file, which yelds a file handle\n",
    "    * Use the file handle to read from or write to the file\n",
    "    * Close the file"
   ]
  },
  {
   "cell_type": "markdown",
   "metadata": {},
   "source": [
    "### Opening a file using `open`"
   ]
  },
  {
   "cell_type": "code",
   "execution_count": 10,
   "metadata": {
    "tags": []
   },
   "outputs": [
    {
     "name": "stdout",
     "output_type": "stream",
     "text": [
      "<_io.TextIOWrapper name='Unit-2-4-1-test.txt' mode='r' encoding='UTF-8'>\n"
     ]
    }
   ],
   "source": [
    "# Open the file `Unit-2-4-1-test.txt` for reading\n",
    "myFileHdl = open(\"Unit-2-4-1-test.txt\", \"r\")\n",
    "print(myFileHdl)"
   ]
  },
  {
   "cell_type": "markdown",
   "metadata": {},
   "source": [
    "#### What happens if you try to open a file for reading that does not exist?"
   ]
  },
  {
   "cell_type": "code",
   "execution_count": 8,
   "metadata": {
    "tags": []
   },
   "outputs": [
    {
     "ename": "FileNotFoundError",
     "evalue": "[Errno 2] No such file or directory: 'Not-there.txt'",
     "output_type": "error",
     "traceback": [
      "\u001b[0;31m---------------------------------------------------------------------------\u001b[0m",
      "\u001b[0;31mFileNotFoundError\u001b[0m                         Traceback (most recent call last)",
      "Cell \u001b[0;32mIn[8], line 1\u001b[0m\n\u001b[0;32m----> 1\u001b[0m anotherHdl \u001b[38;5;241m=\u001b[39m \u001b[38;5;28;43mopen\u001b[39;49m\u001b[43m(\u001b[49m\u001b[38;5;124;43m\"\u001b[39;49m\u001b[38;5;124;43mNot-there.txt\u001b[39;49m\u001b[38;5;124;43m\"\u001b[39;49m\u001b[43m,\u001b[49m\u001b[43m \u001b[49m\u001b[38;5;124;43m\"\u001b[39;49m\u001b[38;5;124;43mr\u001b[39;49m\u001b[38;5;124;43m\"\u001b[39;49m\u001b[43m)\u001b[49m\n\u001b[1;32m      2\u001b[0m \u001b[38;5;28mprint\u001b[39m(anotherHdl)\n",
      "File \u001b[0;32m/opt/conda/lib/python3.11/site-packages/IPython/core/interactiveshell.py:286\u001b[0m, in \u001b[0;36m_modified_open\u001b[0;34m(file, *args, **kwargs)\u001b[0m\n\u001b[1;32m    279\u001b[0m \u001b[38;5;28;01mif\u001b[39;00m file \u001b[38;5;129;01min\u001b[39;00m {\u001b[38;5;241m0\u001b[39m, \u001b[38;5;241m1\u001b[39m, \u001b[38;5;241m2\u001b[39m}:\n\u001b[1;32m    280\u001b[0m     \u001b[38;5;28;01mraise\u001b[39;00m \u001b[38;5;167;01mValueError\u001b[39;00m(\n\u001b[1;32m    281\u001b[0m         \u001b[38;5;124mf\u001b[39m\u001b[38;5;124m\"\u001b[39m\u001b[38;5;124mIPython won\u001b[39m\u001b[38;5;124m'\u001b[39m\u001b[38;5;124mt let you open fd=\u001b[39m\u001b[38;5;132;01m{\u001b[39;00mfile\u001b[38;5;132;01m}\u001b[39;00m\u001b[38;5;124m by default \u001b[39m\u001b[38;5;124m\"\u001b[39m\n\u001b[1;32m    282\u001b[0m         \u001b[38;5;124m\"\u001b[39m\u001b[38;5;124mas it is likely to crash IPython. If you know what you are doing, \u001b[39m\u001b[38;5;124m\"\u001b[39m\n\u001b[1;32m    283\u001b[0m         \u001b[38;5;124m\"\u001b[39m\u001b[38;5;124myou can use builtins\u001b[39m\u001b[38;5;124m'\u001b[39m\u001b[38;5;124m open.\u001b[39m\u001b[38;5;124m\"\u001b[39m\n\u001b[1;32m    284\u001b[0m     )\n\u001b[0;32m--> 286\u001b[0m \u001b[38;5;28;01mreturn\u001b[39;00m \u001b[43mio_open\u001b[49m\u001b[43m(\u001b[49m\u001b[43mfile\u001b[49m\u001b[43m,\u001b[49m\u001b[43m \u001b[49m\u001b[38;5;241;43m*\u001b[39;49m\u001b[43margs\u001b[49m\u001b[43m,\u001b[49m\u001b[43m \u001b[49m\u001b[38;5;241;43m*\u001b[39;49m\u001b[38;5;241;43m*\u001b[39;49m\u001b[43mkwargs\u001b[49m\u001b[43m)\u001b[49m\n",
      "\u001b[0;31mFileNotFoundError\u001b[0m: [Errno 2] No such file or directory: 'Not-there.txt'"
     ]
    }
   ],
   "source": [
    "anotherHdl = open(\"Not-there.txt\", \"r\")\n",
    "print(anotherHdl)"
   ]
  },
  {
   "cell_type": "markdown",
   "metadata": {},
   "source": [
    "### If the file exists and it is a text file, we can read it in line-by-line using the `readline()` method."
   ]
  },
  {
   "cell_type": "code",
   "execution_count": 11,
   "metadata": {
    "tags": []
   },
   "outputs": [
    {
     "name": "stdout",
     "output_type": "stream",
     "text": [
      "One bright morning as the Fox was following his sharp nose through the wood in search of a bite to eat, he saw a Crow on the limb of a tree overhead. This was by no means the first Crow the Fox had ever seen. What caught his attention this time and made him stop for a second look, was that the lucky Crow held a bit of cheese in her beak.\n",
      "\n",
      "\n",
      " <class 'str'>\n"
     ]
    }
   ],
   "source": [
    "# Read a single line and print it out\n",
    "lineData = myFileHdl.readline()\n",
    "print(lineData)\n",
    "print(f\"\\n {type(lineData)}\")"
   ]
  },
  {
   "cell_type": "markdown",
   "metadata": {},
   "source": [
    "### `readlines()` will read all the lines in the file into a list of strings"
   ]
  },
  {
   "cell_type": "code",
   "execution_count": 12,
   "metadata": {
    "tags": []
   },
   "outputs": [
    {
     "name": "stdout",
     "output_type": "stream",
     "text": [
      "['\\n', '\"No need to search any farther,\" thought sly Master Fox. \"Here is a dainty bite for my breakfast.\"\\n', '\\n', 'Up he trotted to the foot of the tree in which the Crow was sitting, and looking up admiringly, he cried, \"Good-morning, beautiful creature!\"\\n', '\\n', 'The Crow, her head cocked on one side, watched the Fox suspiciously. But she kept her beak tightly closed on the cheese and did not return his greeting.\\n', '\\n', '\"What a charming creature she is!\" said the Fox. \"How her feathers shine! What a beautiful form and what splendid wings! Such a wonderful Bird should have a very lovely voice, since everything else about her is so perfect. Could she sing just one song, I know I should hail her Queen of Birds.\"\\n', '\\n', \"Listening to these flattering words, the Crow forgot all her suspicion, and also her breakfast. She wanted very much to be called Queen of Birds. So she opened her beak wide to utter her loudest caw, and down fell the cheese straight into the Fox's open mouth.\\n\", '\\n', '\"Thank you,\" said Master Fox sweetly, as he walked off. \"Though it is cracked, you have a voice sure enough. But where are your wits?\"\\n', '\\n']\n"
     ]
    }
   ],
   "source": [
    "linesList = myFileHdl.readlines()\n",
    "print(linesList)"
   ]
  },
  {
   "cell_type": "markdown",
   "metadata": {},
   "source": [
    "### Note that `readlines()` did not read the first line.\n",
    "* That is because as you read from a file you can imagine a pointer that moves along the file.\n",
    "* So the first `readline()` read the first line and the pointer is at the end of that line.\n",
    "* `readlines()` then reads the rest of the file from the current pointer position."
   ]
  },
  {
   "cell_type": "markdown",
   "metadata": {},
   "source": [
    "#### Once you have read or written to a file, it is best to use `close()` to close the file"
   ]
  },
  {
   "cell_type": "code",
   "execution_count": 13,
   "metadata": {
    "tags": []
   },
   "outputs": [],
   "source": [
    "myFileHdl.close()"
   ]
  },
  {
   "cell_type": "markdown",
   "metadata": {},
   "source": [
    "### CSV (comma separated values) is a very common data format used for tabular data in data science.\n",
    "* See for example the file `Unit-2-5-polling_place_NC_20201103.csv`"
   ]
  },
  {
   "cell_type": "markdown",
   "metadata": {},
   "source": [
    "#### python has the `csv` module and `csv.reader()` to make reading CSV files easy\n",
    "* The example below also shows how to use the `with` statement with file I/O a common pattern"
   ]
  },
  {
   "cell_type": "code",
   "execution_count": 17,
   "metadata": {},
   "outputs": [
    {
     "name": "stdout",
     "output_type": "stream",
     "text": [
      "Number of lines read = 2663\n",
      "First 10 list values\n",
      " [['election_dt', 'county_name', 'polling_place_id', 'polling_place_name', 'precinct_name', 'house_num', 'street_name', 'city', 'state', 'zip'], ['11/03/2020', 'ALAMANCE', '1', 'ALAMANCE CIVITAN CLUB HOUSE', 'COBLE', '3328', 'DOCTOR PICKETT RD', 'BURLINGTON', 'NC', '27215'], ['11/03/2020', 'ALAMANCE', '10', 'ELMIRA COMMUNITY CENTER', 'BURLINGTON 7', '810', 'WICKER ST', 'BURLINGTON', 'NC', '27217'], ['11/03/2020', 'ALAMANCE', '12', 'FIRST BAPTIST CHURCH OF ELON', 'NORTH BOONE', '621', 'HAGGARD AVE', 'ELON', 'NC', '27244'], ['11/03/2020', 'ALAMANCE', '13', 'LAKEVIEW COMMUNITY CHURCH', 'FAUCETTE', '101', 'BOONE RD', 'BURLINGTON', 'NC', '27217'], ['11/03/2020', 'ALAMANCE', '14', 'FELLOWSHIP BAPTIST CHURCH', 'GRAHAM 4', '2744', 'MAPLE AVE', 'BURLINGTON', 'NC', '27215'], ['11/03/2020', 'ALAMANCE', '15', 'FIRST PRESBYTERIAN CHURCH', 'WEST BURLINGTON', '508', 'DAVIS ST', 'BURLINGTON', 'NC', '27215'], ['11/03/2020', 'ALAMANCE', '16', 'GRAHAM CIVIC CENTER', 'EAST GRAHAM', '503', 'MCGEE ST', 'GRAHAM', 'NC', '27253'], ['11/03/2020', 'ALAMANCE', '17', 'GRAHAM RECREATION CENTER', 'NORTH GRAHAM', '311', 'COLLEGE ST', 'GRAHAM', 'NC', '27253'], ['11/03/2020', 'ALAMANCE', '18', 'GROVE PARK BAPTIST CHURCH', 'BURLINGTON 5', '108', 'TRAIL ONE', 'BURLINGTON', 'NC', '27215']]\n"
     ]
    }
   ],
   "source": [
    "# example of using `csv_reader` and `with` to read a CSV file\n",
    "import csv\n",
    "bigList = []\n",
    "noLines = 0\n",
    "with open('Unit-2-5-polling_place_NC_20201103.csv', mode = 'r') as myFile:\n",
    "    csvFile = csv.reader(myFile)\n",
    "    for lines in csvFile:\n",
    "        noLines += 1\n",
    "        bigList.append(lines)\n",
    "print(f\"Number of lines read = {noLines}\")\n",
    "print(f\"First 10 list values\\n {bigList[:10]}\")\n",
    "        \n",
    "        "
   ]
  },
  {
   "cell_type": "code",
   "execution_count": null,
   "metadata": {},
   "outputs": [],
   "source": []
  }
 ],
 "metadata": {
  "celltoolbar": "Edit Metadata",
  "kernelspec": {
   "display_name": "Python 3 (ipykernel)",
   "language": "python",
   "name": "python3"
  },
  "language_info": {
   "codemirror_mode": {
    "name": "ipython",
    "version": 3
   },
   "file_extension": ".py",
   "mimetype": "text/x-python",
   "name": "python",
   "nbconvert_exporter": "python",
   "pygments_lexer": "ipython3",
   "version": "3.11.5"
  }
 },
 "nbformat": 4,
 "nbformat_minor": 4
}
