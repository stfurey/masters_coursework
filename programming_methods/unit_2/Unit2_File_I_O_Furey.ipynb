{
 "cells": [
  {
   "cell_type": "markdown",
   "id": "79b9b181-ebe4-49aa-ae71-0bd72176b056",
   "metadata": {},
   "source": [
    "## Unit 2 File I/O Quiz\n",
    "* The objective of this quiz is for you to write code that reads data from a file and does simple analysis on the data.\n",
    "* The name of the file is `Unit2_city_weather_data.csv`.\n",
    "* The file contains weather data for two North Carolina cities.\n",
    "* The file is in the CSV format.\n",
    "* The file has three columns: a date, a city and the temperature for that city and date.\n",
    "* Your code should do the following:\n",
    "    * Read the data from Unit2_city_weather_data.txt.\n",
    "    * Extract the date, city, and temperature values.\n",
    "    * Calculate the average temperature for each city.\n",
    "    * Print out the average temperature for each city.\n",
    "    * Identify and print the dates for each city where the temperature was above the city's average."
   ]
  },
  {
   "cell_type": "code",
   "execution_count": 1,
   "id": "79112d3d-c6af-405b-b8f4-cc54aeedfa84",
   "metadata": {},
   "outputs": [
    {
     "name": "stdout",
     "output_type": "stream",
     "text": [
      "Date,City,Temperature (C)\n",
      "2024-01-01,Raleigh,22\n",
      "2024-01-02,Charlotte,21\n",
      "2024-01-03,Raleigh,23\n",
      "2024-01-04,Charlotte,24\n",
      "2024-01-05,Raleigh,20\n",
      "2024-01-06,Charlotte,19\n",
      "2024-01-07,Raleigh,22\n",
      "\n"
     ]
    }
   ],
   "source": [
    "# Write the code for your program below.\n",
    "with open('Unit2_city_weather_data.csv', 'r') as data:\n",
    "    line = data.read()\n",
    "    print(line)\n",
    "data.close()"
   ]
  },
  {
   "cell_type": "code",
   "execution_count": 2,
   "id": "9d137ac9",
   "metadata": {},
   "outputs": [
    {
     "name": "stdout",
     "output_type": "stream",
     "text": [
      "Average temperature in Raleigh is 21.75 degrees Celcius!\n",
      "The following dates were hotter than usual in Raleigh:\n",
      "2024-01-01\n",
      "2024-01-03\n",
      "2024-01-07\n"
     ]
    }
   ],
   "source": [
    "import pandas as pd\n",
    "df = pd.read_csv(r\"Unit2_city_weather_data.csv\")\n",
    "raleighAvg = df.loc[df['City'] == 'Raleigh'][\"Temperature (C)\"].mean()\n",
    "print(\"Average temperature in Raleigh is \" + str(raleighAvg) + \" degrees Celcius!\")\n",
    "dfRaleighHot = df.loc[(df['City'] == 'Raleigh') & (df['Temperature (C)'] > raleighAvg)]\n",
    "print(\"The following dates were hotter than usual in Raleigh:\")\n",
    "print(dfRaleighHot['Date'].to_string(index=False))"
   ]
  },
  {
   "cell_type": "code",
   "execution_count": 3,
   "id": "4c6d09b2",
   "metadata": {},
   "outputs": [
    {
     "name": "stdout",
     "output_type": "stream",
     "text": [
      "Average temperature in Charlotte is 21.33 degrees Celcius!\n",
      "The following dates were hotter than usual in Charlotte:\n",
      "2024-01-04\n"
     ]
    }
   ],
   "source": [
    "dfCharlotte = df.loc[df['City'] == 'Charlotte']\n",
    "charlotteAvg = round(dfCharlotte[\"Temperature (C)\"].mean(),2)\n",
    "print(\"Average temperature in Charlotte is \" + str(charlotteAvg) + \" degrees Celcius!\")\n",
    "dfRaleighHot = dfCharlotte.loc[dfCharlotte['Temperature (C)'] > charlotteAvg]\n",
    "print(\"The following dates were hotter than usual in Charlotte:\")\n",
    "print(dfRaleighHot['Date'].to_string(index=False))"
   ]
  }
 ],
 "metadata": {
  "kernelspec": {
   "display_name": "Python 3 (ipykernel)",
   "language": "python",
   "name": "python3"
  },
  "language_info": {
   "codemirror_mode": {
    "name": "ipython",
    "version": 3
   },
   "file_extension": ".py",
   "mimetype": "text/x-python",
   "name": "python",
   "nbconvert_exporter": "python",
   "pygments_lexer": "ipython3",
   "version": "3.11.5"
  }
 },
 "nbformat": 4,
 "nbformat_minor": 5
}
