{
 "cells": [
  {
   "cell_type": "markdown",
   "id": "79b9b181-ebe4-49aa-ae71-0bd72176b056",
   "metadata": {},
   "source": [
    "## Unit 2 Programming Assignment\n",
    "* The objective of this assignment is for you to write code that reads a text file and computes on the text data.\n",
    "* Your program should read a text file, do some cleaning of the text and compute word statistics.\n",
    "* In particular, the code should:\n",
    "    1. Read the content of the text file `Unit2_Python_learning_journey.txt`.\n",
    "        * The text in this file is from the free Python text book, [Python for everybody](https://www.py4e.com/book.php)\n",
    "    2. Remove punctuation and convert all words to lowercase.\n",
    "    3. Split the text into individual words.\n",
    "    4. Use a set to find all unique words.\n",
    "    5. Use a dictionary to count the frequency of each unique word.\n",
    "    6. Display each unique word along with its frequency.\n",
    "* You should organize your code appropriately to show a clean and thoughtful design.\n",
    "    * Use functions as needed.\n",
    "    * Break up into cells so smaller pieces can be easily tested.\n",
    "    * Add teh appropriate documentation to make your code comprehensible."
   ]
  },
  {
   "cell_type": "code",
   "execution_count": 1,
   "id": "79112d3d-c6af-405b-b8f4-cc54aeedfa84",
   "metadata": {},
   "outputs": [],
   "source": [
    "# Write the code for your program below.\n",
    "\n",
    "# Make list of words in .txt file\n",
    "def makeList(file):\n",
    "    data = open(file, \"r\", encoding=\"utf8\")\n",
    "    # Read lines of .txt file into a string\n",
    "    string = str(data.readlines())\n",
    "    # Filter string to just include alphabetical characters and spacers then make all characters lower case\n",
    "    string = ''.join(filter(lambda x: x.isalpha() or x.isspace(), string)).lower()\n",
    "    # Make words into string into list\n",
    "    myList = string.split()\n",
    "    return myList\n",
    "\n",
    "# Removes duplicate words from list\n",
    "def keep_unique(myList):\n",
    "    unique_list = []\n",
    "    for value in myList:\n",
    "        if value not in unique_list:\n",
    "            unique_list.append(value)\n",
    "    return unique_list\n",
    "\n",
    "# Counts frequency of words in a list and displays in a dictionary\n",
    "def countDict(myList):\n",
    "    counts = {x: myList.count(x) for x in myList}\n",
    "    return counts"
   ]
  },
  {
   "cell_type": "code",
   "execution_count": 2,
   "id": "e9fa6321",
   "metadata": {},
   "outputs": [
    {
     "name": "stdout",
     "output_type": "stream",
     "text": [
      "['as', 'you', 'progress', 'through', 'the', 'rest', 'of', 'the', 'book', 'dont', 'be', 'afraid', 'if', 'the', 'concepts', 'dont', 'seem', 'to', 'ﬁt', 'together', 'well', 'the', 'ﬁrst', 'time', 'when', 'you', 'were', 'learning', 'to', 'speak', 'it', 'was', 'not', 'a', 'problem', 'for', 'your', 'ﬁrst', 'few', 'years', 'that', 'you', 'just', 'made', 'cute', 'gurgling', 'noises', 'and', 'it', 'was', 'ok', 'if', 'it', 'took', 'six', 'months', 'for', 'you', 'to', 'move', 'from', 'simple', 'vocabulary', 'to', 'simple', 'sentences', 'and', 'took', 'more', 'years', 'to', 'move', 'from', 'sentences', 'to', 'paragraphs', 'and', 'a', 'few', 'more', 'years', 'to', 'be', 'able', 'to', 'write', 'an', 'interesting', 'complete', 'short', 'story', 'on', 'your', 'own', 'n', 'n', 'we', 'want', 'you', 'to', 'learn', 'python', 'much', 'more', 'rapidly', 'so', 'we', 'teach', 'it', 'all', 'at', 'the', 'same', 'time', 'over', 'the', 'next', 'few', 'chapters', 'but', 'it', 'is', 'like', 'learning', 'a', 'new', 'language', 'that', 'takes', 'time', 'to', 'absorb', 'and', 'understand', 'before', 'it', 'feels', 'natural', 'that', 'leads', 'to', 'some', 'confusion', 'as', 'we', 'visit', 'and', 'revisit', 'topics', 'to', 'try', 'to', 'get', 'you', 'to', 'see', 'the', 'big', 'picture', 'while', 'we', 'are', 'deﬁning', 'the', 'tiny', 'fragments', 'that', 'make', 'up', 'that', 'big', 'picture', 'while', 'the', 'book', 'is', 'written', 'linearly', 'and', 'if', 'you', 'are', 'taking', 'a', 'course', 'it', 'will', 'progress', 'in', 'a', 'linear', 'fashion', 'dont', 'hesitate', 'to', 'be', 'very', 'nonlinear', 'in', 'how', 'you', 'approach', 'the', 'material', 'look', 'forwards', 'and', 'backwards', 'and', 'read', 'with', 'a', 'light', 'touch', 'by', 'skimming', 'more', 'advanced', 'material', 'without', 'fully', 'understanding', 'the', 'details', 'you', 'can', 'get', 'a', 'better', 'understanding', 'of', 'the', 'why', 'of', 'programming', 'by', 'reviewing', 'previous', 'material', 'and', 'even', 'redoing', 'earlier', 'exercises', 'you', 'will', 'realize', 'that', 'you', 'actually', 'learned', 'a', 'lot', 'of', 'material', 'even', 'if', 'the', 'material', 'you', 'are', 'currently', 'staring', 'at', 'seems', 'a', 'bit', 'impenetrable', 'n', 'n', 'usually', 'when', 'you', 'are', 'learning', 'your', 'ﬁrst', 'programming', 'language', 'there', 'are', 'a', 'few', 'wonderful', 'ah', 'hah', 'moments', 'where', 'you', 'can', 'look', 'up', 'from', 'pounding', 'away', 'at', 'some', 'rock', 'with', 'a', 'hammer', 'and', 'chisel', 'and', 'step', 'away', 'and', 'see', 'that', 'you', 'are', 'indeed', 'building', 'a', 'beautiful', 'sculpture', 'n', 'n', 'if', 'something', 'seems', 'particularly', 'hard', 'there', 'is', 'usually', 'no', 'value', 'in', 'staying', 'up', 'all', 'night', 'and', 'staring', 'at', 'it', 'take', 'a', 'break', 'take', 'a', 'nap', 'have', 'a', 'snack', 'explain', 'what', 'you', 'are', 'having', 'a', 'problem', 'with', 'to', 'someone', 'or', 'perhaps', 'your', 'dog', 'and', 'then', 'come', 'back', 'to', 'it', 'with', 'fresh', 'eyes', 'i', 'assure', 'you', 'that', 'once', 'you', 'learn', 'the', 'programming', 'concepts', 'in', 'the', 'book', 'you', 'will', 'look', 'back', 'and', 'see', 'that', 'it', 'was', 'all', 'really', 'easy', 'and', 'elegant', 'and', 'it', 'simply', 'took', 'you', 'a', 'bit', 'of', 'time', 'to', 'absorb', 'itn']\n"
     ]
    }
   ],
   "source": [
    "myList = makeList('Unit2_Python_learning_journey.txt')\n",
    "print(myList)"
   ]
  },
  {
   "cell_type": "code",
   "execution_count": 3,
   "id": "74a3ca75",
   "metadata": {},
   "outputs": [
    {
     "name": "stdout",
     "output_type": "stream",
     "text": [
      "['as', 'you', 'progress', 'through', 'the', 'rest', 'of', 'book', 'dont', 'be', 'afraid', 'if', 'concepts', 'seem', 'to', 'ﬁt', 'together', 'well', 'ﬁrst', 'time', 'when', 'were', 'learning', 'speak', 'it', 'was', 'not', 'a', 'problem', 'for', 'your', 'few', 'years', 'that', 'just', 'made', 'cute', 'gurgling', 'noises', 'and', 'ok', 'took', 'six', 'months', 'move', 'from', 'simple', 'vocabulary', 'sentences', 'more', 'paragraphs', 'able', 'write', 'an', 'interesting', 'complete', 'short', 'story', 'on', 'own', 'n', 'we', 'want', 'learn', 'python', 'much', 'rapidly', 'so', 'teach', 'all', 'at', 'same', 'over', 'next', 'chapters', 'but', 'is', 'like', 'new', 'language', 'takes', 'absorb', 'understand', 'before', 'feels', 'natural', 'leads', 'some', 'confusion', 'visit', 'revisit', 'topics', 'try', 'get', 'see', 'big', 'picture', 'while', 'are', 'deﬁning', 'tiny', 'fragments', 'make', 'up', 'written', 'linearly', 'taking', 'course', 'will', 'in', 'linear', 'fashion', 'hesitate', 'very', 'nonlinear', 'how', 'approach', 'material', 'look', 'forwards', 'backwards', 'read', 'with', 'light', 'touch', 'by', 'skimming', 'advanced', 'without', 'fully', 'understanding', 'details', 'can', 'better', 'why', 'programming', 'reviewing', 'previous', 'even', 'redoing', 'earlier', 'exercises', 'realize', 'actually', 'learned', 'lot', 'currently', 'staring', 'seems', 'bit', 'impenetrable', 'usually', 'there', 'wonderful', 'ah', 'hah', 'moments', 'where', 'pounding', 'away', 'rock', 'hammer', 'chisel', 'step', 'indeed', 'building', 'beautiful', 'sculpture', 'something', 'particularly', 'hard', 'no', 'value', 'staying', 'night', 'take', 'break', 'nap', 'have', 'snack', 'explain', 'what', 'having', 'someone', 'or', 'perhaps', 'dog', 'then', 'come', 'back', 'fresh', 'eyes', 'i', 'assure', 'once', 'really', 'easy', 'elegant', 'simply', 'itn']\n"
     ]
    }
   ],
   "source": [
    "uniqueList = keep_unique(myList)\n",
    "print(uniqueList)"
   ]
  },
  {
   "cell_type": "code",
   "execution_count": 4,
   "id": "b587c603",
   "metadata": {},
   "outputs": [
    {
     "name": "stdout",
     "output_type": "stream",
     "text": [
      "{'as': 2, 'you': 20, 'progress': 2, 'through': 1, 'the': 15, 'rest': 1, 'of': 5, 'book': 3, 'dont': 3, 'be': 3, 'afraid': 1, 'if': 5, 'concepts': 2, 'seem': 1, 'to': 18, 'ﬁt': 1, 'together': 1, 'well': 1, 'ﬁrst': 3, 'time': 4, 'when': 2, 'were': 1, 'learning': 3, 'speak': 1, 'it': 11, 'was': 3, 'not': 1, 'a': 17, 'problem': 2, 'for': 2, 'your': 4, 'few': 4, 'years': 3, 'that': 9, 'just': 1, 'made': 1, 'cute': 1, 'gurgling': 1, 'noises': 1, 'and': 17, 'ok': 1, 'took': 3, 'six': 1, 'months': 1, 'move': 2, 'from': 3, 'simple': 2, 'vocabulary': 1, 'sentences': 2, 'more': 4, 'paragraphs': 1, 'able': 1, 'write': 1, 'an': 1, 'interesting': 1, 'complete': 1, 'short': 1, 'story': 1, 'on': 1, 'own': 1, 'n': 6, 'we': 4, 'want': 1, 'learn': 2, 'python': 1, 'much': 1, 'rapidly': 1, 'so': 1, 'teach': 1, 'all': 3, 'at': 4, 'same': 1, 'over': 1, 'next': 1, 'chapters': 1, 'but': 1, 'is': 3, 'like': 1, 'new': 1, 'language': 2, 'takes': 1, 'absorb': 2, 'understand': 1, 'before': 1, 'feels': 1, 'natural': 1, 'leads': 1, 'some': 2, 'confusion': 1, 'visit': 1, 'revisit': 1, 'topics': 1, 'try': 1, 'get': 2, 'see': 3, 'big': 2, 'picture': 2, 'while': 2, 'are': 7, 'deﬁning': 1, 'tiny': 1, 'fragments': 1, 'make': 1, 'up': 3, 'written': 1, 'linearly': 1, 'taking': 1, 'course': 1, 'will': 3, 'in': 4, 'linear': 1, 'fashion': 1, 'hesitate': 1, 'very': 1, 'nonlinear': 1, 'how': 1, 'approach': 1, 'material': 5, 'look': 3, 'forwards': 1, 'backwards': 1, 'read': 1, 'with': 4, 'light': 1, 'touch': 1, 'by': 2, 'skimming': 1, 'advanced': 1, 'without': 1, 'fully': 1, 'understanding': 2, 'details': 1, 'can': 2, 'better': 1, 'why': 1, 'programming': 3, 'reviewing': 1, 'previous': 1, 'even': 2, 'redoing': 1, 'earlier': 1, 'exercises': 1, 'realize': 1, 'actually': 1, 'learned': 1, 'lot': 1, 'currently': 1, 'staring': 2, 'seems': 2, 'bit': 2, 'impenetrable': 1, 'usually': 2, 'there': 2, 'wonderful': 1, 'ah': 1, 'hah': 1, 'moments': 1, 'where': 1, 'pounding': 1, 'away': 2, 'rock': 1, 'hammer': 1, 'chisel': 1, 'step': 1, 'indeed': 1, 'building': 1, 'beautiful': 1, 'sculpture': 1, 'something': 1, 'particularly': 1, 'hard': 1, 'no': 1, 'value': 1, 'staying': 1, 'night': 1, 'take': 2, 'break': 1, 'nap': 1, 'have': 1, 'snack': 1, 'explain': 1, 'what': 1, 'having': 1, 'someone': 1, 'or': 1, 'perhaps': 1, 'dog': 1, 'then': 1, 'come': 1, 'back': 2, 'fresh': 1, 'eyes': 1, 'i': 1, 'assure': 1, 'once': 1, 'really': 1, 'easy': 1, 'elegant': 1, 'simply': 1, 'itn': 1}\n"
     ]
    }
   ],
   "source": [
    "counts = countDict(myList)\n",
    "print(counts)"
   ]
  }
 ],
 "metadata": {
  "kernelspec": {
   "display_name": "Python 3 (ipykernel)",
   "language": "python",
   "name": "python3"
  },
  "language_info": {
   "codemirror_mode": {
    "name": "ipython",
    "version": 3
   },
   "file_extension": ".py",
   "mimetype": "text/x-python",
   "name": "python",
   "nbconvert_exporter": "python",
   "pygments_lexer": "ipython3",
   "version": "3.11.5"
  }
 },
 "nbformat": 4,
 "nbformat_minor": 5
}
