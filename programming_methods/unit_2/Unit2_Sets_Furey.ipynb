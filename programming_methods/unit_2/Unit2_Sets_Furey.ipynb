{
 "cells": [
  {
   "cell_type": "markdown",
   "id": "79b9b181-ebe4-49aa-ae71-0bd72176b056",
   "metadata": {},
   "source": [
    "## Unit 2 Sets Quiz\n",
    "* The objective of this quiz is for you to write code that uses sets.\n",
    "* Please write a `function` called `keep_unique` that should do the following:\n",
    "    * Accept an input list.\n",
    "    * Return another list that contains only the unique elements in the input list.\n",
    "* Print out the number of items in the original list and the number of unique elements in the list.\n",
    "* A list called `myList` is included below for you to test your code.\n",
    "    * Please test you code with other larger lists as well as lists with non-numerical values."
   ]
  },
  {
   "cell_type": "code",
   "execution_count": 2,
   "id": "003dc922-6347-477b-84fe-397c0c0ce58b",
   "metadata": {},
   "outputs": [],
   "source": [
    "## List for testing\n",
    "# myList = [0, 1, 22, 1, 34, 67, 0, 67, 120, 33, 33, 0, 1]\n",
    "myList = [\"a\", 1, \"z\", 1, 34, \"string\", 0, 67, 120, \"a1r\", 33, 0, 12, \"string\"]\n"
   ]
  },
  {
   "cell_type": "code",
   "execution_count": 5,
   "id": "79112d3d-c6af-405b-b8f4-cc54aeedfa84",
   "metadata": {},
   "outputs": [],
   "source": [
    "# Write the code for your program below.\n",
    "def keep_unique(myList):\n",
    "    unique_list = []\n",
    "    for value in myList:\n",
    "        if value not in unique_list:\n",
    "            unique_list.append(value)\n",
    "    print(f\"The list has {len(myList)} values.\")\n",
    "    print(f\"There were {len(unique_list)} unique values.\")\n",
    "    return unique_list"
   ]
  },
  {
   "cell_type": "code",
   "execution_count": 6,
   "id": "cf06bbb2",
   "metadata": {},
   "outputs": [
    {
     "name": "stdout",
     "output_type": "stream",
     "text": [
      "The list has 14 values.\n",
      "There were 11 unique values.\n"
     ]
    },
    {
     "data": {
      "text/plain": [
       "['a', 1, 'z', 34, 'string', 0, 67, 120, 'a1r', 33, 12]"
      ]
     },
     "execution_count": 6,
     "metadata": {},
     "output_type": "execute_result"
    }
   ],
   "source": [
    "keep_unique(myList)"
   ]
  },
  {
   "cell_type": "code",
   "execution_count": null,
   "id": "b68696b6",
   "metadata": {},
   "outputs": [],
   "source": [
    "\n"
   ]
  }
 ],
 "metadata": {
  "kernelspec": {
   "display_name": "Python 3 (ipykernel)",
   "language": "python",
   "name": "python3"
  },
  "language_info": {
   "codemirror_mode": {
    "name": "ipython",
    "version": 3
   },
   "file_extension": ".py",
   "mimetype": "text/x-python",
   "name": "python",
   "nbconvert_exporter": "python",
   "pygments_lexer": "ipython3",
   "version": "3.11.5"
  }
 },
 "nbformat": 4,
 "nbformat_minor": 5
}
