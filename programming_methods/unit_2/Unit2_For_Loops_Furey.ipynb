{
 "cells": [
  {
   "cell_type": "markdown",
   "id": "79b9b181-ebe4-49aa-ae71-0bd72176b056",
   "metadata": {},
   "source": [
    "## Unit 2 For Loops Quiz\n",
    "* The objective of this quiz is for you to write code that implements a number guessing game.\n",
    "* The objective of the game is for the player to guess a randomly chosen number within a given number of guesses.\n",
    "* Your program should do the following:\n",
    "    * Print a suitable message that explains the rules of the game.\n",
    "    * Generate a random number within a specified range.\n",
    "        * Consider using the Python function `randint` from the [`random`](https://docs.python.org/3/library/random.html) module. Example usage is shown below.\n",
    "        * To begin with, assume that the range is from 0-100 and the player has to guess it within 6 guesses.\n",
    "    * Create a `for` loop that:\n",
    "        * Prompts the player to enter a guess.\n",
    "        * Checks if the entered value is equal to the randomly chosen value, greater than it or less than it.\n",
    "        * Provide feedback to the user on how the enetered value is related to the randomly chosen value.\n",
    "        * Exit the `for` loop if the guess is correct or the number of guesses exceeds the allowed number.\n",
    "    * Present a suitable message to the player about their success or failure in guessing the number.\n",
    "    \n",
    "* Test you code for different values of the range within which the random integer lies, and differeent numbers of allowed guesses.."
   ]
  },
  {
   "cell_type": "code",
   "execution_count": 1,
   "id": "79112d3d-c6af-405b-b8f4-cc54aeedfa84",
   "metadata": {},
   "outputs": [],
   "source": [
    "# Write the code for your program below.\n",
    "import random\n",
    "def guessingGame(highestNum, numGuesses):\n",
    "    correct = False\n",
    "    rInt = random.randint(1, highestNum)\n",
    "    print(\"The following game is a test to see how well you can guess a random number from 1-\" + str(highestNum) + \"! You will have \" + str(numGuesses) + \" guesses!\")\n",
    "    print(\"If played correctly it is impossible to lose!\")\n",
    "\n",
    "    for guess in range(numGuesses):\n",
    "        val = int(input(\"Enter a guess:\"))\n",
    "        if (val > rInt):\n",
    "            print(\"Your guess of \" + str(val) + \" was higher than the random number!\")\n",
    "        elif (val < rInt):\n",
    "            print(\"Your guess of \" + str(val) + \" was lower than the random number!\")\n",
    "        else:\n",
    "            print(\"Congratulations, you guessed the correct number as \" + str(val))\n",
    "            correct = True\n",
    "            break\n",
    "    if (correct == False):\n",
    "        print(\"Unfortunately you ran out of guesses :(\")\n",
    "        "
   ]
  },
  {
   "cell_type": "code",
   "execution_count": 2,
   "id": "21f2d474",
   "metadata": {},
   "outputs": [
    {
     "name": "stdout",
     "output_type": "stream",
     "text": [
      "The following game is a test to see how well you can guess a random number from 1-128! You will have 7 guesses!\n",
      "If played correctly it is impossible to lose!\n",
      "Enter a guess:64\n",
      "Your guess of 64 was lower than the random number!\n",
      "Enter a guess:96\n",
      "Your guess of 96 was higher than the random number!\n",
      "Enter a guess:80\n",
      "Your guess of 80 was higher than the random number!\n",
      "Enter a guess:72\n",
      "Your guess of 72 was lower than the random number!\n",
      "Enter a guess:76\n",
      "Your guess of 76 was higher than the random number!\n",
      "Enter a guess:74\n",
      "Congratulations, you guessed the correct number as 74\n"
     ]
    }
   ],
   "source": [
    "guessingGame(128, 7)"
   ]
  }
 ],
 "metadata": {
  "kernelspec": {
   "display_name": "Python 3 (ipykernel)",
   "language": "python",
   "name": "python3"
  },
  "language_info": {
   "codemirror_mode": {
    "name": "ipython",
    "version": 3
   },
   "file_extension": ".py",
   "mimetype": "text/x-python",
   "name": "python",
   "nbconvert_exporter": "python",
   "pygments_lexer": "ipython3",
   "version": "3.11.5"
  }
 },
 "nbformat": 4,
 "nbformat_minor": 5
}
