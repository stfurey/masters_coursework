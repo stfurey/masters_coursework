{
 "cells": [
  {
   "cell_type": "markdown",
   "id": "79b9b181-ebe4-49aa-ae71-0bd72176b056",
   "metadata": {},
   "source": [
    "## Unit 1 Strings Quiz\n",
    "* The objective of this quiz is for you to write code to manipulate strings.\n",
    "* Write code below that checks to see is a given string is a palindrome.\n",
    "    * A palindrome is a string that reads the same backwards and forwards\n",
    "    * For example. 'atta' and 'madam'  are palindromes but'fits' is not.\n",
    "    * You code should not care about case i.e., both 'madam' and \"Madam' are palindromes.\n",
    "* Your code should create a variable that takes the value `True` if it is a palindrome and `False` if it is not.\n",
    "    * Print out your answer.\n",
    "* Test you code with the following strings 'Madam', 'madam', 'was it a car or a cat I saw`, 'ThesiS' and 'Be a TarHeel'"
   ]
  },
  {
   "cell_type": "code",
   "execution_count": 1,
   "id": "53aeda80-8714-47eb-b914-76c37e7858ac",
   "metadata": {},
   "outputs": [
    {
     "name": "stdout",
     "output_type": "stream",
     "text": [
      "True\n"
     ]
    }
   ],
   "source": [
    "palindrome = \"\".lower().replace(\" \", \"\") == \"\"[::-1].lower().replace(\" \", \"\")\n",
    "print(palindrome)"
   ]
  },
  {
   "cell_type": "code",
   "execution_count": 2,
   "id": "8a597466",
   "metadata": {},
   "outputs": [
    {
     "name": "stdout",
     "output_type": "stream",
     "text": [
      "True\n"
     ]
    }
   ],
   "source": [
    "palindrome = 'Madam'.lower().replace(\" \", \"\") == 'Madam'[::-1].lower().replace(\" \", \"\")\n",
    "print(palindrome)"
   ]
  },
  {
   "cell_type": "code",
   "execution_count": 3,
   "id": "5e4fd02f",
   "metadata": {},
   "outputs": [
    {
     "name": "stdout",
     "output_type": "stream",
     "text": [
      "True\n"
     ]
    }
   ],
   "source": [
    "palindrome = \"madam\".lower().replace(\" \", \"\") == \"madam\"[::-1].lower().replace(\" \", \"\")\n",
    "print(palindrome)"
   ]
  },
  {
   "cell_type": "code",
   "execution_count": 4,
   "id": "c5d7d82f",
   "metadata": {},
   "outputs": [
    {
     "name": "stdout",
     "output_type": "stream",
     "text": [
      "True\n"
     ]
    }
   ],
   "source": [
    "palindrome = \"was it a car or a cat I saw\".lower().replace(\" \", \"\") == \"was it a car or a cat I saw\"[::-1].lower().replace(\" \", \"\")\n",
    "print(palindrome)"
   ]
  },
  {
   "cell_type": "code",
   "execution_count": 5,
   "id": "53a2d01b",
   "metadata": {},
   "outputs": [
    {
     "name": "stdout",
     "output_type": "stream",
     "text": [
      "False\n"
     ]
    }
   ],
   "source": [
    "palindrome = \"ThesiS\".lower().replace(\" \", \"\") == \"ThesiS\"[::-1].lower().replace(\" \", \"\")\n",
    "print(palindrome)"
   ]
  },
  {
   "cell_type": "code",
   "execution_count": 6,
   "id": "2ef3eacd",
   "metadata": {},
   "outputs": [
    {
     "name": "stdout",
     "output_type": "stream",
     "text": [
      "False\n"
     ]
    }
   ],
   "source": [
    "palindrome = \"Be a TarHeel\".lower().replace(\" \", \"\") == \"Be a TarHeel\"[::-1].lower().replace(\" \", \"\")\n",
    "print(palindrome)"
   ]
  },
  {
   "cell_type": "code",
   "execution_count": null,
   "id": "617a689e",
   "metadata": {},
   "outputs": [],
   "source": []
  },
  {
   "cell_type": "code",
   "execution_count": null,
   "id": "9979b970",
   "metadata": {},
   "outputs": [],
   "source": []
  }
 ],
 "metadata": {
  "kernelspec": {
   "display_name": "Python 3 (ipykernel)",
   "language": "python",
   "name": "python3"
  },
  "language_info": {
   "codemirror_mode": {
    "name": "ipython",
    "version": 3
   },
   "file_extension": ".py",
   "mimetype": "text/x-python",
   "name": "python",
   "nbconvert_exporter": "python",
   "pygments_lexer": "ipython3",
   "version": "3.11.5"
  }
 },
 "nbformat": 4,
 "nbformat_minor": 5
}
