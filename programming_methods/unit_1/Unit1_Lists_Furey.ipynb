{
 "cells": [
  {
   "cell_type": "markdown",
   "id": "79b9b181-ebe4-49aa-ae71-0bd72176b056",
   "metadata": {},
   "source": [
    "## Unit 1 Lists and Tuples Quiz\n",
    "* The objective of this quiz is for you to write code to create and manipulate lists and tuples.\n",
    "* Lists example\n",
    "* Create a nested list `l1` that has the value `[3, ['test', 4], ['howdy', [5, 6]]]`\n",
    "    * Use indexing to extract the `y` in the list and print it out.\n",
    "* Tuples example\n",
    "* Convert the list `l1` to a tuple called `t1` and print it out.\n",
    "    * Try to change the value 3 in `t1` to 7.\n",
    "    * Try to change the 4 in the second element (index 1) of `t1` to the list `['Hi', \"how are you?\"]`\n",
    "    * What do the results in the two cases of tuple manipulation imply?"
   ]
  },
  {
   "cell_type": "code",
   "execution_count": 1,
   "id": "53aeda80-8714-47eb-b914-76c37e7858ac",
   "metadata": {},
   "outputs": [
    {
     "data": {
      "text/plain": [
       "'y'"
      ]
     },
     "execution_count": 1,
     "metadata": {},
     "output_type": "execute_result"
    }
   ],
   "source": [
    "# Write your code here for creating l1\n",
    "l1 = [3, ['test', 4], ['howdy', [5, 6]]]\n",
    "# Use indexing to extract the y in the list and print it out.\n",
    "l1[2][0][4]"
   ]
  },
  {
   "cell_type": "code",
   "execution_count": 2,
   "id": "79112d3d-c6af-405b-b8f4-cc54aeedfa84",
   "metadata": {},
   "outputs": [
    {
     "data": {
      "text/plain": [
       "(3, ['test', 4], ['howdy', [5, 6]])"
      ]
     },
     "execution_count": 2,
     "metadata": {},
     "output_type": "execute_result"
    }
   ],
   "source": [
    "# Write the code here for converting l1 to t1\n",
    "t1 = tuple(l1)\n",
    "t1"
   ]
  },
  {
   "cell_type": "code",
   "execution_count": 3,
   "id": "e83e81c5-c89f-43df-8dcf-0711cfe24672",
   "metadata": {},
   "outputs": [
    {
     "data": {
      "text/plain": [
       "(7, ['test', 4], ['howdy', [5, 6]])"
      ]
     },
     "execution_count": 3,
     "metadata": {},
     "output_type": "execute_result"
    }
   ],
   "source": [
    "# Write the code here to change the value 3 in t1 to 7\n",
    "t2 = list(t1)\n",
    "t2[0] = 7\n",
    "t1 = tuple(t2)\n",
    "t1"
   ]
  },
  {
   "cell_type": "code",
   "execution_count": 4,
   "id": "71a33e84-82ff-4d81-ba46-8fd25dc3d23f",
   "metadata": {},
   "outputs": [
    {
     "data": {
      "text/plain": [
       "(7, ['test', ['Hi', 'how are you?']], ['howdy', [5, 6]])"
      ]
     },
     "execution_count": 4,
     "metadata": {},
     "output_type": "execute_result"
    }
   ],
   "source": [
    "# Write the code here to change the 4 in t1 to ['H1', 'how are you']\n",
    "t1[1][1] = ['Hi', \"how are you?\"]\n",
    "t1"
   ]
  },
  {
   "cell_type": "markdown",
   "id": "f5f4b54c",
   "metadata": {},
   "source": [
    "What do the results in the two cases of tuple manipulation imply?\n",
    "\n",
    "You can not manipulate tuples unless the element is a list, then you can manipulate that element using list indexing."
   ]
  },
  {
   "cell_type": "code",
   "execution_count": null,
   "id": "8b71ba79",
   "metadata": {},
   "outputs": [],
   "source": []
  }
 ],
 "metadata": {
  "kernelspec": {
   "display_name": "Python 3 (ipykernel)",
   "language": "python",
   "name": "python3"
  },
  "language_info": {
   "codemirror_mode": {
    "name": "ipython",
    "version": 3
   },
   "file_extension": ".py",
   "mimetype": "text/x-python",
   "name": "python",
   "nbconvert_exporter": "python",
   "pygments_lexer": "ipython3",
   "version": "3.11.5"
  }
 },
 "nbformat": 4,
 "nbformat_minor": 5
}
