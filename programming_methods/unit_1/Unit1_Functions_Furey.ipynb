{
 "cells": [
  {
   "cell_type": "markdown",
   "id": "79b9b181-ebe4-49aa-ae71-0bd72176b056",
   "metadata": {},
   "source": [
    "## Unit 1 Functions Quiz\n",
    "* The objective of this quiz is for you to write a function called `palindrome` that implements the palindorme checker that you wrote earlier as a function.\n",
    "    * `palindrome` takes a single input that is a string\n",
    "    * `palindrome` returns a single output that is a Boolean.\n",
    "* Test the `palindrome` function with the same inputs that you used with the previous quiz."
   ]
  },
  {
   "cell_type": "code",
   "execution_count": 1,
   "id": "53aeda80-8714-47eb-b914-76c37e7858ac",
   "metadata": {},
   "outputs": [],
   "source": [
    "# Write your code here for the palidrome function here.\n",
    "def palindrome(input):\n",
    "    return(input.lower().replace(\" \", \"\") == input[::-1].lower().replace(\" \", \"\"))"
   ]
  },
  {
   "cell_type": "code",
   "execution_count": 2,
   "id": "79112d3d-c6af-405b-b8f4-cc54aeedfa84",
   "metadata": {},
   "outputs": [
    {
     "data": {
      "text/plain": [
       "True"
      ]
     },
     "execution_count": 2,
     "metadata": {},
     "output_type": "execute_result"
    }
   ],
   "source": [
    "# Write the code here for testing the palindrome function.\n",
    "palindrome('Madam')"
   ]
  },
  {
   "cell_type": "code",
   "execution_count": 3,
   "id": "9342dd7f",
   "metadata": {},
   "outputs": [
    {
     "data": {
      "text/plain": [
       "True"
      ]
     },
     "execution_count": 3,
     "metadata": {},
     "output_type": "execute_result"
    }
   ],
   "source": [
    "palindrome('madam')"
   ]
  },
  {
   "cell_type": "code",
   "execution_count": 4,
   "id": "f4c36332",
   "metadata": {},
   "outputs": [
    {
     "data": {
      "text/plain": [
       "True"
      ]
     },
     "execution_count": 4,
     "metadata": {},
     "output_type": "execute_result"
    }
   ],
   "source": [
    "palindrome('was it a car or a cat I saw')"
   ]
  },
  {
   "cell_type": "code",
   "execution_count": 5,
   "id": "2f90890c",
   "metadata": {},
   "outputs": [
    {
     "data": {
      "text/plain": [
       "False"
      ]
     },
     "execution_count": 5,
     "metadata": {},
     "output_type": "execute_result"
    }
   ],
   "source": [
    "palindrome('ThesiS')"
   ]
  },
  {
   "cell_type": "code",
   "execution_count": 6,
   "id": "7b14b449",
   "metadata": {},
   "outputs": [
    {
     "data": {
      "text/plain": [
       "False"
      ]
     },
     "execution_count": 6,
     "metadata": {},
     "output_type": "execute_result"
    }
   ],
   "source": [
    "palindrome('Be a TarHeel')"
   ]
  }
 ],
 "metadata": {
  "kernelspec": {
   "display_name": "Python 3 (ipykernel)",
   "language": "python",
   "name": "python3"
  },
  "language_info": {
   "codemirror_mode": {
    "name": "ipython",
    "version": 3
   },
   "file_extension": ".py",
   "mimetype": "text/x-python",
   "name": "python",
   "nbconvert_exporter": "python",
   "pygments_lexer": "ipython3",
   "version": "3.11.5"
  }
 },
 "nbformat": 4,
 "nbformat_minor": 5
}
