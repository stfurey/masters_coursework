{
 "cells": [
  {
   "cell_type": "markdown",
   "id": "8d80d567",
   "metadata": {},
   "source": [
    "# Assignment 9: Comparing sorting algorithms"
   ]
  },
  {
   "cell_type": "markdown",
   "id": "4e4a70b6",
   "metadata": {},
   "source": [
    "## Creating sorting functions\n",
    "Create functions for two of the sorting algorithms introduced in this unit:\n",
    "1. Bubble or insertion sort\n",
    "2. Merge or quick sort\n",
    "\n",
    "The functions must accept an array and return the sorted array."
   ]
  },
  {
   "cell_type": "code",
   "execution_count": 1,
   "id": "1afbef1e",
   "metadata": {},
   "outputs": [],
   "source": [
    "array = [3,78,92,7,4,9,1,3,5]"
   ]
  },
  {
   "cell_type": "code",
   "execution_count": 2,
   "id": "8082187f",
   "metadata": {},
   "outputs": [],
   "source": [
    "def bubbleSort(array):\n",
    "    length = len(array)\n",
    "    for i in range(length):\n",
    "        for j in range(length-1-i):\n",
    "            if array[j] > array[j+1]:\n",
    "                array[j], array [j+1] = array[j+1], array[j]\n",
    "    return array"
   ]
  },
  {
   "cell_type": "code",
   "execution_count": 3,
   "id": "46615e4c",
   "metadata": {},
   "outputs": [
    {
     "data": {
      "text/plain": [
       "[1, 3, 3, 4, 5, 7, 9, 78, 92]"
      ]
     },
     "execution_count": 3,
     "metadata": {},
     "output_type": "execute_result"
    }
   ],
   "source": [
    "bubbleSort(array)"
   ]
  },
  {
   "cell_type": "code",
   "execution_count": 4,
   "id": "e1d425ce",
   "metadata": {},
   "outputs": [],
   "source": [
    "def mergeSortHelper(left, right):\n",
    "    result = []\n",
    "    leftIndex = 0\n",
    "    rightIndex = 0\n",
    "    while leftIndex < len(left) and rightIndex < len(right):\n",
    "        if left[leftIndex] < right[rightIndex]:\n",
    "            result.append(left[leftIndex])\n",
    "            leftIndex +=1\n",
    "        else:\n",
    "            result.append(right[rightIndex])\n",
    "            rightIndex += 1\n",
    "    result.extend(left[leftIndex:])\n",
    "    result.extend(right[rightIndex:])\n",
    "    return result\n",
    "        \n",
    "def mergeSort(array):\n",
    "    if len(array)<=1:\n",
    "        return array\n",
    "    middle = len(array) // 2\n",
    "    left = array[:middle]\n",
    "    right = array[middle:]\n",
    "    \n",
    "    left = mergeSort(left)\n",
    "    right = mergeSort(right)\n",
    "    merged = mergeSortHelper(left,right)\n",
    "    \n",
    "    return merged\n",
    "    "
   ]
  },
  {
   "cell_type": "code",
   "execution_count": 5,
   "id": "86abaf65",
   "metadata": {},
   "outputs": [
    {
     "data": {
      "text/plain": [
       "[1, 3, 3, 4, 5, 7, 9, 78, 92]"
      ]
     },
     "execution_count": 5,
     "metadata": {},
     "output_type": "execute_result"
    }
   ],
   "source": [
    "mergeSort(array)"
   ]
  },
  {
   "cell_type": "markdown",
   "id": "c65de103",
   "metadata": {},
   "source": [
    "## Timing function\n",
    "Below is an example function that uses the `time` library's `perf_counter_ns` to calculate the elapsed time of a `sorting_function()` in nanoseconds:\n",
    "```\n",
    "import time\n",
    "\n",
    "def get_elapsed_time(array):\n",
    "    start = time.perf_counter_ns()\n",
    "    sorted_array = sorting_function(array)\n",
    "    end = time.perf_counter_ns()\n",
    "    elapsed_time = end - start\n",
    "    \n",
    "    return elapsed_time\n",
    "```\n",
    "Use the `perf_counter_ns` to create a function to return the time your sorting algorithms take to run."
   ]
  },
  {
   "cell_type": "code",
   "execution_count": 6,
   "id": "0ffcdc1c",
   "metadata": {},
   "outputs": [],
   "source": [
    "from time import perf_counter_ns\n",
    "\n",
    "def getElapsedTime(array, sortType):\n",
    "    start = perf_counter_ns()\n",
    "    if sortType == \"Bubble\":\n",
    "        sorted_array = bubbleSort(array)\n",
    "    else:\n",
    "        sorted_array = mergeSort(array)\n",
    "    end = perf_counter_ns()\n",
    "    elapsedTime = end - start\n",
    "    \n",
    "    return elapsedTime"
   ]
  },
  {
   "cell_type": "code",
   "execution_count": 7,
   "id": "1beaee8d",
   "metadata": {},
   "outputs": [
    {
     "name": "stdout",
     "output_type": "stream",
     "text": [
      "Array: [1, 3, 3, 4, 5, 7, 9, 78, 92]\n",
      "BubbleSort: 14900ns\n",
      "MergeSort:  20700ns\n",
      "\n"
     ]
    }
   ],
   "source": [
    "bubble = (getElapsedTime(array, \"Bubble\"))\n",
    "merge = (getElapsedTime(array, \"Merge\"))\n",
    "\n",
    "print(f'''Array: {array}\n",
    "BubbleSort: {bubble}ns\n",
    "MergeSort:  {merge}ns\n",
    "''')"
   ]
  },
  {
   "cell_type": "markdown",
   "id": "82246648",
   "metadata": {},
   "source": [
    "# Time arrays of different lengths\n",
    "Create random arrays of length 100, 1000, and 10000. Time both of your sorting functions on each array and then plot the results using length as the `x` variable and time as the `y` variable.\n",
    "\n",
    "Arrays can be created using the NumPy `randint` function. Below is an example for creating a an array of 100 random integers between 0 and 1000:\n",
    "`np.random.randint(low=0, high=1000, size=100)`"
   ]
  },
  {
   "cell_type": "code",
   "execution_count": 8,
   "id": "99a858ec",
   "metadata": {},
   "outputs": [
    {
     "name": "stdout",
     "output_type": "stream",
     "text": [
      "Length: 100\n",
      "BubbleSort: 1225300ns\n",
      "MergeSort:  179800ns\n",
      "\n",
      "Length: 1000\n",
      "BubbleSort: 122231900ns\n",
      "MergeSort:  1867500ns\n",
      "\n",
      "Length: 10000\n",
      "BubbleSort: 12685980900ns\n",
      "MergeSort:  22526800ns\n",
      "\n"
     ]
    }
   ],
   "source": [
    "import numpy as np\n",
    "\n",
    "array100= np.random.randint(low=0, high=1000, size=100)\n",
    "array1000= np.random.randint(low=0, high=1000, size=1000)\n",
    "array10000= np.random.randint(low=0, high=1000, size=10000)\n",
    "\n",
    "bubble100 = (getElapsedTime(array100, \"Bubble\"))\n",
    "merge100 = (getElapsedTime(array100, \"Merge\"))\n",
    "print(f'''Length: {len(array100)}\n",
    "BubbleSort: {bubble100}ns\n",
    "MergeSort:  {merge100}ns\n",
    "''')\n",
    "\n",
    "bubble1000 = (getElapsedTime(array1000, \"Bubble\"))\n",
    "merge1000 = (getElapsedTime(array1000, \"Merge\"))\n",
    "print(f'''Length: {len(array1000)}\n",
    "BubbleSort: {bubble1000}ns\n",
    "MergeSort:  {merge1000}ns\n",
    "''')\n",
    "bubble10000 = (getElapsedTime(array10000, \"Bubble\"))\n",
    "merge10000 = (getElapsedTime(array10000, \"Merge\"))\n",
    "print(f'''Length: {len(array10000)}\n",
    "BubbleSort: {bubble10000}ns\n",
    "MergeSort:  {merge10000}ns\n",
    "''')"
   ]
  }
 ],
 "metadata": {
  "kernelspec": {
   "display_name": "Python 3 (ipykernel)",
   "language": "python",
   "name": "python3"
  },
  "language_info": {
   "codemirror_mode": {
    "name": "ipython",
    "version": 3
   },
   "file_extension": ".py",
   "mimetype": "text/x-python",
   "name": "python",
   "nbconvert_exporter": "python",
   "pygments_lexer": "ipython3",
   "version": "3.11.5"
  }
 },
 "nbformat": 4,
 "nbformat_minor": 5
}
