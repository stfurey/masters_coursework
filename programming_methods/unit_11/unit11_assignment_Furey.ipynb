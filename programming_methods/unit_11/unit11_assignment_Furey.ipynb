{
 "cells": [
  {
   "cell_type": "markdown",
   "id": "dbaaaacf",
   "metadata": {},
   "source": [
    "# Assignment 11: fun with binary trees"
   ]
  },
  {
   "cell_type": "markdown",
   "id": "6d39201c",
   "metadata": {},
   "source": [
    "## Search a matrix using a binary tree\n",
    "Create a class `BinarySearchTree` that contains:\n",
    "1. A list of nodes\n",
    "2. A function `build` that accepts a 1D or 2D matrix builds and sorts the tree\n",
    "3. A function `find` that accepts a value and finds the element with that value"
   ]
  },
  {
   "cell_type": "code",
   "execution_count": 13,
   "id": "ab20d752",
   "metadata": {},
   "outputs": [],
   "source": [
    "from collections import deque\n",
    "import random"
   ]
  },
  {
   "cell_type": "code",
   "execution_count": 14,
   "id": "fb4e252d",
   "metadata": {},
   "outputs": [],
   "source": [
    "class Node:\n",
    "    def __init__(self, data):\n",
    "        self.data = data\n",
    "        self.left = None\n",
    "        self.right = None\n",
    "\n",
    "class BinarySearchTree:\n",
    "    def __init__(self):\n",
    "        self.root = None\n",
    "        \n",
    "    def printLevels(self):\n",
    "        if not self.root:\n",
    "            return\n",
    "        queue= deque([self.root])\n",
    "        while queue:\n",
    "            levelSize = len(queue)\n",
    "            for _ in range(levelSize):\n",
    "                currentNode = queue.popleft()\n",
    "                print(currentNode.data, end=\" \")\n",
    "                if currentNode.left:\n",
    "                    queue.append(currentNode.left)\n",
    "                if currentNode.right:\n",
    "                    queue.append(currentNode.right)\n",
    "                    \n",
    "            print()\n",
    "\n",
    "    def insert(self, root, data):\n",
    "        if root is None:\n",
    "            return Node(data)\n",
    "        if data < root.data:\n",
    "            root.left = self.insert(root.left, data)\n",
    "        else:\n",
    "            root.right = self.insert(root.right, data)\n",
    "        return root\n",
    "\n",
    "    def build(self, matrix):\n",
    "        if len(matrix) == 0:\n",
    "            return None\n",
    "        \n",
    "        if isinstance(matrix[0], list): # checks if first element is list, if so 2D matrix\n",
    "            for row in matrix:\n",
    "                for element in row:\n",
    "                    if element is not None:\n",
    "                        self.root = self.insert(self.root, element)\n",
    "        else:\n",
    "            for element in matrix:\n",
    "                if element is not None:\n",
    "                    self.root = self.insert(self.root, element)\n",
    "\n",
    "    def find(self, value):\n",
    "        return self.findHelper(self.root, value)\n",
    "\n",
    "    def findHelper(self, root, value):\n",
    "        if root is None or root.data == value:\n",
    "            return root\n",
    "        if value < root.data:\n",
    "            return self.findHelper(root.left, value)\n",
    "        else:\n",
    "            return self.findHelper(root.right, value)\n",
    "        \n",
    "    def inOrderTraversal(self, root, result):\n",
    "        if root:\n",
    "            self.inOrderTraversal(root.left, result)\n",
    "            result.append(root.data)\n",
    "            self.inOrderTraversal(root.right, result)\n",
    "            \n",
    "    def pullOutNodes(self):\n",
    "        result = []\n",
    "        self.inOrderTraversal(self.root, result)\n",
    "        return result"
   ]
  },
  {
   "cell_type": "code",
   "execution_count": 15,
   "id": "d0079d7b",
   "metadata": {},
   "outputs": [
    {
     "name": "stdout",
     "output_type": "stream",
     "text": [
      "8 \n",
      "3 10 \n",
      "1 6 14 \n",
      "4 7 13 26 \n",
      "52 \n",
      "Element 6 found in the tree.\n"
     ]
    }
   ],
   "source": [
    "# Test\n",
    "matrix1 = [8, 3, 10, 1, 6, 14, 4, 7, 13]\n",
    "matrix2 = [[8, 3, 10],\n",
    "           [1, 6, 14],\n",
    "           [None, 4, 7],\n",
    "           [26, 52, 13]]\n",
    "\n",
    "bst = BinarySearchTree()\n",
    "# bst.build(matrix1)\n",
    "bst.build(matrix2)\n",
    "bst.printLevels()\n",
    "\n",
    "# Find an element\n",
    "value_to_find = 6\n",
    "found_node = bst.find(value_to_find)\n",
    "if found_node:\n",
    "    print(f\"Element {value_to_find} found in the tree.\")\n",
    "else:\n",
    "    print(f\"Element {value_to_find} not found in the tree.\")\n"
   ]
  },
  {
   "cell_type": "markdown",
   "id": "71359217",
   "metadata": {},
   "source": [
    "## Merge two trees\n",
    "Create a function that merges two `BinarySearchTree` objects and sorts the values"
   ]
  },
  {
   "cell_type": "code",
   "execution_count": 16,
   "id": "cb572160",
   "metadata": {},
   "outputs": [],
   "source": [
    "def mergeBsts(bst1, bst2):\n",
    "    bst1list = bst1.pullOutNodes()\n",
    "    bst2list = bst2.pullOutNodes()\n",
    "    print(bst1list+bst2list)\n",
    "    mergedBst = BinarySearchTree()\n",
    "    mergedBst.build(bst1list+bst2list)\n",
    "    \n",
    "    return mergedBst"
   ]
  },
  {
   "cell_type": "code",
   "execution_count": 17,
   "id": "b5caf1cc",
   "metadata": {},
   "outputs": [],
   "source": [
    "def generate_random_lists(size):\n",
    "    list1 = [random.randint(1, 100) for _ in range(size)]\n",
    "    list2 = [random.randint(1, 100) for _ in range(size)]\n",
    "    return list1, list2"
   ]
  },
  {
   "cell_type": "code",
   "execution_count": 18,
   "id": "2a23c19e",
   "metadata": {},
   "outputs": [
    {
     "name": "stdout",
     "output_type": "stream",
     "text": [
      "[11, 11, 45, 65, 69, 71, 77, 84, 98, 98, 1, 21, 35, 45, 51, 66, 81, 87, 99, 99]\n",
      "11 \n",
      "1 11 \n",
      "45 \n",
      "21 65 \n",
      "35 45 69 \n",
      "51 66 71 \n",
      "77 \n",
      "84 \n",
      "81 98 \n",
      "87 98 \n",
      "99 \n",
      "99 \n"
     ]
    }
   ],
   "source": [
    "list1, list2 = generate_random_lists(10)\n",
    "\n",
    "# Test\n",
    "bst1 = BinarySearchTree()\n",
    "bst1.build(list1)\n",
    "\n",
    "bst2 = BinarySearchTree()\n",
    "bst2.build(list2)\n",
    "\n",
    "mergedBst = mergeBsts(bst1, bst2)\n",
    "mergedBst.printLevels()"
   ]
  }
 ],
 "metadata": {
  "kernelspec": {
   "display_name": "Python 3 (ipykernel)",
   "language": "python",
   "name": "python3"
  },
  "language_info": {
   "codemirror_mode": {
    "name": "ipython",
    "version": 3
   },
   "file_extension": ".py",
   "mimetype": "text/x-python",
   "name": "python",
   "nbconvert_exporter": "python",
   "pygments_lexer": "ipython3",
   "version": "3.11.5"
  }
 },
 "nbformat": 4,
 "nbformat_minor": 5
}
