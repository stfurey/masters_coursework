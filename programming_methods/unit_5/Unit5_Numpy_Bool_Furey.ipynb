{
 "cells": [
  {
   "cell_type": "markdown",
   "id": "8fb72e31",
   "metadata": {},
   "source": [
    "## Unit 5 Numpy_Boolean_Selection Quiz\n",
    "* The objective of this quiz is to understand how to use boolean arrays for selecting subsets from Numpy arrays."
   ]
  },
  {
   "cell_type": "code",
   "execution_count": 1,
   "id": "7fae945f",
   "metadata": {},
   "outputs": [
    {
     "name": "stdout",
     "output_type": "stream",
     "text": [
      "Numpy version is 1.24.3\n"
     ]
    }
   ],
   "source": [
    "## Import Numpy and check version\n",
    "import numpy as np\n",
    "print(f\"Numpy version is {np.__version__}\")\n",
    "import pickle\n",
    "import comp116"
   ]
  },
  {
   "cell_type": "markdown",
   "id": "757c3bc7",
   "metadata": {},
   "source": [
    "### Boolean arrays are very useful in selecting subsets of arrays.\n",
    "* Boolean array selection is useful not just for Numpy arays but also Pandas data frames.\n",
    "* In this quiz you will be working with fuel economy data for selected autmotive vehicle manufacturers for the year 2017.\n",
    "    * You can get current data similar to this from [here](https://www.fueleconomy.gov/feg/download.shtml).\n",
    "    * The data you get will need to be cleaned up to get into a format like what we are using in this quiz.\n",
    "* You will be reading in 3 Numpy arrays, `data_var_names`, `manufacturer_names`, and `mpgData`.\n",
    "    * `data_var_names` is the array of the type of data that has been read in.\n",
    "    * `manufacturer_names` is the array of the names of the manufacturer.\n",
    "    * `mpgData` is the data itself\n",
    "* You should consider these three arrays as jointly describing a table.\n",
    "    * `data_var_names` is the first row of the table with headers;\n",
    "    * `manufacturer_names` is the first column of row labels;\n",
    "    * `mpgData` is the data itself\n",
    "    \n",
    "* When you learn about pandas, you will see that the pandas data frame is an elegant way of keeping these 3 pieces of information in one object, the data frame. For now, we work with numpy arrays."
   ]
  },
  {
   "cell_type": "code",
   "execution_count": 2,
   "id": "35ea335a",
   "metadata": {},
   "outputs": [
    {
     "data": {
      "text/html": [
       "<h1>2017 Fuel Economy data by Manufacturer</h1>"
      ],
      "text/plain": [
       "<IPython.core.display.HTML object>"
      ]
     },
     "metadata": {},
     "output_type": "display_data"
    },
    {
     "data": {
      "text/html": [
       "<table border=\"1\" class=\"dataframe\">\n",
       "  <thead>\n",
       "    <tr style=\"text-align: right;\">\n",
       "      <th></th>\n",
       "      <th>Real-World Comb MPG</th>\n",
       "      <th>Real-World Comb CO2 g/mi</th>\n",
       "      <th>Weight (lbs)</th>\n",
       "      <th>HP</th>\n",
       "      <th>0-60 Time (s)</th>\n",
       "    </tr>\n",
       "  </thead>\n",
       "  <tbody>\n",
       "    <tr>\n",
       "      <th>GM</th>\n",
       "      <td>22.9</td>\n",
       "      <td>388.0</td>\n",
       "      <td>4520.0</td>\n",
       "      <td>265.0</td>\n",
       "      <td>8.0</td>\n",
       "    </tr>\n",
       "    <tr>\n",
       "      <th>Toyota</th>\n",
       "      <td>25.3</td>\n",
       "      <td>351.0</td>\n",
       "      <td>4059.0</td>\n",
       "      <td>216.0</td>\n",
       "      <td>8.5</td>\n",
       "    </tr>\n",
       "    <tr>\n",
       "      <th>Ford</th>\n",
       "      <td>22.9</td>\n",
       "      <td>388.0</td>\n",
       "      <td>4360.0</td>\n",
       "      <td>262.0</td>\n",
       "      <td>7.9</td>\n",
       "    </tr>\n",
       "    <tr>\n",
       "      <th>FCA</th>\n",
       "      <td>21.2</td>\n",
       "      <td>420.0</td>\n",
       "      <td>4510.0</td>\n",
       "      <td>280.0</td>\n",
       "      <td>7.5</td>\n",
       "    </tr>\n",
       "    <tr>\n",
       "      <th>Nissan-Mitsubishi</th>\n",
       "      <td>27.1</td>\n",
       "      <td>327.0</td>\n",
       "      <td>3770.0</td>\n",
       "      <td>201.0</td>\n",
       "      <td>8.9</td>\n",
       "    </tr>\n",
       "    <tr>\n",
       "      <th>Honda</th>\n",
       "      <td>29.4</td>\n",
       "      <td>302.0</td>\n",
       "      <td>3595.0</td>\n",
       "      <td>203.0</td>\n",
       "      <td>8.1</td>\n",
       "    </tr>\n",
       "    <tr>\n",
       "      <th>Hyundai</th>\n",
       "      <td>28.6</td>\n",
       "      <td>311.0</td>\n",
       "      <td>3458.0</td>\n",
       "      <td>176.0</td>\n",
       "      <td>8.9</td>\n",
       "    </tr>\n",
       "    <tr>\n",
       "      <th>Subaru</th>\n",
       "      <td>28.5</td>\n",
       "      <td>312.0</td>\n",
       "      <td>3724.0</td>\n",
       "      <td>181.0</td>\n",
       "      <td>9.3</td>\n",
       "    </tr>\n",
       "    <tr>\n",
       "      <th>VW</th>\n",
       "      <td>26.5</td>\n",
       "      <td>335.0</td>\n",
       "      <td>3894.0</td>\n",
       "      <td>225.0</td>\n",
       "      <td>7.9</td>\n",
       "    </tr>\n",
       "    <tr>\n",
       "      <th>Kia</th>\n",
       "      <td>27.2</td>\n",
       "      <td>327.0</td>\n",
       "      <td>3592.0</td>\n",
       "      <td>186.0</td>\n",
       "      <td>8.8</td>\n",
       "    </tr>\n",
       "    <tr>\n",
       "      <th>Mercedes</th>\n",
       "      <td>23.1</td>\n",
       "      <td>385.0</td>\n",
       "      <td>4536.0</td>\n",
       "      <td>288.0</td>\n",
       "      <td>7.0</td>\n",
       "    </tr>\n",
       "    <tr>\n",
       "      <th>BMW</th>\n",
       "      <td>25.9</td>\n",
       "      <td>341.0</td>\n",
       "      <td>4107.0</td>\n",
       "      <td>257.0</td>\n",
       "      <td>7.0</td>\n",
       "    </tr>\n",
       "    <tr>\n",
       "      <th>Mazda</th>\n",
       "      <td>29.0</td>\n",
       "      <td>306.0</td>\n",
       "      <td>3569.0</td>\n",
       "      <td>178.0</td>\n",
       "      <td>8.9</td>\n",
       "    </tr>\n",
       "  </tbody>\n",
       "</table>"
      ],
      "text/plain": [
       "<IPython.core.display.HTML object>"
      ]
     },
     "metadata": {},
     "output_type": "display_data"
    }
   ],
   "source": [
    "### Read the pickle file\n",
    "with open('fuel_economy.data.pickle', 'rb') as fid:\n",
    "    (data_var_names, manufacturer_names, mpgData) = pickle.load(fid)\n",
    "comp116.array_to_html(mpgData, row_names=manufacturer_names, col_names=data_var_names,\n",
    "                      title='2017 Fuel Economy data by Manufacturer')"
   ]
  },
  {
   "cell_type": "markdown",
   "id": "d9662f47",
   "metadata": {},
   "source": [
    "### For the rest of this quiz, you should use comparisons and boolean values to select subsets. You should not make use of the absolute index of the data.\n",
    "* For example, you know that `\"Real-World Comb MPG\"` is in the column with index 0, and `\"Ford\"` is the row with index 2 in `mpgData`. But do not use `mpgData[2, 0]` to get to the real-world mpg data for Ford. Look at the course lecture on this topic to refresh."
   ]
  },
  {
   "cell_type": "markdown",
   "id": "8a71c20c",
   "metadata": {},
   "source": [
    "### Compute the list of all manufacturers whose `\"Real-World Comb MPG\"` was higher than 25."
   ]
  },
  {
   "cell_type": "code",
   "execution_count": 3,
   "id": "f4e4b882",
   "metadata": {},
   "outputs": [
    {
     "name": "stdout",
     "output_type": "stream",
     "text": [
      "[['Toyota']\n",
      " ['Nissan-Mitsubishi']\n",
      " ['Honda']\n",
      " ['Hyundai']\n",
      " ['Subaru']\n",
      " ['VW']\n",
      " ['Kia']\n",
      " ['BMW']\n",
      " ['Mazda']]\n"
     ]
    }
   ],
   "source": [
    "# Your code here\n",
    "highMPGBoolArray = mpgData[:,0]>25\n",
    "highMPGoffset = np.argwhere(highMPGBoolArray)\n",
    "highMPGmanufacturers = manufacturer_names[highMPGoffset]\n",
    "print(highMPGmanufacturers)"
   ]
  },
  {
   "cell_type": "markdown",
   "id": "19b93aa3",
   "metadata": {},
   "source": [
    "### Find the list of all manufacturers whose real-world comb MPG was higher that 25 AND whose 0-60 time is less than 8 seconds"
   ]
  },
  {
   "cell_type": "code",
   "execution_count": 4,
   "id": "14c1adbb",
   "metadata": {},
   "outputs": [
    {
     "name": "stdout",
     "output_type": "stream",
     "text": [
      "[['VW']\n",
      " ['BMW']]\n"
     ]
    }
   ],
   "source": [
    "# Your code here\n",
    "accBoolArray = mpgData[:,4]<8\n",
    "bothBoolArray= highMPGBoolArray & accBoolArray\n",
    "bothOffset = np.argwhere(bothBoolArray)\n",
    "bothManufacturers = manufacturer_names[bothOffset]\n",
    "print(bothManufacturers)"
   ]
  },
  {
   "cell_type": "markdown",
   "id": "ef5e8d44",
   "metadata": {},
   "source": [
    "### What was the HP for GM vehicles?"
   ]
  },
  {
   "cell_type": "code",
   "execution_count": 5,
   "id": "c2bb6abb",
   "metadata": {},
   "outputs": [
    {
     "name": "stdout",
     "output_type": "stream",
     "text": [
      "The horsepower of a GM is 265HP.\n"
     ]
    }
   ],
   "source": [
    "# Your code here\n",
    "hpVarBoolArray = data_var_names == \"HP\"\n",
    "# print(hpBoolArray)\n",
    "GMVarBoolArray = manufacturer_names == \"GM\"\n",
    "# print(GMBoolArray)\n",
    "GMHP = int(mpgData[GMVarBoolArray,hpVarBoolArray])\n",
    "\n",
    "print(f'The horsepower of a GM is {GMHP}HP.')"
   ]
  },
  {
   "cell_type": "markdown",
   "id": "5ac98492",
   "metadata": {},
   "source": [
    "### What were the real-world comb MPG and weight for VW?"
   ]
  },
  {
   "cell_type": "code",
   "execution_count": 6,
   "id": "b71a43a3",
   "metadata": {},
   "outputs": [
    {
     "name": "stdout",
     "output_type": "stream",
     "text": [
      "The MPG of a VW is 26 and the weight is 3894 lbs.\n"
     ]
    }
   ],
   "source": [
    "# Your code here\n",
    "MPGVarBoolArray = data_var_names == \"Real-World Comb MPG\"\n",
    "WeightVarBoolArray = data_var_names == \"Weight (lbs)\"\n",
    "\n",
    "VWVarBoolArray = manufacturer_names == \"VW\"\n",
    "\n",
    "VWMPG = int(mpgData[VWVarBoolArray,MPGVarBoolArray])\n",
    "VWWeight = int(mpgData[VWVarBoolArray,WeightVarBoolArray])\n",
    "\n",
    "print(f'The MPG of a VW is {VWMPG} and the weight is {VWWeight} lbs.')"
   ]
  },
  {
   "cell_type": "markdown",
   "id": "63cfd83a",
   "metadata": {},
   "source": [
    "### Create a Numpy array that has the real-world comb MPG, weight and 0-60 time (in that order) for Ford, VW and Honda (in that order)"
   ]
  },
  {
   "cell_type": "code",
   "execution_count": 7,
   "id": "77cf6d66",
   "metadata": {},
   "outputs": [
    {
     "data": {
      "text/plain": [
       "array([[  22, 4360,    7],\n",
       "       [  26, 3894,    7],\n",
       "       [  29, 3595,    8]])"
      ]
     },
     "execution_count": 7,
     "metadata": {},
     "output_type": "execute_result"
    }
   ],
   "source": [
    "# Your code here\n",
    "\n",
    "FordVarBoolArray = manufacturer_names == \"Ford\"\n",
    "#VWVarBoolArray = manufacturer_names == \"VW\"\n",
    "HondaVarBoolArray = manufacturer_names == \"Honda\"\n",
    "\n",
    "#MPGVarBoolArray = data_var_names == \"Real-World Comb MPG\"\n",
    "#WeightVarBoolArray = data_var_names == \"Weight (lbs)\"\n",
    "accVarBoolArray = data_var_names == \"0-60 Time (s)\"\n",
    "\n",
    "carArray = np.array([[int(mpgData[FordVarBoolArray,MPGVarBoolArray]), \n",
    "                 int(mpgData[FordVarBoolArray,WeightVarBoolArray]), \n",
    "                 int(mpgData[FordVarBoolArray,accVarBoolArray])], \n",
    "                [int(mpgData[VWVarBoolArray,MPGVarBoolArray]),\n",
    "                 int(mpgData[VWVarBoolArray,WeightVarBoolArray]), \n",
    "                 int(mpgData[VWVarBoolArray,accVarBoolArray])],\n",
    "               [int(mpgData[HondaVarBoolArray,MPGVarBoolArray]),\n",
    "                 int(mpgData[HondaVarBoolArray,WeightVarBoolArray]), \n",
    "                 int(mpgData[HondaVarBoolArray,accVarBoolArray])]])\n",
    "\n",
    "carArray"
   ]
  }
 ],
 "metadata": {
  "kernelspec": {
   "display_name": "Python 3 (ipykernel)",
   "language": "python",
   "name": "python3"
  },
  "language_info": {
   "codemirror_mode": {
    "name": "ipython",
    "version": 3
   },
   "file_extension": ".py",
   "mimetype": "text/x-python",
   "name": "python",
   "nbconvert_exporter": "python",
   "pygments_lexer": "ipython3",
   "version": "3.11.5"
  }
 },
 "nbformat": 4,
 "nbformat_minor": 5
}
