{
 "cells": [
  {
   "cell_type": "markdown",
   "id": "dc9b5e2a",
   "metadata": {},
   "source": [
    "## Unit 5 Scipy Quiz\n",
    "* The objective of this quiz is for you to write code that uses the optimization methods in scipy.\n",
    "* Consider the function $f(x) = x^2 + 10 \\sin(x)$\n",
    "* Find the minimum value of $f(x)$ and the minimizing $x = x_{min}$ i.e. $f(x_{min})$ is a minimum.\n",
    "\n",
    "* You should organize your code appropriately to show a clean and thoughtful design.\n",
    "    * Use functions as needed.\n",
    "    * Break up into cells so smaller pieces can be easily tested.\n",
    "    * Add the appropriate documentation to make your code comprehensible."
   ]
  },
  {
   "cell_type": "code",
   "execution_count": 1,
   "id": "c194bcd6",
   "metadata": {},
   "outputs": [],
   "source": [
    "# Write the code for your program below."
   ]
  },
  {
   "cell_type": "code",
   "execution_count": 2,
   "id": "4a5221ce-d733-4154-b9fb-38a7d9b9d35e",
   "metadata": {},
   "outputs": [],
   "source": [
    "# Import Packages\n",
    "from scipy.optimize import minimize_scalar\n",
    "import numpy as np"
   ]
  },
  {
   "cell_type": "code",
   "execution_count": 3,
   "id": "9ac64c0e",
   "metadata": {},
   "outputs": [],
   "source": [
    "# Define Function\n",
    "def f(x):\n",
    "    return x**2 + 10*np.sin(x)"
   ]
  },
  {
   "cell_type": "code",
   "execution_count": 8,
   "id": "e8d9ae93",
   "metadata": {},
   "outputs": [],
   "source": [
    "# Initial guess\n",
    "initialGuess = 0.0\n",
    "\n",
    "# Use minimize to find the minimum of f(x)\n",
    "res = minimize_scalar(f)"
   ]
  },
  {
   "cell_type": "code",
   "execution_count": 9,
   "id": "6a91f800",
   "metadata": {},
   "outputs": [
    {
     "name": "stdout",
     "output_type": "stream",
     "text": [
      "The x,y coordinates at the minimum value of f(x) are (-1.306, -7.946).\n"
     ]
    }
   ],
   "source": [
    "# Extract the x,y values at the minimum value of f(x)\n",
    "xMinimum = round(res.x,3)\n",
    "yMinimum = round(res.fun,3)\n",
    "\n",
    "print(f'The x,y coordinates at the minimum value of f(x) are ({xMinimum}, {yMinimum}).')\n"
   ]
  }
 ],
 "metadata": {
  "kernelspec": {
   "display_name": "Python 3 (ipykernel)",
   "language": "python",
   "name": "python3"
  },
  "language_info": {
   "codemirror_mode": {
    "name": "ipython",
    "version": 3
   },
   "file_extension": ".py",
   "mimetype": "text/x-python",
   "name": "python",
   "nbconvert_exporter": "python",
   "pygments_lexer": "ipython3",
   "version": "3.11.5"
  }
 },
 "nbformat": 4,
 "nbformat_minor": 5
}
