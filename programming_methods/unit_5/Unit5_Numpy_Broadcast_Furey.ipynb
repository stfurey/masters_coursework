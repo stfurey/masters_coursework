{
 "cells": [
  {
   "cell_type": "markdown",
   "id": "8fb72e31",
   "metadata": {},
   "source": [
    "## Unit 5 Numpy_Broadcast Quiz\n",
    "* The objective of this quiz is to understand how to use how broadcasting works with Numpy arrays."
   ]
  },
  {
   "cell_type": "code",
   "execution_count": 1,
   "id": "7fae945f",
   "metadata": {
    "tags": []
   },
   "outputs": [
    {
     "name": "stdout",
     "output_type": "stream",
     "text": [
      "Numpy version is 1.24.3\n"
     ]
    }
   ],
   "source": [
    "## Import Numpy and check version\n",
    "import numpy as np\n",
    "print(f\"Numpy version is {np.__version__}\")\n",
    "import pickle\n",
    "import comp116"
   ]
  },
  {
   "cell_type": "markdown",
   "id": "757c3bc7",
   "metadata": {},
   "source": [
    "## Broadcasting is a feature of Numpy arrays that allows arithmetic operations between arrays that are not necessarily of compatible dimension for the computation.\n",
    "* During such an operation, the arrays are \"broadcast\" to a certain size that makes the operartion possible.\n",
    "* Knowledge of broadcasting is useful in a number of places, for example deep learning methids."
   ]
  },
  {
   "cell_type": "markdown",
   "id": "f4633495-8623-41f3-99bf-4f9e1c590508",
   "metadata": {},
   "source": [
    "## Create  a Numpy array `A` as a (3, 3) array of random integers."
   ]
  },
  {
   "cell_type": "code",
   "execution_count": 2,
   "id": "77cf6d66",
   "metadata": {
    "tags": []
   },
   "outputs": [
    {
     "name": "stdout",
     "output_type": "stream",
     "text": [
      "[[862  63 914]\n",
      " [649 261 718]\n",
      " [201 170 972]]\n"
     ]
    }
   ],
   "source": [
    "# Your code here\n",
    "my_rng = np.random.default_rng()\n",
    "\n",
    "A = my_rng.integers(0,1000,(3,3))\n",
    "print(A)"
   ]
  },
  {
   "cell_type": "markdown",
   "id": "c3b1ce6a-67e1-4d64-a71b-37f4e695d6a3",
   "metadata": {},
   "source": [
    "## Create a second numpy array, `b` of size (3,) of random integers."
   ]
  },
  {
   "cell_type": "code",
   "execution_count": 3,
   "id": "6ed21e4a-1ae9-48dc-91d5-332bf7ebab99",
   "metadata": {
    "tags": []
   },
   "outputs": [
    {
     "name": "stdout",
     "output_type": "stream",
     "text": [
      "[199 161 652]\n"
     ]
    }
   ],
   "source": [
    "# Your code here\n",
    "b = my_rng.integers(0,1000,(3,))\n",
    "print(b)"
   ]
  },
  {
   "cell_type": "markdown",
   "id": "2e776ac1-0f55-4edb-b885-f02662f56504",
   "metadata": {},
   "source": [
    "## Perform the operation `A*b`"
   ]
  },
  {
   "cell_type": "code",
   "execution_count": 4,
   "id": "f42c9b1f-a211-4b49-a2c5-f3970275fdf1",
   "metadata": {
    "tags": []
   },
   "outputs": [
    {
     "name": "stdout",
     "output_type": "stream",
     "text": [
      "[[171538  10143 595928]\n",
      " [129151  42021 468136]\n",
      " [ 39999  27370 633744]]\n"
     ]
    }
   ],
   "source": [
    "# Your code below\n",
    "Ab = A*b\n",
    "print(Ab)"
   ]
  },
  {
   "cell_type": "markdown",
   "id": "7061a3f7-4e03-4cab-93cb-d80669ee16d3",
   "metadata": {
    "tags": []
   },
   "source": [
    "## Explain why it was possible to compute `A*b` in the above case. \n",
    "* As part of your explanation, show the broadcast versions of `A` and `b`"
   ]
  },
  {
   "cell_type": "markdown",
   "id": "2d664b45-550d-4237-a8d8-dde5c16caea7",
   "metadata": {},
   "source": [
    "### Explanation here.\n",
    "It is easy to multiply them because A.y and b.x have the same number or measurements and b.y is 1 so it can be repeated to fit A.x."
   ]
  },
  {
   "cell_type": "markdown",
   "id": "68923ee1-b4b2-44cb-a597-09c1687efad3",
   "metadata": {},
   "source": [
    "## Now create a third array `c` that is a (2,) array of random integers."
   ]
  },
  {
   "cell_type": "code",
   "execution_count": 5,
   "id": "dc9edde4-2a86-47f7-98d4-e7147d472ce0",
   "metadata": {
    "tags": []
   },
   "outputs": [
    {
     "name": "stdout",
     "output_type": "stream",
     "text": [
      "[813 689]\n"
     ]
    }
   ],
   "source": [
    "# Your code here\n",
    "c = my_rng.integers(0,1000,(2,))\n",
    "print(c)"
   ]
  },
  {
   "cell_type": "markdown",
   "id": "1c6a8858-ea34-4d0f-b725-be9cafcca73a",
   "metadata": {},
   "source": [
    "## Perform the operation `A*c`"
   ]
  },
  {
   "cell_type": "code",
   "execution_count": 6,
   "id": "e5f3521c-48a8-4d3a-b45f-38de67fef388",
   "metadata": {
    "tags": []
   },
   "outputs": [
    {
     "ename": "ValueError",
     "evalue": "operands could not be broadcast together with shapes (3,3) (2,) ",
     "output_type": "error",
     "traceback": [
      "\u001b[1;31m---------------------------------------------------------------------------\u001b[0m",
      "\u001b[1;31mValueError\u001b[0m                                Traceback (most recent call last)",
      "Cell \u001b[1;32mIn[6], line 2\u001b[0m\n\u001b[0;32m      1\u001b[0m \u001b[38;5;66;03m# Your code here\u001b[39;00m\n\u001b[1;32m----> 2\u001b[0m Ac \u001b[38;5;241m=\u001b[39m A\u001b[38;5;241m*\u001b[39mc\n\u001b[0;32m      3\u001b[0m \u001b[38;5;28mprint\u001b[39m(Ac)\n",
      "\u001b[1;31mValueError\u001b[0m: operands could not be broadcast together with shapes (3,3) (2,) "
     ]
    }
   ],
   "source": [
    "# Your code here\n",
    "Ac = A*c\n",
    "print(Ac)"
   ]
  },
  {
   "cell_type": "markdown",
   "id": "3084d4cd-7dca-48a8-b006-752ce9c81b3a",
   "metadata": {},
   "source": [
    "## Explain, in terms of broadcasting, why it was not possible to compute `A*c`"
   ]
  },
  {
   "cell_type": "markdown",
   "id": "cb9bea9c-86f6-4bc5-a7db-e85a60bc218a",
   "metadata": {},
   "source": [
    "### Your explanation here.\n",
    "Although c.y is 1 making A.x irrelevant, c.x = 2 and A.y = 3 are different and neither is 1 making multiplication between the two arrays impossible. There is no way to choose which numbers in each array multiply each number in the other array nor is it possible to determine the shape of the output array."
   ]
  },
  {
   "cell_type": "code",
   "execution_count": null,
   "id": "b5076125",
   "metadata": {},
   "outputs": [],
   "source": []
  }
 ],
 "metadata": {
  "kernelspec": {
   "display_name": "Python 3 (ipykernel)",
   "language": "python",
   "name": "python3"
  },
  "language_info": {
   "codemirror_mode": {
    "name": "ipython",
    "version": 3
   },
   "file_extension": ".py",
   "mimetype": "text/x-python",
   "name": "python",
   "nbconvert_exporter": "python",
   "pygments_lexer": "ipython3",
   "version": "3.11.5"
  }
 },
 "nbformat": 4,
 "nbformat_minor": 5
}
