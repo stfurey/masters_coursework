{
 "cells": [
  {
   "cell_type": "markdown",
   "id": "2b138be1",
   "metadata": {},
   "source": [
    "## Unit 5 Numpy_Random_Matrix Quiz\n",
    "* The objective of this quiz is to use Numpy for generating random values and look at simple array manipulation."
   ]
  },
  {
   "cell_type": "code",
   "execution_count": 1,
   "id": "ecd853d7",
   "metadata": {},
   "outputs": [
    {
     "name": "stdout",
     "output_type": "stream",
     "text": [
      "Numpy version is 1.24.3\n"
     ]
    }
   ],
   "source": [
    "## Import Numpy and check version\n",
    "import numpy as np\n",
    "print(f\"Numpy version is {np.__version__}\")"
   ]
  },
  {
   "cell_type": "markdown",
   "id": "b42e7de0",
   "metadata": {},
   "source": [
    "### Random numbers are frequently used in Data Science.\n",
    "* Generating random numbers (or rather pseudo-random numbers) is an important function.\n",
    "* Numpy provides a random number module called `numpy.random`.\n",
    "* You can learn more about generating random numbers [here](https://numpy.org/doc/stable/reference/random/index.html) and [here](https://numpy.org/doc/stable/reference/random/generated/numpy.random.Generator.random.html#numpy.random.Generator.random)."
   ]
  },
  {
   "cell_type": "markdown",
   "id": "1bffb647",
   "metadata": {},
   "source": [
    "### Create a random number generator called `my_rng` using the `default_rng()` method in `np.random`. Use the default seed."
   ]
  },
  {
   "cell_type": "code",
   "execution_count": 2,
   "id": "696d68d1",
   "metadata": {},
   "outputs": [],
   "source": [
    "# Write your code below.\n",
    "my_rng = np.random.default_rng()"
   ]
  },
  {
   "cell_type": "markdown",
   "id": "b151b270",
   "metadata": {},
   "source": [
    "### Now use `my_rng` to generate a 3X3 numpy array of random values.\n",
    "* Print out this array"
   ]
  },
  {
   "cell_type": "code",
   "execution_count": 3,
   "id": "d9e15e17",
   "metadata": {},
   "outputs": [
    {
     "name": "stdout",
     "output_type": "stream",
     "text": [
      "[[0.12153234 0.34850728 0.40522124]\n",
      " [0.85372888 0.83941921 0.41319377]\n",
      " [0.95258223 0.56607472 0.41642878]]\n"
     ]
    }
   ],
   "source": [
    "# Write your code below.\n",
    "randomArray = my_rng.random((3, 3))\n",
    "#array = np.array(my_rng)\n",
    "print(randomArray)"
   ]
  },
  {
   "cell_type": "markdown",
   "id": "04c7973f",
   "metadata": {},
   "source": [
    "### What is the distribution of the random numbers generated and what is the range?\n",
    "* This is not something to be computed, simply look up this information in the [`np.random` web page](https://numpy.org/doc/stable/reference/random/generated/numpy.random.rand.html)."
   ]
  },
  {
   "cell_type": "markdown",
   "id": "ef753b8c",
   "metadata": {},
   "source": [
    "#### Answer below.\n",
    "Uniform distribution from 0 to 1, not including 1."
   ]
  },
  {
   "cell_type": "markdown",
   "id": "a536b7dd",
   "metadata": {},
   "source": [
    "### Use the Numpy array created above to create a second Numpy array of random numbers that is between -10.0 and 10.0.\n",
    "* This question requires you to figure out the mapping that will convert a set of random numbers that are distributed as found in the previous question to have the range from -10.0 to 10.0.\n",
    "* The form of the distributon does not change."
   ]
  },
  {
   "cell_type": "code",
   "execution_count": 4,
   "id": "062efd7f",
   "metadata": {},
   "outputs": [
    {
     "name": "stdout",
     "output_type": "stream",
     "text": [
      "[[-0.63400526 -7.69523221 -3.43158598]\n",
      " [-1.27280838 -3.93746012  5.11457234]\n",
      " [ 4.91233085  3.28349324 -3.55221197]]\n"
     ]
    }
   ],
   "source": [
    "# Show your code below.\n",
    "randomArray2 = my_rng.uniform(-10, 10, (3, 3))\n",
    "print(randomArray2)"
   ]
  },
  {
   "cell_type": "markdown",
   "id": "12eca1f5",
   "metadata": {},
   "source": [
    "### `np.random` can also generate random integers. Generate a 3X3 array of random integers between 0 and 10."
   ]
  },
  {
   "cell_type": "code",
   "execution_count": 5,
   "id": "fc12c7c6",
   "metadata": {},
   "outputs": [
    {
     "name": "stdout",
     "output_type": "stream",
     "text": [
      "[[1 2 1]\n",
      " [6 9 9]\n",
      " [9 4 9]]\n"
     ]
    }
   ],
   "source": [
    "# Your code here.\n",
    "randomArray3 = my_rng.integers(0,10,(3,3))\n",
    "print(randomArray3)"
   ]
  },
  {
   "cell_type": "markdown",
   "id": "3999c2c2",
   "metadata": {},
   "source": [
    "### `np.random` can also generate various common distributions. Generate a 3X3 array of numbers from a normal distribution with mean 10 and standard deviation 2."
   ]
  },
  {
   "cell_type": "code",
   "execution_count": 6,
   "id": "60cd8b2b",
   "metadata": {},
   "outputs": [
    {
     "name": "stdout",
     "output_type": "stream",
     "text": [
      "[[12.15834982  9.92082819  6.9701669 ]\n",
      " [ 9.84395549 12.72468771 12.80647828]\n",
      " [ 9.10721126  8.32510045  9.94014137]]\n"
     ]
    }
   ],
   "source": [
    "# Your code here\n",
    "randomArray4 = my_rng.normal(10,2,(3,3))\n",
    "print(randomArray4)"
   ]
  },
  {
   "cell_type": "markdown",
   "id": "41d5bab2",
   "metadata": {},
   "source": [
    "### Call the 3X3 matrix of normal random variables generated in the last step `gm3`.\n",
    "* Use Numpy methods to create two other numpy arrays, `row_sum` and `col_sum`:\n",
    "* `row_sum` should be the length 3 array of the sum of the rows of `gm3`.\n",
    "* `col_sum` should be the length 3 array of the sum of the columns of `gm3`"
   ]
  },
  {
   "cell_type": "code",
   "execution_count": 7,
   "id": "f567b820",
   "metadata": {},
   "outputs": [
    {
     "name": "stdout",
     "output_type": "stream",
     "text": [
      "The row sums are [29.04934491 35.37512148 27.37245308] and the column sums are [31.10951657 30.97061635 29.71678656].\n"
     ]
    }
   ],
   "source": [
    "# Your code here\n",
    "row_sum = np.sum(randomArray4, axis=1)\n",
    "col_sum = np.sum(randomArray4, axis=0)\n",
    "print(f'The row sums are {row_sum} and the column sums are {col_sum}.')"
   ]
  }
 ],
 "metadata": {
  "kernelspec": {
   "display_name": "Python 3 (ipykernel)",
   "language": "python",
   "name": "python3"
  },
  "language_info": {
   "codemirror_mode": {
    "name": "ipython",
    "version": 3
   },
   "file_extension": ".py",
   "mimetype": "text/x-python",
   "name": "python",
   "nbconvert_exporter": "python",
   "pygments_lexer": "ipython3",
   "version": "3.11.5"
  }
 },
 "nbformat": 4,
 "nbformat_minor": 5
}
