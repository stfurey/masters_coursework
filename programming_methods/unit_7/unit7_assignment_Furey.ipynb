{
 "cells": [
  {
   "cell_type": "markdown",
   "id": "d65c0d7a",
   "metadata": {},
   "source": [
    "# Assignment 7: analyzing a messy dataset"
   ]
  },
  {
   "cell_type": "code",
   "execution_count": 1,
   "id": "f42bbf14",
   "metadata": {},
   "outputs": [],
   "source": [
    "import numpy as np\n",
    "import pandas as pd\n",
    "import matplotlib.pyplot as plt\n",
    "import seaborn as sns\n",
    "import warnings\n",
    "warnings.filterwarnings(\"ignore\")"
   ]
  },
  {
   "cell_type": "markdown",
   "id": "a5d4b8d9",
   "metadata": {},
   "source": [
    "## Reading in the data\n",
    "Set the variable `sales_df` to a Pandas DataFrame from the `Real_Estate_Sales_2001-2020_GL.csv` file and display the first 5 rows. <br /> **Note:** This is a fairly large dataset, so when you call the function to read in the file, add the argument `low_memory=False`."
   ]
  },
  {
   "cell_type": "code",
   "execution_count": 2,
   "id": "675948fb",
   "metadata": {},
   "outputs": [
    {
     "data": {
      "text/html": [
       "<div>\n",
       "<style scoped>\n",
       "    .dataframe tbody tr th:only-of-type {\n",
       "        vertical-align: middle;\n",
       "    }\n",
       "\n",
       "    .dataframe tbody tr th {\n",
       "        vertical-align: top;\n",
       "    }\n",
       "\n",
       "    .dataframe thead th {\n",
       "        text-align: right;\n",
       "    }\n",
       "</style>\n",
       "<table border=\"1\" class=\"dataframe\">\n",
       "  <thead>\n",
       "    <tr style=\"text-align: right;\">\n",
       "      <th></th>\n",
       "      <th>Serial Number</th>\n",
       "      <th>List Year</th>\n",
       "      <th>Date Recorded</th>\n",
       "      <th>Town</th>\n",
       "      <th>Address</th>\n",
       "      <th>Assessed Value</th>\n",
       "      <th>Sale Amount</th>\n",
       "      <th>Sales Ratio</th>\n",
       "      <th>Property Type</th>\n",
       "      <th>Residential Type</th>\n",
       "      <th>Non Use Code</th>\n",
       "      <th>Assessor Remarks</th>\n",
       "      <th>OPM remarks</th>\n",
       "      <th>Location</th>\n",
       "    </tr>\n",
       "  </thead>\n",
       "  <tbody>\n",
       "    <tr>\n",
       "      <th>0</th>\n",
       "      <td>2020348</td>\n",
       "      <td>2020</td>\n",
       "      <td>09/13/2021</td>\n",
       "      <td>Ansonia</td>\n",
       "      <td>230 WAKELEE AVE</td>\n",
       "      <td>150500.0</td>\n",
       "      <td>325000.0</td>\n",
       "      <td>0.4630</td>\n",
       "      <td>Commercial</td>\n",
       "      <td>NaN</td>\n",
       "      <td>NaN</td>\n",
       "      <td>NaN</td>\n",
       "      <td>NaN</td>\n",
       "      <td>NaN</td>\n",
       "    </tr>\n",
       "    <tr>\n",
       "      <th>1</th>\n",
       "      <td>20002</td>\n",
       "      <td>2020</td>\n",
       "      <td>10/02/2020</td>\n",
       "      <td>Ashford</td>\n",
       "      <td>390 TURNPIKE RD</td>\n",
       "      <td>253000.0</td>\n",
       "      <td>430000.0</td>\n",
       "      <td>0.5883</td>\n",
       "      <td>Residential</td>\n",
       "      <td>Single Family</td>\n",
       "      <td>NaN</td>\n",
       "      <td>NaN</td>\n",
       "      <td>NaN</td>\n",
       "      <td>NaN</td>\n",
       "    </tr>\n",
       "    <tr>\n",
       "      <th>2</th>\n",
       "      <td>200212</td>\n",
       "      <td>2020</td>\n",
       "      <td>03/09/2021</td>\n",
       "      <td>Avon</td>\n",
       "      <td>5 CHESTNUT DRIVE</td>\n",
       "      <td>130400.0</td>\n",
       "      <td>179900.0</td>\n",
       "      <td>0.7248</td>\n",
       "      <td>Residential</td>\n",
       "      <td>Condo</td>\n",
       "      <td>NaN</td>\n",
       "      <td>NaN</td>\n",
       "      <td>NaN</td>\n",
       "      <td>NaN</td>\n",
       "    </tr>\n",
       "    <tr>\n",
       "      <th>3</th>\n",
       "      <td>200243</td>\n",
       "      <td>2020</td>\n",
       "      <td>04/13/2021</td>\n",
       "      <td>Avon</td>\n",
       "      <td>111 NORTHINGTON DRIVE</td>\n",
       "      <td>619290.0</td>\n",
       "      <td>890000.0</td>\n",
       "      <td>0.6958</td>\n",
       "      <td>Residential</td>\n",
       "      <td>Single Family</td>\n",
       "      <td>NaN</td>\n",
       "      <td>NaN</td>\n",
       "      <td>NaN</td>\n",
       "      <td>NaN</td>\n",
       "    </tr>\n",
       "    <tr>\n",
       "      <th>4</th>\n",
       "      <td>200377</td>\n",
       "      <td>2020</td>\n",
       "      <td>07/02/2021</td>\n",
       "      <td>Avon</td>\n",
       "      <td>70 FAR HILLS DRIVE</td>\n",
       "      <td>862330.0</td>\n",
       "      <td>1447500.0</td>\n",
       "      <td>0.5957</td>\n",
       "      <td>Residential</td>\n",
       "      <td>Single Family</td>\n",
       "      <td>NaN</td>\n",
       "      <td>NaN</td>\n",
       "      <td>NaN</td>\n",
       "      <td>NaN</td>\n",
       "    </tr>\n",
       "  </tbody>\n",
       "</table>\n",
       "</div>"
      ],
      "text/plain": [
       "   Serial Number  List Year Date Recorded     Town                Address  \\\n",
       "0        2020348       2020    09/13/2021  Ansonia        230 WAKELEE AVE   \n",
       "1          20002       2020    10/02/2020  Ashford        390 TURNPIKE RD   \n",
       "2         200212       2020    03/09/2021     Avon       5 CHESTNUT DRIVE   \n",
       "3         200243       2020    04/13/2021     Avon  111 NORTHINGTON DRIVE   \n",
       "4         200377       2020    07/02/2021     Avon     70 FAR HILLS DRIVE   \n",
       "\n",
       "   Assessed Value  Sale Amount  Sales Ratio Property Type Residential Type  \\\n",
       "0        150500.0     325000.0       0.4630    Commercial              NaN   \n",
       "1        253000.0     430000.0       0.5883   Residential    Single Family   \n",
       "2        130400.0     179900.0       0.7248   Residential            Condo   \n",
       "3        619290.0     890000.0       0.6958   Residential    Single Family   \n",
       "4        862330.0    1447500.0       0.5957   Residential    Single Family   \n",
       "\n",
       "  Non Use Code Assessor Remarks OPM remarks Location  \n",
       "0          NaN              NaN         NaN      NaN  \n",
       "1          NaN              NaN         NaN      NaN  \n",
       "2          NaN              NaN         NaN      NaN  \n",
       "3          NaN              NaN         NaN      NaN  \n",
       "4          NaN              NaN         NaN      NaN  "
      ]
     },
     "execution_count": 2,
     "metadata": {},
     "output_type": "execute_result"
    }
   ],
   "source": [
    "sales_df = pd.read_csv(\"Real_Estate_Sales_2001-2020_GL.csv\")\n",
    "sales_df.head()"
   ]
  },
  {
   "cell_type": "markdown",
   "id": "b44d94f3",
   "metadata": {},
   "source": [
    "## Cleaning up the data\n",
    "For our analysis, we will want to do a breakdown of real estate sales by **year of sale**, **town**, **assessed value**, **sale amount**, and **property type**.\n",
    "\n",
    "1. Removing all the unnecessary columns from `sales_df`. **Hint:** we are interested in year of *sale*, not the year the property was *listed*.\n",
    "2. Change the dtypes for `Assessed Value` and `Sale Amount` to `int`."
   ]
  },
  {
   "cell_type": "code",
   "execution_count": 3,
   "id": "5e017926",
   "metadata": {},
   "outputs": [
    {
     "data": {
      "text/html": [
       "<div>\n",
       "<style scoped>\n",
       "    .dataframe tbody tr th:only-of-type {\n",
       "        vertical-align: middle;\n",
       "    }\n",
       "\n",
       "    .dataframe tbody tr th {\n",
       "        vertical-align: top;\n",
       "    }\n",
       "\n",
       "    .dataframe thead th {\n",
       "        text-align: right;\n",
       "    }\n",
       "</style>\n",
       "<table border=\"1\" class=\"dataframe\">\n",
       "  <thead>\n",
       "    <tr style=\"text-align: right;\">\n",
       "      <th></th>\n",
       "      <th>Date Recorded</th>\n",
       "      <th>Town</th>\n",
       "      <th>Assessed Value</th>\n",
       "      <th>Sale Amount</th>\n",
       "      <th>Property Type</th>\n",
       "    </tr>\n",
       "  </thead>\n",
       "  <tbody>\n",
       "    <tr>\n",
       "      <th>0</th>\n",
       "      <td>09/13/2021</td>\n",
       "      <td>Ansonia</td>\n",
       "      <td>150500</td>\n",
       "      <td>325000</td>\n",
       "      <td>Commercial</td>\n",
       "    </tr>\n",
       "    <tr>\n",
       "      <th>1</th>\n",
       "      <td>10/02/2020</td>\n",
       "      <td>Ashford</td>\n",
       "      <td>253000</td>\n",
       "      <td>430000</td>\n",
       "      <td>Residential</td>\n",
       "    </tr>\n",
       "    <tr>\n",
       "      <th>2</th>\n",
       "      <td>03/09/2021</td>\n",
       "      <td>Avon</td>\n",
       "      <td>130400</td>\n",
       "      <td>179900</td>\n",
       "      <td>Residential</td>\n",
       "    </tr>\n",
       "    <tr>\n",
       "      <th>3</th>\n",
       "      <td>04/13/2021</td>\n",
       "      <td>Avon</td>\n",
       "      <td>619290</td>\n",
       "      <td>890000</td>\n",
       "      <td>Residential</td>\n",
       "    </tr>\n",
       "    <tr>\n",
       "      <th>4</th>\n",
       "      <td>07/02/2021</td>\n",
       "      <td>Avon</td>\n",
       "      <td>862330</td>\n",
       "      <td>1447500</td>\n",
       "      <td>Residential</td>\n",
       "    </tr>\n",
       "  </tbody>\n",
       "</table>\n",
       "</div>"
      ],
      "text/plain": [
       "  Date Recorded     Town  Assessed Value  Sale Amount Property Type\n",
       "0    09/13/2021  Ansonia          150500       325000    Commercial\n",
       "1    10/02/2020  Ashford          253000       430000   Residential\n",
       "2    03/09/2021     Avon          130400       179900   Residential\n",
       "3    04/13/2021     Avon          619290       890000   Residential\n",
       "4    07/02/2021     Avon          862330      1447500   Residential"
      ]
     },
     "execution_count": 3,
     "metadata": {},
     "output_type": "execute_result"
    }
   ],
   "source": [
    "sales_df = sales_df.drop(columns=[\"Serial Number\", \"Address\", \"Sales Ratio\", \"Residential Type\", \"List Year\", \"Non Use Code\", \"Assessor Remarks\", \"OPM remarks\", \"Location\"])\n",
    "sales_df[\"Assessed Value\"] = sales_df[\"Assessed Value\"].astype(int)\n",
    "sales_df[\"Sale Amount\"] = sales_df[\"Sale Amount\"].astype(int)\n",
    "\n",
    "sales_df.head()"
   ]
  },
  {
   "cell_type": "markdown",
   "id": "41cf0afd",
   "metadata": {},
   "source": [
    "Display how many values in each column are `NaN`. This does not need to be saved as a variable. **Hint:** a function that results in a boolean can be chained with the `sum()` function to get a count."
   ]
  },
  {
   "cell_type": "code",
   "execution_count": 4,
   "id": "f116b2e8",
   "metadata": {},
   "outputs": [
    {
     "data": {
      "text/plain": [
       "Date Recorded          2\n",
       "Town                   0\n",
       "Assessed Value         0\n",
       "Sale Amount            0\n",
       "Property Type     382446\n",
       "dtype: int64"
      ]
     },
     "execution_count": 4,
     "metadata": {},
     "output_type": "execute_result"
    }
   ],
   "source": [
    "sales_df.isna().sum()"
   ]
  },
  {
   "cell_type": "markdown",
   "id": "6362506f",
   "metadata": {},
   "source": [
    "We need to extract the year the property was sold.\n",
    "1. Remove any row with a `NaN`.\n",
    "2. Set the variable `year_sold` to a list of years (as integers) extracted from the `Date Recorded` column.\n",
    "3. Add a new column named `Year Sold` for those data."
   ]
  },
  {
   "cell_type": "code",
   "execution_count": 5,
   "id": "60de8092",
   "metadata": {
    "scrolled": true
   },
   "outputs": [
    {
     "data": {
      "text/html": [
       "<div>\n",
       "<style scoped>\n",
       "    .dataframe tbody tr th:only-of-type {\n",
       "        vertical-align: middle;\n",
       "    }\n",
       "\n",
       "    .dataframe tbody tr th {\n",
       "        vertical-align: top;\n",
       "    }\n",
       "\n",
       "    .dataframe thead th {\n",
       "        text-align: right;\n",
       "    }\n",
       "</style>\n",
       "<table border=\"1\" class=\"dataframe\">\n",
       "  <thead>\n",
       "    <tr style=\"text-align: right;\">\n",
       "      <th></th>\n",
       "      <th>Date Recorded</th>\n",
       "      <th>Town</th>\n",
       "      <th>Assessed Value</th>\n",
       "      <th>Sale Amount</th>\n",
       "      <th>Property Type</th>\n",
       "      <th>Year Sold</th>\n",
       "    </tr>\n",
       "  </thead>\n",
       "  <tbody>\n",
       "    <tr>\n",
       "      <th>0</th>\n",
       "      <td>09/13/2021</td>\n",
       "      <td>Ansonia</td>\n",
       "      <td>150500</td>\n",
       "      <td>325000</td>\n",
       "      <td>Commercial</td>\n",
       "      <td>2021</td>\n",
       "    </tr>\n",
       "    <tr>\n",
       "      <th>1</th>\n",
       "      <td>10/02/2020</td>\n",
       "      <td>Ashford</td>\n",
       "      <td>253000</td>\n",
       "      <td>430000</td>\n",
       "      <td>Residential</td>\n",
       "      <td>2020</td>\n",
       "    </tr>\n",
       "    <tr>\n",
       "      <th>2</th>\n",
       "      <td>03/09/2021</td>\n",
       "      <td>Avon</td>\n",
       "      <td>130400</td>\n",
       "      <td>179900</td>\n",
       "      <td>Residential</td>\n",
       "      <td>2021</td>\n",
       "    </tr>\n",
       "    <tr>\n",
       "      <th>3</th>\n",
       "      <td>04/13/2021</td>\n",
       "      <td>Avon</td>\n",
       "      <td>619290</td>\n",
       "      <td>890000</td>\n",
       "      <td>Residential</td>\n",
       "      <td>2021</td>\n",
       "    </tr>\n",
       "    <tr>\n",
       "      <th>4</th>\n",
       "      <td>07/02/2021</td>\n",
       "      <td>Avon</td>\n",
       "      <td>862330</td>\n",
       "      <td>1447500</td>\n",
       "      <td>Residential</td>\n",
       "      <td>2021</td>\n",
       "    </tr>\n",
       "  </tbody>\n",
       "</table>\n",
       "</div>"
      ],
      "text/plain": [
       "  Date Recorded     Town  Assessed Value  Sale Amount Property Type Year Sold\n",
       "0    09/13/2021  Ansonia          150500       325000    Commercial      2021\n",
       "1    10/02/2020  Ashford          253000       430000   Residential      2020\n",
       "2    03/09/2021     Avon          130400       179900   Residential      2021\n",
       "3    04/13/2021     Avon          619290       890000   Residential      2021\n",
       "4    07/02/2021     Avon          862330      1447500   Residential      2021"
      ]
     },
     "execution_count": 5,
     "metadata": {},
     "output_type": "execute_result"
    }
   ],
   "source": [
    "sales_df = sales_df.dropna()\n",
    "sales_df[\"Year Sold\"] = [date[-4:] for date in sales_df[\"Date Recorded\"]]\n",
    "\n",
    "sales_df.head()"
   ]
  },
  {
   "cell_type": "markdown",
   "id": "f5bf7f19",
   "metadata": {},
   "source": [
    "Let's get an overview of the `Sale Amount` data. Use the Seaborn package to create a scatter plot of `Sale Amount` as a function of `Year Sold`."
   ]
  },
  {
   "cell_type": "code",
   "execution_count": 6,
   "id": "52e5ceab",
   "metadata": {},
   "outputs": [
    {
     "data": {
      "image/png": "[encoded data removed]",
      "text/plain": [
       "<Figure size 640x480 with 1 Axes>"
      ]
     },
     "metadata": {},
     "output_type": "display_data"
    }
   ],
   "source": [
    "sns.scatterplot(x=\"Year Sold\", y=\"Sale Amount\", data=sales_df)\n",
    "\n",
    "plt.show()"
   ]
  },
  {
   "cell_type": "markdown",
   "id": "702f76aa",
   "metadata": {},
   "source": [
    "The data appear squashed because of an outlier. Display the outliers by returning rows from `sales_df` that have `Sale Amount` values **greater than 1e9**. You do not need to save this as a new variable"
   ]
  },
  {
   "cell_type": "code",
   "execution_count": 7,
   "id": "7349a248",
   "metadata": {},
   "outputs": [
    {
     "data": {
      "text/html": [
       "<div>\n",
       "<style scoped>\n",
       "    .dataframe tbody tr th:only-of-type {\n",
       "        vertical-align: middle;\n",
       "    }\n",
       "\n",
       "    .dataframe tbody tr th {\n",
       "        vertical-align: top;\n",
       "    }\n",
       "\n",
       "    .dataframe thead th {\n",
       "        text-align: right;\n",
       "    }\n",
       "</style>\n",
       "<table border=\"1\" class=\"dataframe\">\n",
       "  <thead>\n",
       "    <tr style=\"text-align: right;\">\n",
       "      <th></th>\n",
       "      <th>Date Recorded</th>\n",
       "      <th>Town</th>\n",
       "      <th>Assessed Value</th>\n",
       "      <th>Sale Amount</th>\n",
       "      <th>Property Type</th>\n",
       "      <th>Year Sold</th>\n",
       "    </tr>\n",
       "  </thead>\n",
       "  <tbody>\n",
       "    <tr>\n",
       "      <th>59835</th>\n",
       "      <td>08/19/2021</td>\n",
       "      <td>Willington</td>\n",
       "      <td>2238530</td>\n",
       "      <td>-2147483648</td>\n",
       "      <td>Apartments</td>\n",
       "      <td>2021</td>\n",
       "    </tr>\n",
       "  </tbody>\n",
       "</table>\n",
       "</div>"
      ],
      "text/plain": [
       "      Date Recorded        Town  Assessed Value  Sale Amount Property Type  \\\n",
       "59835    08/19/2021  Willington         2238530  -2147483648    Apartments   \n",
       "\n",
       "      Year Sold  \n",
       "59835      2021  "
      ]
     },
     "execution_count": 7,
     "metadata": {},
     "output_type": "execute_result"
    }
   ],
   "source": [
    "#For some reason the large sale amount went negative\n",
    "sales_df[sales_df[\"Sale Amount\"] < 0]"
   ]
  },
  {
   "cell_type": "markdown",
   "id": "a9b81af9",
   "metadata": {},
   "source": [
    "Let's remove the outlier and then calculate the average property sale price by year since the housing market crash in 2008.\n",
    "1. Remove the outlier from `sales_df`.\n",
    "2. Set a new variable `means_df` to a DataFrame containing the mean sale and assessment values by year.\n",
    "3. Using Matplotlib, create a single figure with two lineplots:\n",
    "    - Grey line plot with circle markers of mean assessment value by year from 2008 to 2021\n",
    "    - Steelblue line plot with square markers of mean sale price by year from 2008 to 2021\n",
    "    - Title the graph \"Comparison of Average Property Values and Sale Prices from 2008 to 2021\"\n",
    "    - Include x- and y-axis labels\n",
    "    - Include a legend with labels tht correspond to the column headers"
   ]
  },
  {
   "cell_type": "code",
   "execution_count": 8,
   "id": "d1abf5d0",
   "metadata": {},
   "outputs": [
    {
     "data": {
      "image/png": "[encoded data removed]",
      "text/plain": [
       "<Figure size 640x480 with 1 Axes>"
      ]
     },
     "metadata": {},
     "output_type": "display_data"
    }
   ],
   "source": [
    "sales_df = sales_df[sales_df[\"Sale Amount\"] > 0]\n",
    "means_df = sales_df[[\"Sale Amount\", \"Assessed Value\"]].groupby(sales_df[\"Year Sold\"]).mean()\n",
    "\n",
    "means_df = means_df[means_df.index.astype(int) >= 2008]\n",
    "\n",
    "plt.plot(means_df.index, means_df['Assessed Value'], color='grey', marker='o', label='Assessment Value')\n",
    "plt.plot(means_df.index, means_df['Sale Amount'], color='steelblue', marker='s', label='Sale Price')\n",
    "\n",
    "plt.title(\"Average Property Values vs Sale Prices from 2008 to 2021\")\n",
    "plt.xlabel(\"Year\")\n",
    "plt.ylabel(\"Value ($)\")\n",
    "plt.legend()\n",
    "plt.xticks(rotation=45)\n",
    "plt.tight_layout()\n",
    "plt.show()"
   ]
  }
 ],
 "metadata": {
  "kernelspec": {
   "display_name": "Python 3 (ipykernel)",
   "language": "python",
   "name": "python3"
  },
  "language_info": {
   "codemirror_mode": {
    "name": "ipython",
    "version": 3
   },
   "file_extension": ".py",
   "mimetype": "text/x-python",
   "name": "python",
   "nbconvert_exporter": "python",
   "pygments_lexer": "ipython3",
   "version": "3.11.5"
  }
 },
 "nbformat": 4,
 "nbformat_minor": 5
}
